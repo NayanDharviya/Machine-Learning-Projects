{
 "cells": [
  {
   "cell_type": "code",
   "execution_count": 1,
   "metadata": {
    "colab": {},
    "colab_type": "code",
    "id": "ZIZRlvT08a97"
   },
   "outputs": [],
   "source": [
    "# Importing essential libraries\n",
    "import numpy as np\n",
    "import pandas as pd"
   ]
  },
  {
   "cell_type": "code",
   "execution_count": 2,
   "metadata": {
    "colab": {},
    "colab_type": "code",
    "id": "o5bUh7Wg9N91"
   },
   "outputs": [],
   "source": [
    "# Loading the dataset\n",
    "df = pd.read_csv(\"glassdoor_jobs.csv\")"
   ]
  },
  {
   "cell_type": "code",
   "execution_count": 3,
   "metadata": {},
   "outputs": [
    {
     "data": {
      "text/html": [
       "<div>\n",
       "<style scoped>\n",
       "    .dataframe tbody tr th:only-of-type {\n",
       "        vertical-align: middle;\n",
       "    }\n",
       "\n",
       "    .dataframe tbody tr th {\n",
       "        vertical-align: top;\n",
       "    }\n",
       "\n",
       "    .dataframe thead th {\n",
       "        text-align: right;\n",
       "    }\n",
       "</style>\n",
       "<table border=\"1\" class=\"dataframe\">\n",
       "  <thead>\n",
       "    <tr style=\"text-align: right;\">\n",
       "      <th></th>\n",
       "      <th>Unnamed: 0</th>\n",
       "      <th>Job Title</th>\n",
       "      <th>Salary Estimate</th>\n",
       "      <th>Job Description</th>\n",
       "      <th>Rating</th>\n",
       "      <th>Company Name</th>\n",
       "      <th>Location</th>\n",
       "      <th>Headquarters</th>\n",
       "      <th>Size</th>\n",
       "      <th>Founded</th>\n",
       "      <th>Type of ownership</th>\n",
       "      <th>Industry</th>\n",
       "      <th>Sector</th>\n",
       "      <th>Revenue</th>\n",
       "      <th>Competitors</th>\n",
       "    </tr>\n",
       "  </thead>\n",
       "  <tbody>\n",
       "    <tr>\n",
       "      <td>0</td>\n",
       "      <td>0</td>\n",
       "      <td>Data Scientist</td>\n",
       "      <td>$53K-$91K (Glassdoor est.)</td>\n",
       "      <td>Data Scientist\\nLocation: Albuquerque, NM\\nEdu...</td>\n",
       "      <td>3.8</td>\n",
       "      <td>Tecolote Research\\n3.8</td>\n",
       "      <td>Albuquerque, NM</td>\n",
       "      <td>Goleta, CA</td>\n",
       "      <td>501 to 1000 employees</td>\n",
       "      <td>1973</td>\n",
       "      <td>Company - Private</td>\n",
       "      <td>Aerospace &amp; Defense</td>\n",
       "      <td>Aerospace &amp; Defense</td>\n",
       "      <td>$50 to $100 million (USD)</td>\n",
       "      <td>-1</td>\n",
       "    </tr>\n",
       "    <tr>\n",
       "      <td>1</td>\n",
       "      <td>1</td>\n",
       "      <td>Healthcare Data Scientist</td>\n",
       "      <td>$63K-$112K (Glassdoor est.)</td>\n",
       "      <td>What You Will Do:\\n\\nI. General Summary\\n\\nThe...</td>\n",
       "      <td>3.4</td>\n",
       "      <td>University of Maryland Medical System\\n3.4</td>\n",
       "      <td>Linthicum, MD</td>\n",
       "      <td>Baltimore, MD</td>\n",
       "      <td>10000+ employees</td>\n",
       "      <td>1984</td>\n",
       "      <td>Other Organization</td>\n",
       "      <td>Health Care Services &amp; Hospitals</td>\n",
       "      <td>Health Care</td>\n",
       "      <td>$2 to $5 billion (USD)</td>\n",
       "      <td>-1</td>\n",
       "    </tr>\n",
       "    <tr>\n",
       "      <td>2</td>\n",
       "      <td>2</td>\n",
       "      <td>Data Scientist</td>\n",
       "      <td>$80K-$90K (Glassdoor est.)</td>\n",
       "      <td>KnowBe4, Inc. is a high growth information sec...</td>\n",
       "      <td>4.8</td>\n",
       "      <td>KnowBe4\\n4.8</td>\n",
       "      <td>Clearwater, FL</td>\n",
       "      <td>Clearwater, FL</td>\n",
       "      <td>501 to 1000 employees</td>\n",
       "      <td>2010</td>\n",
       "      <td>Company - Private</td>\n",
       "      <td>Security Services</td>\n",
       "      <td>Business Services</td>\n",
       "      <td>$100 to $500 million (USD)</td>\n",
       "      <td>-1</td>\n",
       "    </tr>\n",
       "    <tr>\n",
       "      <td>3</td>\n",
       "      <td>3</td>\n",
       "      <td>Data Scientist</td>\n",
       "      <td>$56K-$97K (Glassdoor est.)</td>\n",
       "      <td>*Organization and Job ID**\\nJob ID: 310709\\n\\n...</td>\n",
       "      <td>3.8</td>\n",
       "      <td>PNNL\\n3.8</td>\n",
       "      <td>Richland, WA</td>\n",
       "      <td>Richland, WA</td>\n",
       "      <td>1001 to 5000 employees</td>\n",
       "      <td>1965</td>\n",
       "      <td>Government</td>\n",
       "      <td>Energy</td>\n",
       "      <td>Oil, Gas, Energy &amp; Utilities</td>\n",
       "      <td>$500 million to $1 billion (USD)</td>\n",
       "      <td>Oak Ridge National Laboratory, National Renewa...</td>\n",
       "    </tr>\n",
       "    <tr>\n",
       "      <td>4</td>\n",
       "      <td>4</td>\n",
       "      <td>Data Scientist</td>\n",
       "      <td>$86K-$143K (Glassdoor est.)</td>\n",
       "      <td>Data Scientist\\nAffinity Solutions / Marketing...</td>\n",
       "      <td>2.9</td>\n",
       "      <td>Affinity Solutions\\n2.9</td>\n",
       "      <td>New York, NY</td>\n",
       "      <td>New York, NY</td>\n",
       "      <td>51 to 200 employees</td>\n",
       "      <td>1998</td>\n",
       "      <td>Company - Private</td>\n",
       "      <td>Advertising &amp; Marketing</td>\n",
       "      <td>Business Services</td>\n",
       "      <td>Unknown / Non-Applicable</td>\n",
       "      <td>Commerce Signals, Cardlytics, Yodlee</td>\n",
       "    </tr>\n",
       "  </tbody>\n",
       "</table>\n",
       "</div>"
      ],
      "text/plain": [
       "   Unnamed: 0                  Job Title              Salary Estimate  \\\n",
       "0           0             Data Scientist   $53K-$91K (Glassdoor est.)   \n",
       "1           1  Healthcare Data Scientist  $63K-$112K (Glassdoor est.)   \n",
       "2           2             Data Scientist   $80K-$90K (Glassdoor est.)   \n",
       "3           3             Data Scientist   $56K-$97K (Glassdoor est.)   \n",
       "4           4             Data Scientist  $86K-$143K (Glassdoor est.)   \n",
       "\n",
       "                                     Job Description  Rating  \\\n",
       "0  Data Scientist\\nLocation: Albuquerque, NM\\nEdu...     3.8   \n",
       "1  What You Will Do:\\n\\nI. General Summary\\n\\nThe...     3.4   \n",
       "2  KnowBe4, Inc. is a high growth information sec...     4.8   \n",
       "3  *Organization and Job ID**\\nJob ID: 310709\\n\\n...     3.8   \n",
       "4  Data Scientist\\nAffinity Solutions / Marketing...     2.9   \n",
       "\n",
       "                                 Company Name         Location  \\\n",
       "0                      Tecolote Research\\n3.8  Albuquerque, NM   \n",
       "1  University of Maryland Medical System\\n3.4    Linthicum, MD   \n",
       "2                                KnowBe4\\n4.8   Clearwater, FL   \n",
       "3                                   PNNL\\n3.8     Richland, WA   \n",
       "4                     Affinity Solutions\\n2.9     New York, NY   \n",
       "\n",
       "     Headquarters                    Size  Founded   Type of ownership  \\\n",
       "0      Goleta, CA   501 to 1000 employees     1973   Company - Private   \n",
       "1   Baltimore, MD        10000+ employees     1984  Other Organization   \n",
       "2  Clearwater, FL   501 to 1000 employees     2010   Company - Private   \n",
       "3    Richland, WA  1001 to 5000 employees     1965          Government   \n",
       "4    New York, NY     51 to 200 employees     1998   Company - Private   \n",
       "\n",
       "                           Industry                        Sector  \\\n",
       "0               Aerospace & Defense           Aerospace & Defense   \n",
       "1  Health Care Services & Hospitals                   Health Care   \n",
       "2                 Security Services             Business Services   \n",
       "3                            Energy  Oil, Gas, Energy & Utilities   \n",
       "4           Advertising & Marketing             Business Services   \n",
       "\n",
       "                            Revenue  \\\n",
       "0         $50 to $100 million (USD)   \n",
       "1            $2 to $5 billion (USD)   \n",
       "2        $100 to $500 million (USD)   \n",
       "3  $500 million to $1 billion (USD)   \n",
       "4          Unknown / Non-Applicable   \n",
       "\n",
       "                                         Competitors  \n",
       "0                                                 -1  \n",
       "1                                                 -1  \n",
       "2                                                 -1  \n",
       "3  Oak Ridge National Laboratory, National Renewa...  \n",
       "4               Commerce Signals, Cardlytics, Yodlee  "
      ]
     },
     "execution_count": 3,
     "metadata": {},
     "output_type": "execute_result"
    }
   ],
   "source": [
    "df.head()"
   ]
  },
  {
   "cell_type": "markdown",
   "metadata": {
    "colab_type": "text",
    "id": "K_rmvx-M9p4L"
   },
   "source": [
    "# **Exploring the dataset**"
   ]
  },
  {
   "cell_type": "code",
   "execution_count": 4,
   "metadata": {
    "colab": {
     "base_uri": "https://localhost:8080/",
     "height": 34
    },
    "colab_type": "code",
    "id": "WIlMXg5R9vfj",
    "outputId": "7144e318-da75-48fb-f84e-5ea6d66b33cf"
   },
   "outputs": [
    {
     "data": {
      "text/plain": [
       "(956, 15)"
      ]
     },
     "execution_count": 4,
     "metadata": {},
     "output_type": "execute_result"
    }
   ],
   "source": [
    "# Returns number of rows and columns of the dataset\n",
    "df.shape"
   ]
  },
  {
   "cell_type": "code",
   "execution_count": 5,
   "metadata": {
    "colab": {
     "base_uri": "https://localhost:8080/",
     "height": 87
    },
    "colab_type": "code",
    "id": "P2yFRtWa-NN6",
    "outputId": "61fad3b4-a0cf-48c4-cbe3-2b3ba01e3ca0"
   },
   "outputs": [
    {
     "data": {
      "text/plain": [
       "Index(['Unnamed: 0', 'Job Title', 'Salary Estimate', 'Job Description',\n",
       "       'Rating', 'Company Name', 'Location', 'Headquarters', 'Size', 'Founded',\n",
       "       'Type of ownership', 'Industry', 'Sector', 'Revenue', 'Competitors'],\n",
       "      dtype='object')"
      ]
     },
     "execution_count": 5,
     "metadata": {},
     "output_type": "execute_result"
    }
   ],
   "source": [
    "# Returns an object with all of the column headers \n",
    "df.columns"
   ]
  },
  {
   "cell_type": "code",
   "execution_count": 6,
   "metadata": {
    "colab": {
     "base_uri": "https://localhost:8080/",
     "height": 301
    },
    "colab_type": "code",
    "id": "fL9f7DGl-Qqa",
    "outputId": "1fcabe7d-d8b7-4ffe-95cd-03c6cfe7b7aa"
   },
   "outputs": [
    {
     "data": {
      "text/plain": [
       "Unnamed: 0             int64\n",
       "Job Title             object\n",
       "Salary Estimate       object\n",
       "Job Description       object\n",
       "Rating               float64\n",
       "Company Name          object\n",
       "Location              object\n",
       "Headquarters          object\n",
       "Size                  object\n",
       "Founded                int64\n",
       "Type of ownership     object\n",
       "Industry              object\n",
       "Sector                object\n",
       "Revenue               object\n",
       "Competitors           object\n",
       "dtype: object"
      ]
     },
     "execution_count": 6,
     "metadata": {},
     "output_type": "execute_result"
    }
   ],
   "source": [
    "# Returns different datatypes for each columns (float, int, string, bool, etc.)\n",
    "df.dtypes"
   ]
  },
  {
   "cell_type": "code",
   "execution_count": 7,
   "metadata": {
    "colab": {
     "base_uri": "https://localhost:8080/",
     "height": 501
    },
    "colab_type": "code",
    "id": "fOrkbAOD-VyD",
    "outputId": "6840654f-d5de-4395-821d-60ee678166e9"
   },
   "outputs": [
    {
     "data": {
      "text/html": [
       "<div>\n",
       "<style scoped>\n",
       "    .dataframe tbody tr th:only-of-type {\n",
       "        vertical-align: middle;\n",
       "    }\n",
       "\n",
       "    .dataframe tbody tr th {\n",
       "        vertical-align: top;\n",
       "    }\n",
       "\n",
       "    .dataframe thead th {\n",
       "        text-align: right;\n",
       "    }\n",
       "</style>\n",
       "<table border=\"1\" class=\"dataframe\">\n",
       "  <thead>\n",
       "    <tr style=\"text-align: right;\">\n",
       "      <th></th>\n",
       "      <th>Unnamed: 0</th>\n",
       "      <th>Job Title</th>\n",
       "      <th>Salary Estimate</th>\n",
       "      <th>Job Description</th>\n",
       "      <th>Rating</th>\n",
       "      <th>Company Name</th>\n",
       "      <th>Location</th>\n",
       "      <th>Headquarters</th>\n",
       "      <th>Size</th>\n",
       "      <th>Founded</th>\n",
       "      <th>Type of ownership</th>\n",
       "      <th>Industry</th>\n",
       "      <th>Sector</th>\n",
       "      <th>Revenue</th>\n",
       "      <th>Competitors</th>\n",
       "    </tr>\n",
       "  </thead>\n",
       "  <tbody>\n",
       "    <tr>\n",
       "      <td>0</td>\n",
       "      <td>0</td>\n",
       "      <td>Data Scientist</td>\n",
       "      <td>$53K-$91K (Glassdoor est.)</td>\n",
       "      <td>Data Scientist\\nLocation: Albuquerque, NM\\nEdu...</td>\n",
       "      <td>3.8</td>\n",
       "      <td>Tecolote Research\\n3.8</td>\n",
       "      <td>Albuquerque, NM</td>\n",
       "      <td>Goleta, CA</td>\n",
       "      <td>501 to 1000 employees</td>\n",
       "      <td>1973</td>\n",
       "      <td>Company - Private</td>\n",
       "      <td>Aerospace &amp; Defense</td>\n",
       "      <td>Aerospace &amp; Defense</td>\n",
       "      <td>$50 to $100 million (USD)</td>\n",
       "      <td>-1</td>\n",
       "    </tr>\n",
       "    <tr>\n",
       "      <td>1</td>\n",
       "      <td>1</td>\n",
       "      <td>Healthcare Data Scientist</td>\n",
       "      <td>$63K-$112K (Glassdoor est.)</td>\n",
       "      <td>What You Will Do:\\n\\nI. General Summary\\n\\nThe...</td>\n",
       "      <td>3.4</td>\n",
       "      <td>University of Maryland Medical System\\n3.4</td>\n",
       "      <td>Linthicum, MD</td>\n",
       "      <td>Baltimore, MD</td>\n",
       "      <td>10000+ employees</td>\n",
       "      <td>1984</td>\n",
       "      <td>Other Organization</td>\n",
       "      <td>Health Care Services &amp; Hospitals</td>\n",
       "      <td>Health Care</td>\n",
       "      <td>$2 to $5 billion (USD)</td>\n",
       "      <td>-1</td>\n",
       "    </tr>\n",
       "    <tr>\n",
       "      <td>2</td>\n",
       "      <td>2</td>\n",
       "      <td>Data Scientist</td>\n",
       "      <td>$80K-$90K (Glassdoor est.)</td>\n",
       "      <td>KnowBe4, Inc. is a high growth information sec...</td>\n",
       "      <td>4.8</td>\n",
       "      <td>KnowBe4\\n4.8</td>\n",
       "      <td>Clearwater, FL</td>\n",
       "      <td>Clearwater, FL</td>\n",
       "      <td>501 to 1000 employees</td>\n",
       "      <td>2010</td>\n",
       "      <td>Company - Private</td>\n",
       "      <td>Security Services</td>\n",
       "      <td>Business Services</td>\n",
       "      <td>$100 to $500 million (USD)</td>\n",
       "      <td>-1</td>\n",
       "    </tr>\n",
       "    <tr>\n",
       "      <td>3</td>\n",
       "      <td>3</td>\n",
       "      <td>Data Scientist</td>\n",
       "      <td>$56K-$97K (Glassdoor est.)</td>\n",
       "      <td>*Organization and Job ID**\\nJob ID: 310709\\n\\n...</td>\n",
       "      <td>3.8</td>\n",
       "      <td>PNNL\\n3.8</td>\n",
       "      <td>Richland, WA</td>\n",
       "      <td>Richland, WA</td>\n",
       "      <td>1001 to 5000 employees</td>\n",
       "      <td>1965</td>\n",
       "      <td>Government</td>\n",
       "      <td>Energy</td>\n",
       "      <td>Oil, Gas, Energy &amp; Utilities</td>\n",
       "      <td>$500 million to $1 billion (USD)</td>\n",
       "      <td>Oak Ridge National Laboratory, National Renewa...</td>\n",
       "    </tr>\n",
       "    <tr>\n",
       "      <td>4</td>\n",
       "      <td>4</td>\n",
       "      <td>Data Scientist</td>\n",
       "      <td>$86K-$143K (Glassdoor est.)</td>\n",
       "      <td>Data Scientist\\nAffinity Solutions / Marketing...</td>\n",
       "      <td>2.9</td>\n",
       "      <td>Affinity Solutions\\n2.9</td>\n",
       "      <td>New York, NY</td>\n",
       "      <td>New York, NY</td>\n",
       "      <td>51 to 200 employees</td>\n",
       "      <td>1998</td>\n",
       "      <td>Company - Private</td>\n",
       "      <td>Advertising &amp; Marketing</td>\n",
       "      <td>Business Services</td>\n",
       "      <td>Unknown / Non-Applicable</td>\n",
       "      <td>Commerce Signals, Cardlytics, Yodlee</td>\n",
       "    </tr>\n",
       "  </tbody>\n",
       "</table>\n",
       "</div>"
      ],
      "text/plain": [
       "   Unnamed: 0                  Job Title              Salary Estimate  \\\n",
       "0           0             Data Scientist   $53K-$91K (Glassdoor est.)   \n",
       "1           1  Healthcare Data Scientist  $63K-$112K (Glassdoor est.)   \n",
       "2           2             Data Scientist   $80K-$90K (Glassdoor est.)   \n",
       "3           3             Data Scientist   $56K-$97K (Glassdoor est.)   \n",
       "4           4             Data Scientist  $86K-$143K (Glassdoor est.)   \n",
       "\n",
       "                                     Job Description  Rating  \\\n",
       "0  Data Scientist\\nLocation: Albuquerque, NM\\nEdu...     3.8   \n",
       "1  What You Will Do:\\n\\nI. General Summary\\n\\nThe...     3.4   \n",
       "2  KnowBe4, Inc. is a high growth information sec...     4.8   \n",
       "3  *Organization and Job ID**\\nJob ID: 310709\\n\\n...     3.8   \n",
       "4  Data Scientist\\nAffinity Solutions / Marketing...     2.9   \n",
       "\n",
       "                                 Company Name         Location  \\\n",
       "0                      Tecolote Research\\n3.8  Albuquerque, NM   \n",
       "1  University of Maryland Medical System\\n3.4    Linthicum, MD   \n",
       "2                                KnowBe4\\n4.8   Clearwater, FL   \n",
       "3                                   PNNL\\n3.8     Richland, WA   \n",
       "4                     Affinity Solutions\\n2.9     New York, NY   \n",
       "\n",
       "     Headquarters                    Size  Founded   Type of ownership  \\\n",
       "0      Goleta, CA   501 to 1000 employees     1973   Company - Private   \n",
       "1   Baltimore, MD        10000+ employees     1984  Other Organization   \n",
       "2  Clearwater, FL   501 to 1000 employees     2010   Company - Private   \n",
       "3    Richland, WA  1001 to 5000 employees     1965          Government   \n",
       "4    New York, NY     51 to 200 employees     1998   Company - Private   \n",
       "\n",
       "                           Industry                        Sector  \\\n",
       "0               Aerospace & Defense           Aerospace & Defense   \n",
       "1  Health Care Services & Hospitals                   Health Care   \n",
       "2                 Security Services             Business Services   \n",
       "3                            Energy  Oil, Gas, Energy & Utilities   \n",
       "4           Advertising & Marketing             Business Services   \n",
       "\n",
       "                            Revenue  \\\n",
       "0         $50 to $100 million (USD)   \n",
       "1            $2 to $5 billion (USD)   \n",
       "2        $100 to $500 million (USD)   \n",
       "3  $500 million to $1 billion (USD)   \n",
       "4          Unknown / Non-Applicable   \n",
       "\n",
       "                                         Competitors  \n",
       "0                                                 -1  \n",
       "1                                                 -1  \n",
       "2                                                 -1  \n",
       "3  Oak Ridge National Laboratory, National Renewa...  \n",
       "4               Commerce Signals, Cardlytics, Yodlee  "
      ]
     },
     "execution_count": 7,
     "metadata": {},
     "output_type": "execute_result"
    }
   ],
   "source": [
    "# Returns the first x number of rows when head(x). Without a number it returns 5\n",
    "df.head()"
   ]
  },
  {
   "cell_type": "code",
   "execution_count": 8,
   "metadata": {
    "colab": {
     "base_uri": "https://localhost:8080/",
     "height": 534
    },
    "colab_type": "code",
    "id": "MCIw2gPa-c7b",
    "outputId": "37f56654-86b2-4c19-fe5b-a900ca7756be"
   },
   "outputs": [
    {
     "data": {
      "text/html": [
       "<div>\n",
       "<style scoped>\n",
       "    .dataframe tbody tr th:only-of-type {\n",
       "        vertical-align: middle;\n",
       "    }\n",
       "\n",
       "    .dataframe tbody tr th {\n",
       "        vertical-align: top;\n",
       "    }\n",
       "\n",
       "    .dataframe thead th {\n",
       "        text-align: right;\n",
       "    }\n",
       "</style>\n",
       "<table border=\"1\" class=\"dataframe\">\n",
       "  <thead>\n",
       "    <tr style=\"text-align: right;\">\n",
       "      <th></th>\n",
       "      <th>Unnamed: 0</th>\n",
       "      <th>Job Title</th>\n",
       "      <th>Salary Estimate</th>\n",
       "      <th>Job Description</th>\n",
       "      <th>Rating</th>\n",
       "      <th>Company Name</th>\n",
       "      <th>Location</th>\n",
       "      <th>Headquarters</th>\n",
       "      <th>Size</th>\n",
       "      <th>Founded</th>\n",
       "      <th>Type of ownership</th>\n",
       "      <th>Industry</th>\n",
       "      <th>Sector</th>\n",
       "      <th>Revenue</th>\n",
       "      <th>Competitors</th>\n",
       "    </tr>\n",
       "  </thead>\n",
       "  <tbody>\n",
       "    <tr>\n",
       "      <td>951</td>\n",
       "      <td>951</td>\n",
       "      <td>Senior Data Engineer</td>\n",
       "      <td>$72K-$133K (Glassdoor est.)</td>\n",
       "      <td>THE CHALLENGE\\nEventbrite has a world-class da...</td>\n",
       "      <td>4.4</td>\n",
       "      <td>Eventbrite\\n4.4</td>\n",
       "      <td>Nashville, TN</td>\n",
       "      <td>San Francisco, CA</td>\n",
       "      <td>1001 to 5000 employees</td>\n",
       "      <td>2006</td>\n",
       "      <td>Company - Public</td>\n",
       "      <td>Internet</td>\n",
       "      <td>Information Technology</td>\n",
       "      <td>$100 to $500 million (USD)</td>\n",
       "      <td>See Tickets, TicketWeb, Vendini</td>\n",
       "    </tr>\n",
       "    <tr>\n",
       "      <td>952</td>\n",
       "      <td>952</td>\n",
       "      <td>Project Scientist - Auton Lab, Robotics Institute</td>\n",
       "      <td>$56K-$91K (Glassdoor est.)</td>\n",
       "      <td>The Auton Lab at Carnegie Mellon University is...</td>\n",
       "      <td>2.6</td>\n",
       "      <td>Software Engineering Institute\\n2.6</td>\n",
       "      <td>Pittsburgh, PA</td>\n",
       "      <td>Pittsburgh, PA</td>\n",
       "      <td>501 to 1000 employees</td>\n",
       "      <td>1984</td>\n",
       "      <td>College / University</td>\n",
       "      <td>Colleges &amp; Universities</td>\n",
       "      <td>Education</td>\n",
       "      <td>Unknown / Non-Applicable</td>\n",
       "      <td>-1</td>\n",
       "    </tr>\n",
       "    <tr>\n",
       "      <td>953</td>\n",
       "      <td>953</td>\n",
       "      <td>Data Science Manager</td>\n",
       "      <td>$95K-$160K (Glassdoor est.)</td>\n",
       "      <td>Data Science ManagerResponsibilities:\\n\\nOvers...</td>\n",
       "      <td>3.2</td>\n",
       "      <td>Numeric, LLC\\n3.2</td>\n",
       "      <td>Allentown, PA</td>\n",
       "      <td>Chadds Ford, PA</td>\n",
       "      <td>1 to 50 employees</td>\n",
       "      <td>-1</td>\n",
       "      <td>Company - Private</td>\n",
       "      <td>Staffing &amp; Outsourcing</td>\n",
       "      <td>Business Services</td>\n",
       "      <td>$5 to $10 million (USD)</td>\n",
       "      <td>-1</td>\n",
       "    </tr>\n",
       "    <tr>\n",
       "      <td>954</td>\n",
       "      <td>954</td>\n",
       "      <td>Data Engineer</td>\n",
       "      <td>-1</td>\n",
       "      <td>Loading...\\n\\nTitle: Data Engineer\\n\\nLocation...</td>\n",
       "      <td>4.8</td>\n",
       "      <td>IGNW\\n4.8</td>\n",
       "      <td>Austin, TX</td>\n",
       "      <td>Portland, OR</td>\n",
       "      <td>201 to 500 employees</td>\n",
       "      <td>2015</td>\n",
       "      <td>Company - Private</td>\n",
       "      <td>IT Services</td>\n",
       "      <td>Information Technology</td>\n",
       "      <td>$25 to $50 million (USD)</td>\n",
       "      <td>Slalom</td>\n",
       "    </tr>\n",
       "    <tr>\n",
       "      <td>955</td>\n",
       "      <td>955</td>\n",
       "      <td>Research Scientist – Security and Privacy</td>\n",
       "      <td>$61K-$126K (Glassdoor est.)</td>\n",
       "      <td>Returning Candidate? Log back in to the Career...</td>\n",
       "      <td>3.6</td>\n",
       "      <td>Riverside Research Institute\\n3.6</td>\n",
       "      <td>Beavercreek, OH</td>\n",
       "      <td>Arlington, VA</td>\n",
       "      <td>501 to 1000 employees</td>\n",
       "      <td>1967</td>\n",
       "      <td>Nonprofit Organization</td>\n",
       "      <td>Federal Agencies</td>\n",
       "      <td>Government</td>\n",
       "      <td>$50 to $100 million (USD)</td>\n",
       "      <td>-1</td>\n",
       "    </tr>\n",
       "  </tbody>\n",
       "</table>\n",
       "</div>"
      ],
      "text/plain": [
       "     Unnamed: 0                                          Job Title  \\\n",
       "951         951                               Senior Data Engineer   \n",
       "952         952  Project Scientist - Auton Lab, Robotics Institute   \n",
       "953         953                               Data Science Manager   \n",
       "954         954                                      Data Engineer   \n",
       "955         955          Research Scientist – Security and Privacy   \n",
       "\n",
       "                 Salary Estimate  \\\n",
       "951  $72K-$133K (Glassdoor est.)   \n",
       "952   $56K-$91K (Glassdoor est.)   \n",
       "953  $95K-$160K (Glassdoor est.)   \n",
       "954                           -1   \n",
       "955  $61K-$126K (Glassdoor est.)   \n",
       "\n",
       "                                       Job Description  Rating  \\\n",
       "951  THE CHALLENGE\\nEventbrite has a world-class da...     4.4   \n",
       "952  The Auton Lab at Carnegie Mellon University is...     2.6   \n",
       "953  Data Science ManagerResponsibilities:\\n\\nOvers...     3.2   \n",
       "954  Loading...\\n\\nTitle: Data Engineer\\n\\nLocation...     4.8   \n",
       "955  Returning Candidate? Log back in to the Career...     3.6   \n",
       "\n",
       "                            Company Name         Location       Headquarters  \\\n",
       "951                      Eventbrite\\n4.4    Nashville, TN  San Francisco, CA   \n",
       "952  Software Engineering Institute\\n2.6   Pittsburgh, PA     Pittsburgh, PA   \n",
       "953                    Numeric, LLC\\n3.2    Allentown, PA    Chadds Ford, PA   \n",
       "954                            IGNW\\n4.8       Austin, TX       Portland, OR   \n",
       "955    Riverside Research Institute\\n3.6  Beavercreek, OH      Arlington, VA   \n",
       "\n",
       "                       Size  Founded       Type of ownership  \\\n",
       "951  1001 to 5000 employees     2006        Company - Public   \n",
       "952   501 to 1000 employees     1984    College / University   \n",
       "953       1 to 50 employees       -1       Company - Private   \n",
       "954    201 to 500 employees     2015       Company - Private   \n",
       "955   501 to 1000 employees     1967  Nonprofit Organization   \n",
       "\n",
       "                    Industry                  Sector  \\\n",
       "951                 Internet  Information Technology   \n",
       "952  Colleges & Universities               Education   \n",
       "953   Staffing & Outsourcing       Business Services   \n",
       "954              IT Services  Information Technology   \n",
       "955         Federal Agencies              Government   \n",
       "\n",
       "                        Revenue                      Competitors  \n",
       "951  $100 to $500 million (USD)  See Tickets, TicketWeb, Vendini  \n",
       "952    Unknown / Non-Applicable                               -1  \n",
       "953     $5 to $10 million (USD)                               -1  \n",
       "954    $25 to $50 million (USD)                           Slalom  \n",
       "955   $50 to $100 million (USD)                               -1  "
      ]
     },
     "execution_count": 8,
     "metadata": {},
     "output_type": "execute_result"
    }
   ],
   "source": [
    "# Returns the last x number of rows when tail(x). Without a number it returns 5\n",
    "df.tail()"
   ]
  },
  {
   "cell_type": "code",
   "execution_count": 9,
   "metadata": {
    "colab": {
     "base_uri": "https://localhost:8080/",
     "height": 407
    },
    "colab_type": "code",
    "id": "U6lWbFKq-nKj",
    "outputId": "bad33f22-52cc-4f01-ad4f-6638f02f386f"
   },
   "outputs": [
    {
     "name": "stdout",
     "output_type": "stream",
     "text": [
      "<class 'pandas.core.frame.DataFrame'>\n",
      "RangeIndex: 956 entries, 0 to 955\n",
      "Data columns (total 15 columns):\n",
      "Unnamed: 0           956 non-null int64\n",
      "Job Title            956 non-null object\n",
      "Salary Estimate      956 non-null object\n",
      "Job Description      956 non-null object\n",
      "Rating               956 non-null float64\n",
      "Company Name         956 non-null object\n",
      "Location             956 non-null object\n",
      "Headquarters         956 non-null object\n",
      "Size                 956 non-null object\n",
      "Founded              956 non-null int64\n",
      "Type of ownership    956 non-null object\n",
      "Industry             956 non-null object\n",
      "Sector               956 non-null object\n",
      "Revenue              956 non-null object\n",
      "Competitors          956 non-null object\n",
      "dtypes: float64(1), int64(2), object(12)\n",
      "memory usage: 112.2+ KB\n"
     ]
    }
   ],
   "source": [
    "# Returns basic information on all columns\n",
    "df.info()"
   ]
  },
  {
   "cell_type": "code",
   "execution_count": 10,
   "metadata": {
    "colab": {
     "base_uri": "https://localhost:8080/",
     "height": 137
    },
    "colab_type": "code",
    "id": "cyYpqW9O-r5j",
    "outputId": "67331616-c558-4676-fb75-46953bdcb318"
   },
   "outputs": [
    {
     "data": {
      "text/html": [
       "<div>\n",
       "<style scoped>\n",
       "    .dataframe tbody tr th:only-of-type {\n",
       "        vertical-align: middle;\n",
       "    }\n",
       "\n",
       "    .dataframe tbody tr th {\n",
       "        vertical-align: top;\n",
       "    }\n",
       "\n",
       "    .dataframe thead th {\n",
       "        text-align: right;\n",
       "    }\n",
       "</style>\n",
       "<table border=\"1\" class=\"dataframe\">\n",
       "  <thead>\n",
       "    <tr style=\"text-align: right;\">\n",
       "      <th></th>\n",
       "      <th>count</th>\n",
       "      <th>mean</th>\n",
       "      <th>std</th>\n",
       "      <th>min</th>\n",
       "      <th>25%</th>\n",
       "      <th>50%</th>\n",
       "      <th>75%</th>\n",
       "      <th>max</th>\n",
       "    </tr>\n",
       "  </thead>\n",
       "  <tbody>\n",
       "    <tr>\n",
       "      <td>Unnamed: 0</td>\n",
       "      <td>956.0</td>\n",
       "      <td>477.500000</td>\n",
       "      <td>276.117729</td>\n",
       "      <td>0.0</td>\n",
       "      <td>238.75</td>\n",
       "      <td>477.5</td>\n",
       "      <td>716.25</td>\n",
       "      <td>955.0</td>\n",
       "    </tr>\n",
       "    <tr>\n",
       "      <td>Rating</td>\n",
       "      <td>956.0</td>\n",
       "      <td>3.601255</td>\n",
       "      <td>1.067619</td>\n",
       "      <td>-1.0</td>\n",
       "      <td>3.30</td>\n",
       "      <td>3.8</td>\n",
       "      <td>4.20</td>\n",
       "      <td>5.0</td>\n",
       "    </tr>\n",
       "    <tr>\n",
       "      <td>Founded</td>\n",
       "      <td>956.0</td>\n",
       "      <td>1774.605649</td>\n",
       "      <td>598.942517</td>\n",
       "      <td>-1.0</td>\n",
       "      <td>1937.00</td>\n",
       "      <td>1992.0</td>\n",
       "      <td>2008.00</td>\n",
       "      <td>2019.0</td>\n",
       "    </tr>\n",
       "  </tbody>\n",
       "</table>\n",
       "</div>"
      ],
      "text/plain": [
       "            count         mean         std  min      25%     50%      75%  \\\n",
       "Unnamed: 0  956.0   477.500000  276.117729  0.0   238.75   477.5   716.25   \n",
       "Rating      956.0     3.601255    1.067619 -1.0     3.30     3.8     4.20   \n",
       "Founded     956.0  1774.605649  598.942517 -1.0  1937.00  1992.0  2008.00   \n",
       "\n",
       "               max  \n",
       "Unnamed: 0   955.0  \n",
       "Rating         5.0  \n",
       "Founded     2019.0  "
      ]
     },
     "execution_count": 10,
     "metadata": {},
     "output_type": "execute_result"
    }
   ],
   "source": [
    "# Returns basic statistics on numeric columns\n",
    "df.describe().T"
   ]
  },
  {
   "cell_type": "code",
   "execution_count": 11,
   "metadata": {
    "colab": {
     "base_uri": "https://localhost:8080/",
     "height": 301
    },
    "colab_type": "code",
    "id": "PZVc3T0j-4OZ",
    "outputId": "79e810fe-55b4-4eb8-d98e-c4f54441e61f"
   },
   "outputs": [
    {
     "data": {
      "text/plain": [
       "Unnamed: 0           False\n",
       "Job Title            False\n",
       "Salary Estimate      False\n",
       "Job Description      False\n",
       "Rating               False\n",
       "Company Name         False\n",
       "Location             False\n",
       "Headquarters         False\n",
       "Size                 False\n",
       "Founded              False\n",
       "Type of ownership    False\n",
       "Industry             False\n",
       "Sector               False\n",
       "Revenue              False\n",
       "Competitors          False\n",
       "dtype: bool"
      ]
     },
     "execution_count": 11,
     "metadata": {},
     "output_type": "execute_result"
    }
   ],
   "source": [
    "# Returns true for a column having null values, else false\n",
    "df.isnull().any()"
   ]
  },
  {
   "cell_type": "markdown",
   "metadata": {
    "colab_type": "text",
    "id": "xsWXCXHX_EN8"
   },
   "source": [
    "# **Data Cleaning**"
   ]
  },
  {
   "cell_type": "code",
   "execution_count": 12,
   "metadata": {
    "colab": {
     "base_uri": "https://localhost:8080/",
     "height": 87
    },
    "colab_type": "code",
    "id": "f8z6p8FW-6lS",
    "outputId": "a826c2ee-c886-4bca-d3e7-6c9dccb4e90a"
   },
   "outputs": [
    {
     "data": {
      "text/plain": [
       "Index(['Job Title', 'Salary Estimate', 'Job Description', 'Rating',\n",
       "       'Company Name', 'Location', 'Headquarters', 'Size', 'Founded',\n",
       "       'Type of ownership', 'Industry', 'Sector', 'Revenue', 'Competitors'],\n",
       "      dtype='object')"
      ]
     },
     "execution_count": 12,
     "metadata": {},
     "output_type": "execute_result"
    }
   ],
   "source": [
    "# Removing the 'Unnamed' column\n",
    "df.drop(labels='Unnamed: 0', axis='columns', inplace=True)\n",
    "df.columns"
   ]
  },
  {
   "cell_type": "code",
   "execution_count": 13,
   "metadata": {
    "colab": {
     "base_uri": "https://localhost:8080/",
     "height": 52
    },
    "colab_type": "code",
    "id": "7OvncWKN_Gpr",
    "outputId": "b058e7df-1acb-4a02-adef-41181b08c5a7"
   },
   "outputs": [
    {
     "name": "stdout",
     "output_type": "stream",
     "text": [
      "Before:  (956, 14)\n",
      "After:  (742, 14)\n"
     ]
    }
   ],
   "source": [
    "# Removing the rows having '-1' as Salary Estimate value\n",
    "print(\"Before: \",df.shape)\n",
    "df = df[df['Salary Estimate'] != \"-1\"]\n",
    "print(\"After: \", df.shape)"
   ]
  },
  {
   "cell_type": "code",
   "execution_count": 14,
   "metadata": {},
   "outputs": [
    {
     "data": {
      "text/plain": [
       "array(['$53K-$91K (Glassdoor est.)', '$63K-$112K (Glassdoor est.)',\n",
       "       '$80K-$90K (Glassdoor est.)', '$56K-$97K (Glassdoor est.)',\n",
       "       '$86K-$143K (Glassdoor est.)', '$71K-$119K (Glassdoor est.)',\n",
       "       '$54K-$93K (Glassdoor est.)', '$86K-$142K (Glassdoor est.)',\n",
       "       '$38K-$84K (Glassdoor est.)', '$120K-$160K (Glassdoor est.)',\n",
       "       '$126K-$201K (Glassdoor est.)', '$64K-$106K (Glassdoor est.)',\n",
       "       '$106K-$172K (Glassdoor est.)', '$46K-$85K (Glassdoor est.)',\n",
       "       '$83K-$144K (Glassdoor est.)', '$102K-$190K (Glassdoor est.)',\n",
       "       '$67K-$137K (Glassdoor est.)', '$118K-$189K (Glassdoor est.)',\n",
       "       '$110K-$175K (Glassdoor est.)', '$64K-$111K (Glassdoor est.)',\n",
       "       '$81K-$130K (Glassdoor est.)', '$73K-$119K (Glassdoor est.)',\n",
       "       '$86K-$139K (Glassdoor est.)', '$63K-$105K (Glassdoor est.)',\n",
       "       '$109K-$177K (Glassdoor est.)', '$63K-$110K (Glassdoor est.)',\n",
       "       '$75K-$124K (Glassdoor est.)', '$34K-$61K (Glassdoor est.)',\n",
       "       '$72K-$120K (Glassdoor est.)', '$93K-$149K (Glassdoor est.)',\n",
       "       '$85K-$140K (Glassdoor est.)', '$77K-$135K (Glassdoor est.)',\n",
       "       '$82K-$132K (Glassdoor est.)', '$83K-$137K (Glassdoor est.)',\n",
       "       '$115K-$180K (Glassdoor est.)', '$74K-$138K (Glassdoor est.)',\n",
       "       '$64K-$112K (Glassdoor est.)', '$68K-$129K (Glassdoor est.)',\n",
       "       '$52K-$113K (Glassdoor est.)', '$110K-$150K(Employer est.)',\n",
       "       'Employer Provided Salary:$150K-$160K',\n",
       "       '$158K-$211K (Glassdoor est.)', '$20K-$39K (Glassdoor est.)',\n",
       "       '$56K-$117K (Glassdoor est.)', '$63K-$99K (Glassdoor est.)',\n",
       "       '$68K-$114K (Glassdoor est.)', '$41K-$95K (Glassdoor est.)',\n",
       "       '$86K-$144K (Glassdoor est.)', '$80K-$139K (Glassdoor est.)',\n",
       "       '$56K-$95K (Glassdoor est.)', '$120K-$189K (Glassdoor est.)',\n",
       "       '$111K-$176K (Glassdoor est.)', '$84K-$146K (Glassdoor est.)',\n",
       "       '$107K-$172K (Glassdoor est.)', '$49K-$85K (Glassdoor est.)',\n",
       "       '$61K-$109K (Glassdoor est.)', '$88K-$148K (Glassdoor est.)',\n",
       "       '$60K-$99K (Glassdoor est.)', '$41K-$72K (Glassdoor est.)',\n",
       "       '$96K-$161K (Glassdoor est.)', '$65K-$130K (Glassdoor est.)',\n",
       "       '$52K-$81K (Glassdoor est.)', '$139K-$220K (Glassdoor est.)',\n",
       "       '$50K-$102K (Glassdoor est.)', '$85K-$139K (Glassdoor est.)',\n",
       "       '$74K-$122K (Glassdoor est.)', '$99K-$157K (Glassdoor est.)',\n",
       "       '$79K-$222K (Glassdoor est.)', '$57K-$118K (Glassdoor est.)',\n",
       "       '$86K-$141K (Glassdoor est.)', '$94K-$154K (Glassdoor est.)',\n",
       "       '$37K-$76K (Glassdoor est.)', '$100K-$160K (Glassdoor est.)',\n",
       "       '$55K-$100K (Glassdoor est.)', '$60K-$114K (Glassdoor est.)',\n",
       "       '$39K-$68K (Glassdoor est.)', '$64K-$107K (Glassdoor est.)',\n",
       "       '$31K-$65K (Glassdoor est.)', '$34K-$62K (Glassdoor est.)',\n",
       "       '$117K-$231K (Glassdoor est.)', '$79K-$134K (Glassdoor est.)',\n",
       "       '$52K-$93K (Glassdoor est.)', '$55K-$116K (Glassdoor est.)',\n",
       "       '$72K-$123K (Glassdoor est.)', '$74K-$124K (Glassdoor est.)',\n",
       "       '$40K-$73K (Glassdoor est.)', '$102K-$164K (Glassdoor est.)',\n",
       "       '$89K-$153K (Glassdoor est.)', '$61K-$110K (Glassdoor est.)',\n",
       "       '$65K-$110K (Glassdoor est.)', '$200K-$275K(Employer est.)',\n",
       "       '$68K-$123K (Glassdoor est.)', '$80K-$129K (Glassdoor est.)',\n",
       "       '$39K-$71K (Glassdoor est.)', '$38K-$85K (Glassdoor est.)',\n",
       "       '$121K-$193K (Glassdoor est.)', '$54K-$102K (Glassdoor est.)',\n",
       "       '$102K-$163K (Glassdoor est.)', '$76K-$140K (Glassdoor est.)',\n",
       "       '$60K-$101K (Glassdoor est.)', '$82K-$133K (Glassdoor est.)',\n",
       "       '$65K-$125K (Glassdoor est.)', '$91K-$148K (Glassdoor est.)',\n",
       "       '$95K-$173K (Glassdoor est.)', '$77K-$124K (Glassdoor est.)',\n",
       "       '$80K-$135K (Glassdoor est.)', '$85K-$159K (Glassdoor est.)',\n",
       "       '$80K-$105K(Employer est.)', '$43K-$81K (Glassdoor est.)',\n",
       "       '$29K-$50K (Glassdoor est.)', '$26K-$55K (Glassdoor est.)',\n",
       "       '$61K-$118K (Glassdoor est.)', '$60K-$102K (Glassdoor est.)',\n",
       "       '$112K-$182K (Glassdoor est.)', '$51K-$112K (Glassdoor est.)',\n",
       "       '$113K-$223K (Glassdoor est.)', '$72K-$129K (Glassdoor est.)',\n",
       "       '$71K-$123K (Glassdoor est.)',\n",
       "       'Employer Provided Salary:$120K-$145K',\n",
       "       '$80K-$120K (Glassdoor est.)', '$80K-$130K (Glassdoor est.)',\n",
       "       '$59K-$115K (Glassdoor est.)', '$71K-$136K (Glassdoor est.)',\n",
       "       '$81K-$167K (Glassdoor est.)', '$71K-$204K (Glassdoor est.)',\n",
       "       '$75K-$125K (Glassdoor est.)', '$77K-$136K (Glassdoor est.)',\n",
       "       '$74K-$123K (Glassdoor est.)', '$44K-$78K (Glassdoor est.)',\n",
       "       '$65K-$148K (Glassdoor est.)', '$59K-$110K (Glassdoor est.)',\n",
       "       '$85K-$134K (Glassdoor est.)', '$124K-$204K (Glassdoor est.)',\n",
       "       '$131K-$207K (Glassdoor est.)', '$110K-$174K (Glassdoor est.)',\n",
       "       '$52K-$101K (Glassdoor est.)', '$81K-$133K (Glassdoor est.)',\n",
       "       '$132K-$211K (Glassdoor est.)', '$74K-$140K (Glassdoor est.)',\n",
       "       '$100K-$190K (Glassdoor est.)', '$43K-$80K (Glassdoor est.)',\n",
       "       '$17-$24 Per Hour(Glassdoor est.)', '$91K-$149K (Glassdoor est.)',\n",
       "       '$42K-$82K (Glassdoor est.)', '$116K-$185K (Glassdoor est.)',\n",
       "       '$59K-$116K (Glassdoor est.)', '$48K-$95K (Glassdoor est.)',\n",
       "       '$31K-$72K (Glassdoor est.)', '$105K-$198K (Glassdoor est.)',\n",
       "       '$98K-$182K (Glassdoor est.)', '$73K-$124K (Glassdoor est.)',\n",
       "       'Employer Provided Salary:$200K-$250K',\n",
       "       '$21-$34 Per Hour(Glassdoor est.)', '$117K-$206K (Glassdoor est.)',\n",
       "       '$111K-$183K (Glassdoor est.)', '$81K-$159K (Glassdoor est.)',\n",
       "       '$83K-$166K (Glassdoor est.)', '$114K-$182K (Glassdoor est.)',\n",
       "       '$42K-$76K (Glassdoor est.)', '$114K-$179K (Glassdoor est.)',\n",
       "       '$60K-$123K (Glassdoor est.)', '$100K-$166K (Glassdoor est.)',\n",
       "       '$108K-$173K (Glassdoor est.)', '$48K-$93K (Glassdoor est.)',\n",
       "       '$54K-$115K (Glassdoor est.)', '$60K-$127K (Glassdoor est.)',\n",
       "       '$90K-$179K (Glassdoor est.)', '$138K-$224K (Glassdoor est.)',\n",
       "       '$190K-$220K(Employer est.)', '$35K-$62K (Glassdoor est.)',\n",
       "       '$18-$25 Per Hour(Glassdoor est.)', '$39K-$66K (Glassdoor est.)',\n",
       "       '$42K-$86K (Glassdoor est.)', '$69K-$127K (Glassdoor est.)',\n",
       "       '$40K-$68K (Glassdoor est.)', '$49K-$113K (Glassdoor est.)',\n",
       "       '$75K-$140K (Glassdoor est.)', '$66K-$112K (Glassdoor est.)',\n",
       "       '$76K-$125K (Glassdoor est.)', '$44K-$86K (Glassdoor est.)',\n",
       "       '$15-$25 Per Hour(Glassdoor est.)', '$53K-$92K (Glassdoor est.)',\n",
       "       '$65K-$120K (Glassdoor est.)', '$60K-$103K (Glassdoor est.)',\n",
       "       '$53K-$105K (Glassdoor est.)', '$33K-$62K (Glassdoor est.)',\n",
       "       '$48K-$90K (Glassdoor est.)', '$34K-$64K (Glassdoor est.)',\n",
       "       '$66K-$111K (Glassdoor est.)', '$91K-$138K (Glassdoor est.)',\n",
       "       '$62K-$114K (Glassdoor est.)', '$71K-$129K (Glassdoor est.)',\n",
       "       '$74K-$119K (Glassdoor est.)', '$55K-$97K (Glassdoor est.)',\n",
       "       '$15K-$16K(Employer est.)', '$61K-$106K (Glassdoor est.)',\n",
       "       '$127K-$199K (Glassdoor est.)', '$74K-$126K (Glassdoor est.)',\n",
       "       '$33K-$72K (Glassdoor est.)', '$37K-$63K (Glassdoor est.)',\n",
       "       '$67K-$119K (Glassdoor est.)', '$72K-$117K (Glassdoor est.)',\n",
       "       '$78K-$126K (Glassdoor est.)', '$116K-$194K (Glassdoor est.)',\n",
       "       '$83K-$133K (Glassdoor est.)', '$45K-$82K (Glassdoor est.)',\n",
       "       '$83K-$135K (Glassdoor est.)', '$70K-$122K (Glassdoor est.)',\n",
       "       '$70K-$132K (Glassdoor est.)', '$54K-$101K (Glassdoor est.)',\n",
       "       '$68K-$112K (Glassdoor est.)', '$42K-$74K (Glassdoor est.)',\n",
       "       '$95K-$161K (Glassdoor est.)', '$76K-$126K (Glassdoor est.)',\n",
       "       '$108K-$176K (Glassdoor est.)', '$130K-$208K (Glassdoor est.)',\n",
       "       '$37K-$68K (Glassdoor est.)', '$52K-$99K (Glassdoor est.)',\n",
       "       '$105K-$173K (Glassdoor est.)', '$71K-$134K (Glassdoor est.)',\n",
       "       '$39K-$82K (Glassdoor est.)', '$88K-$162K (Glassdoor est.)',\n",
       "       '$55K-$99K (Glassdoor est.)', '$67K-$117K (Glassdoor est.)',\n",
       "       '$92K-$150K (Glassdoor est.)', '$116K-$209K (Glassdoor est.)',\n",
       "       '$38K-$82K (Glassdoor est.)', 'Employer Provided Salary:$85K-$90K',\n",
       "       '$62K-$119K (Glassdoor est.)', '$84K-$136K (Glassdoor est.)',\n",
       "       '$52K-$89K (Glassdoor est.)', '$65K-$119K (Glassdoor est.)',\n",
       "       '$63K-$101K (Glassdoor est.)', '$127K-$202K (Glassdoor est.)',\n",
       "       '$31K-$57K (Glassdoor est.)', '$75K-$143K (Glassdoor est.)',\n",
       "       '$105K-$194K (Glassdoor est.)', '$45K-$86K (Glassdoor est.)',\n",
       "       '$95K-$154K (Glassdoor est.)', '$80K-$148K (Glassdoor est.)',\n",
       "       '$36K-$62K (Glassdoor est.)', '$50K-$92K (Glassdoor est.)',\n",
       "       '$67K-$135K (Glassdoor est.)', '$42K-$80K (Glassdoor est.)',\n",
       "       '$68K-$139K (Glassdoor est.)', '$34K-$92K (Glassdoor est.)',\n",
       "       '$54K-$71K (Glassdoor est.)', '$65K-$124K (Glassdoor est.)',\n",
       "       '$109K-$200K (Glassdoor est.)', '$61K-$113K (Glassdoor est.)',\n",
       "       '$43K-$86K (Glassdoor est.)', '$74K-$149K (Glassdoor est.)',\n",
       "       '$113K-$196K (Glassdoor est.)', '$97K-$160K (Glassdoor est.)',\n",
       "       '$24-$39 Per Hour(Glassdoor est.)', '$102K-$172K (Glassdoor est.)',\n",
       "       '$108K-$171K (Glassdoor est.)', '$76K-$142K (Glassdoor est.)',\n",
       "       '$202K-$306K (Glassdoor est.)', '$49K-$97K (Glassdoor est.)',\n",
       "       '$65K-$134K (Glassdoor est.)', '$32K-$59K (Glassdoor est.)',\n",
       "       '$87K-$158K (Glassdoor est.)', '$107K-$173K (Glassdoor est.)',\n",
       "       '$56K-$99K (Glassdoor est.)',\n",
       "       'Employer Provided Salary:$25-$28 Per Hour',\n",
       "       '$80K-$155K (Glassdoor est.)', '$43K-$98K (Glassdoor est.)',\n",
       "       '$45K-$78K (Glassdoor est.)', '$44K-$96K (Glassdoor est.)',\n",
       "       '$50K-$110K (Glassdoor est.)', '$61K-$119K (Glassdoor est.)',\n",
       "       'Employer Provided Salary:$100K-$140K',\n",
       "       '$56K-$91K (Glassdoor est.)', '$101K-$158K (Glassdoor est.)',\n",
       "       '$125K-$210K (Glassdoor est.)', '$43K-$77K (Glassdoor est.)',\n",
       "       '$139K-$221K (Glassdoor est.)', '$78K-$147K (Glassdoor est.)',\n",
       "       '$37K-$66K (Glassdoor est.)', '$38K-$64K (Glassdoor est.)',\n",
       "       '$43K-$82K (Glassdoor est.)', '$90K-$110K(Employer est.)',\n",
       "       '$93K-$151K (Glassdoor est.)', '$40K-$101K (Glassdoor est.)',\n",
       "       '$97K-$180K (Glassdoor est.)', '$81K-$134K (Glassdoor est.)',\n",
       "       '$84K-$157K (Glassdoor est.)', '$121K-$203K (Glassdoor est.)',\n",
       "       '$52K-$85K (Glassdoor est.)', '$81K-$140K (Glassdoor est.)',\n",
       "       '$83K-$148K (Glassdoor est.)', '$31K-$55K (Glassdoor est.)',\n",
       "       '$102K-$178K (Glassdoor est.)',\n",
       "       'Employer Provided Salary:$110K-$130K',\n",
       "       '$48K-$85K (Glassdoor est.)', '$66K-$123K (Glassdoor est.)',\n",
       "       '$92K-$146K (Glassdoor est.)', '$21-$29 Per Hour(Glassdoor est.)',\n",
       "       '$10-$17 Per Hour(Glassdoor est.)', '$150K-$239K (Glassdoor est.)',\n",
       "       '$52K-$91K (Glassdoor est.)', '$82K-$129K(Employer est.)',\n",
       "       '$47K-$101K (Glassdoor est.)', '$49K-$76K (Glassdoor est.)',\n",
       "       '$43K-$88K (Glassdoor est.)', '$124K-$199K (Glassdoor est.)',\n",
       "       '$97K-$181K (Glassdoor est.)', '$100K-$173K (Glassdoor est.)',\n",
       "       '$53K-$96K (Glassdoor est.)', '$65K-$96K (Glassdoor est.)',\n",
       "       '$75K-$127K (Glassdoor est.)', '$94K-$139K (Glassdoor est.)',\n",
       "       '$176K-$289K (Glassdoor est.)', '$92K-$149K (Glassdoor est.)',\n",
       "       '$118K-$188K (Glassdoor est.)', '$108K-$146K (Glassdoor est.)',\n",
       "       '$65K-$106K (Glassdoor est.)', '$55K-$98K (Glassdoor est.)',\n",
       "       '$94K-$162K (Glassdoor est.)', '$63K-$120K (Glassdoor est.)',\n",
       "       '$126K-$228K (Glassdoor est.)', '$80K-$134K (Glassdoor est.)',\n",
       "       '$85K-$142K (Glassdoor est.)', '$87K-$140K (Glassdoor est.)',\n",
       "       '$76K-$127K (Glassdoor est.)', '$54K-$92K (Glassdoor est.)',\n",
       "       '$61K-$100K (Glassdoor est.)', '$112K-$179K (Glassdoor est.)',\n",
       "       '$63K-$111K (Glassdoor est.)', '$75K-$126K (Glassdoor est.)',\n",
       "       '$110K-$184K (Glassdoor est.)', '$76K-$145K (Glassdoor est.)',\n",
       "       '$70K-$118K (Glassdoor est.)', '$94K-$153K (Glassdoor est.)',\n",
       "       '$150K-$180K (Glassdoor est.)', '$42K-$77K (Glassdoor est.)',\n",
       "       '$47K-$85K (Glassdoor est.)', '$62K-$112K (Glassdoor est.)',\n",
       "       '$64K-$108K (Glassdoor est.)', '$89K-$144K (Glassdoor est.)',\n",
       "       '$55K-$105K (Glassdoor est.)', '$135K-$211K (Glassdoor est.)',\n",
       "       '$57K-$80K (Glassdoor est.)', '$129K-$215K (Glassdoor est.)',\n",
       "       '$63K-$127K (Glassdoor est.)', '$50K-$89K (Glassdoor est.)',\n",
       "       '$71K-$124K (Glassdoor est.)', '$69K-$121K (Glassdoor est.)',\n",
       "       '$150K-$238K (Glassdoor est.)', '$77K-$132K (Glassdoor est.)',\n",
       "       '$59K-$112K (Glassdoor est.)', '$35K-$65K (Glassdoor est.)',\n",
       "       '$79K-$147K (Glassdoor est.)', '$119K-$187K (Glassdoor est.)',\n",
       "       '$90K-$157K (Glassdoor est.)', '$32K-$62K (Glassdoor est.)',\n",
       "       '$116K-$208K (Glassdoor est.)', '$102K-$165K (Glassdoor est.)',\n",
       "       '$91K-$159K (Glassdoor est.)', '$80K-$133K (Glassdoor est.)',\n",
       "       '$39K-$69K (Glassdoor est.)', '$27K-$48K (Glassdoor est.)',\n",
       "       '$36K-$71K (Glassdoor est.)', '$130K-$206K (Glassdoor est.)',\n",
       "       '$99K-$178K (Glassdoor est.)', '$86K-$137K (Glassdoor est.)',\n",
       "       '$37K-$100K (Glassdoor est.)', '$58K-$111K (Glassdoor est.)',\n",
       "       '$72K-$133K (Glassdoor est.)', '$61K-$126K (Glassdoor est.)',\n",
       "       '$95K-$160K (Glassdoor est.)', '$33K-$61K (Glassdoor est.)',\n",
       "       '$69K-$119K (Glassdoor est.)', '$67K-$127K (Glassdoor est.)',\n",
       "       '$66K-$117K (Glassdoor est.)', '$50K-$98K (Glassdoor est.)',\n",
       "       '$90K-$153K (Glassdoor est.)',\n",
       "       'Employer Provided Salary:$100K-$135K',\n",
       "       '$42K-$79K (Glassdoor est.)', '$84K-$153K (Glassdoor est.)',\n",
       "       '$44K-$73K (Glassdoor est.)', '$40K-$87K (Glassdoor est.)',\n",
       "       '$72K-$142K (Glassdoor est.)', '$74K-$137K (Glassdoor est.)',\n",
       "       '$57K-$109K (Glassdoor est.)', '$136K-$208K (Glassdoor est.)',\n",
       "       '$171K-$272K (Glassdoor est.)', '$65K-$126K (Glassdoor est.)',\n",
       "       '$118K-$228K (Glassdoor est.)', '$113K-$182K (Glassdoor est.)',\n",
       "       '$58K-$104K (Glassdoor est.)', '$58K-$108K (Glassdoor est.)',\n",
       "       '$81K-$161K (Glassdoor est.)', '$115K-$220K (Glassdoor est.)',\n",
       "       '$71K-$144K (Glassdoor est.)', '$32K-$57K (Glassdoor est.)',\n",
       "       '$79K-$136K (Glassdoor est.)', '$48K-$113K (Glassdoor est.)',\n",
       "       '$27-$47 Per Hour(Glassdoor est.)', '$68K-$125K (Glassdoor est.)',\n",
       "       '$39K-$67K (Glassdoor est.)', '$71K-$135K (Glassdoor est.)',\n",
       "       '$61K-$123K (Glassdoor est.)', '$87K-$141K (Glassdoor est.)',\n",
       "       '$71K-$121K (Glassdoor est.)', '$72K-$121K (Glassdoor est.)',\n",
       "       '$51K-$88K (Glassdoor est.)', '$101K-$141K (Glassdoor est.)',\n",
       "       '$79K-$127K (Glassdoor est.)', '$81K-$132K (Glassdoor est.)',\n",
       "       'Employer Provided Salary:$120K-$140K',\n",
       "       '$65K-$113K (Glassdoor est.)', '$59K-$125K (Glassdoor est.)',\n",
       "       '$80K-$142K (Glassdoor est.)', '$62K-$113K (Glassdoor est.)'],\n",
       "      dtype=object)"
      ]
     },
     "execution_count": 14,
     "metadata": {},
     "output_type": "execute_result"
    }
   ],
   "source": [
    "df['Salary Estimate'].unique()"
   ]
  },
  {
   "cell_type": "code",
   "execution_count": 15,
   "metadata": {
    "colab": {
     "base_uri": "https://localhost:8080/",
     "height": 230
    },
    "colab_type": "code",
    "id": "6Njh3oExAmrN",
    "outputId": "bfa7be0b-8060-4bda-d197-8decc0441294"
   },
   "outputs": [
    {
     "data": {
      "text/plain": [
       "0       $53K-$91K \n",
       "1      $63K-$112K \n",
       "2       $80K-$90K \n",
       "3       $56K-$97K \n",
       "4      $86K-$143K \n",
       "          ...     \n",
       "950    $58K-$111K \n",
       "951    $72K-$133K \n",
       "952     $56K-$91K \n",
       "953    $95K-$160K \n",
       "955    $61K-$126K \n",
       "Name: Salary Estimate, Length: 742, dtype: object"
      ]
     },
     "execution_count": 15,
     "metadata": {},
     "output_type": "execute_result"
    }
   ],
   "source": [
    "# Removing the text value from 'Salary Estimate' column\n",
    "salary = df['Salary Estimate'].apply(lambda x: x.split(\"(\")[0])\n",
    "salary"
   ]
  },
  {
   "cell_type": "code",
   "execution_count": 16,
   "metadata": {
    "colab": {
     "base_uri": "https://localhost:8080/",
     "height": 230
    },
    "colab_type": "code",
    "id": "mT5pb1atkb3T",
    "outputId": "3374f946-bc4b-49aa-a51b-8a64e2d4f59f"
   },
   "outputs": [
    {
     "data": {
      "text/plain": [
       "0       53-91 \n",
       "1      63-112 \n",
       "2       80-90 \n",
       "3       56-97 \n",
       "4      86-143 \n",
       "        ...   \n",
       "950    58-111 \n",
       "951    72-133 \n",
       "952     56-91 \n",
       "953    95-160 \n",
       "955    61-126 \n",
       "Name: Salary Estimate, Length: 742, dtype: object"
      ]
     },
     "execution_count": 16,
     "metadata": {},
     "output_type": "execute_result"
    }
   ],
   "source": [
    "# Removing '$' and 'K' from 'Salary Estimate' column\n",
    "salary = salary.apply(lambda x: x.replace(\"$\",\"\").replace(\"K\",\"\"))\n",
    "salary"
   ]
  },
  {
   "cell_type": "code",
   "execution_count": 17,
   "metadata": {
    "colab": {
     "base_uri": "https://localhost:8080/",
     "height": 176
    },
    "colab_type": "code",
    "id": "Lr2dA4kMmlHS",
    "outputId": "a2df794c-2750-4f4c-ba1c-bf01c1c05ff7"
   },
   "outputs": [
    {
     "name": "stdout",
     "output_type": "stream",
     "text": [
      "Length of Salary:  416\n"
     ]
    },
    {
     "data": {
      "text/plain": [
       "array(['77-132 ', '59-112 ', '35-65 ', '79-147 ', '119-187 ', '90-157 ',\n",
       "       '32-62 ', '116-208 ', '102-165 ', '91-159 ', '80-133 ', '39-69 ',\n",
       "       '27-48 ', '36-71 ', '130-206 ', '99-178 ', '86-137 ', '37-100 ',\n",
       "       '58-111 ', '72-133 ', '61-126 ', '95-160 ', '33-61 ', '69-119 ',\n",
       "       '67-127 ', '66-117 ', '50-98 ', '90-153 ',\n",
       "       'Employer Provided Salary:100-135', '42-79 ', '84-153 ', '44-73 ',\n",
       "       '40-87 ', '72-142 ', '74-137 ', '57-109 ', '136-208 ', '171-272 ',\n",
       "       '65-126 ', '118-228 ', '113-182 ', '58-104 ', '58-108 ', '81-161 ',\n",
       "       '115-220 ', '71-144 ', '32-57 ', '79-136 ', '48-113 ',\n",
       "       '27-47 Per Hour', '68-125 ', '39-67 ', '71-135 ', '61-123 ',\n",
       "       '87-141 ', '71-121 ', '72-121 ', '51-88 ', '101-141 ', '79-127 ',\n",
       "       '81-132 ', 'Employer Provided Salary:120-140', '65-113 ',\n",
       "       '59-125 ', '80-142 ', '62-113 '], dtype=object)"
      ]
     },
     "execution_count": 17,
     "metadata": {},
     "output_type": "execute_result"
    }
   ],
   "source": [
    "# Finding any inconsistencies in the salary\n",
    "print(\"Length of Salary: \",len(salary.unique()))\n",
    "salary.unique()[350:]"
   ]
  },
  {
   "cell_type": "code",
   "execution_count": 18,
   "metadata": {
    "colab": {},
    "colab_type": "code",
    "id": "1SkOn_gboK4r"
   },
   "outputs": [],
   "source": [
    "# Creating column for 'Per Hour'\n",
    "df['salary_per_hour'] = salary.apply(lambda x: 1 if \"per hour\" in x.lower() else 0)"
   ]
  },
  {
   "cell_type": "code",
   "execution_count": 19,
   "metadata": {
    "colab": {
     "base_uri": "https://localhost:8080/",
     "height": 70
    },
    "colab_type": "code",
    "id": "O3TughJKpN0i",
    "outputId": "60616e77-0d81-4abb-91cf-70b5305c2e1f"
   },
   "outputs": [
    {
     "data": {
      "text/plain": [
       "0    718\n",
       "1     24\n",
       "Name: salary_per_hour, dtype: int64"
      ]
     },
     "execution_count": 19,
     "metadata": {},
     "output_type": "execute_result"
    }
   ],
   "source": [
    "df['salary_per_hour'].value_counts()"
   ]
  },
  {
   "cell_type": "code",
   "execution_count": 20,
   "metadata": {
    "colab": {},
    "colab_type": "code",
    "id": "Xo6zKWTGo-FK"
   },
   "outputs": [],
   "source": [
    "# Creating column for 'Employee Provided Salary'\n",
    "df['emp_provided_salary'] = salary.apply(lambda x: 1 if \"employer provided salary\" in x.lower() else 0)"
   ]
  },
  {
   "cell_type": "code",
   "execution_count": 21,
   "metadata": {
    "colab": {
     "base_uri": "https://localhost:8080/",
     "height": 70
    },
    "colab_type": "code",
    "id": "c65h9SBKp0aZ",
    "outputId": "d61d998c-4334-4284-bd83-36988050ed56"
   },
   "outputs": [
    {
     "data": {
      "text/plain": [
       "0    725\n",
       "1     17\n",
       "Name: emp_provided_salary, dtype: int64"
      ]
     },
     "execution_count": 21,
     "metadata": {},
     "output_type": "execute_result"
    }
   ],
   "source": [
    "df['emp_provided_salary'].value_counts()"
   ]
  },
  {
   "cell_type": "code",
   "execution_count": 22,
   "metadata": {
    "colab": {
     "base_uri": "https://localhost:8080/",
     "height": 123
    },
    "colab_type": "code",
    "id": "Q0hLe_rrlL-S",
    "outputId": "709834e9-e6b0-4ed3-d6e1-ede4caa00c98"
   },
   "outputs": [
    {
     "data": {
      "text/plain": [
       "array(['77-132', '59-112', '35-65', '79-147', '119-187', '90-157',\n",
       "       '32-62', '116-208', '102-165', '91-159', '80-133', '39-69',\n",
       "       '27-48', '36-71', '130-206', '99-178', '86-137', '37-100',\n",
       "       '58-111', '72-133', '61-126', '95-160', '33-61', '69-119',\n",
       "       '67-127', '66-117', '50-98', '90-153', '100-135', '42-79',\n",
       "       '84-153', '44-73', '40-87', '72-142', '74-137', '57-109',\n",
       "       '136-208', '171-272', '65-126', '118-228', '113-182', '58-104',\n",
       "       '58-108', '81-161', '115-220', '71-144', '32-57', '79-136',\n",
       "       '48-113', '27-47', '68-125', '39-67', '71-135', '61-123', '87-141',\n",
       "       '71-121', '72-121', '51-88', '101-141', '79-127', '81-132',\n",
       "       '120-140', '65-113', '59-125', '80-142', '62-113'], dtype=object)"
      ]
     },
     "execution_count": 22,
     "metadata": {},
     "output_type": "execute_result"
    }
   ],
   "source": [
    "# Removing 'Per Hour' and 'Employer Provided Salary' from salary variable\n",
    "salary = salary.apply(lambda x: x.lower().replace(\"per hour\", \"\").replace(\"employer provided salary:\", \"\").replace(\" \",\"\"))\n",
    "salary.unique()[350:]"
   ]
  },
  {
   "cell_type": "code",
   "execution_count": 23,
   "metadata": {
    "colab": {
     "base_uri": "https://localhost:8080/",
     "height": 123
    },
    "colab_type": "code",
    "id": "hcvgqRnToD6h",
    "outputId": "580a668b-739e-4957-c6e3-645822382188"
   },
   "outputs": [
    {
     "data": {
      "text/plain": [
       "950    58\n",
       "951    72\n",
       "952    56\n",
       "953    95\n",
       "955    61\n",
       "Name: min_salary, dtype: int64"
      ]
     },
     "execution_count": 23,
     "metadata": {},
     "output_type": "execute_result"
    }
   ],
   "source": [
    "# Creating column for min_salary\n",
    "df[\"min_salary\"] = salary.apply(lambda x: int(x.split(\"-\")[0]))\n",
    "df[\"min_salary\"].tail()"
   ]
  },
  {
   "cell_type": "code",
   "execution_count": 24,
   "metadata": {
    "colab": {
     "base_uri": "https://localhost:8080/",
     "height": 123
    },
    "colab_type": "code",
    "id": "Fb7yr9bZNBC6",
    "outputId": "a0eda596-51f3-49cb-e11d-8bc3a9869096"
   },
   "outputs": [
    {
     "data": {
      "text/plain": [
       "950    111\n",
       "951    133\n",
       "952     91\n",
       "953    160\n",
       "955    126\n",
       "Name: max_salary, dtype: int64"
      ]
     },
     "execution_count": 24,
     "metadata": {},
     "output_type": "execute_result"
    }
   ],
   "source": [
    "# Creating column for max_salary\n",
    "df[\"max_salary\"] = salary.apply(lambda x: int(x.split(\"-\")[1]))\n",
    "df[\"max_salary\"].tail()"
   ]
  },
  {
   "cell_type": "code",
   "execution_count": 25,
   "metadata": {
    "colab": {},
    "colab_type": "code",
    "id": "OJAqk3X1NYlT"
   },
   "outputs": [],
   "source": [
    "# Creating column for average_salary\n",
    "df[\"average_salary\"] = (df[\"min_salary\"]+df[\"max_salary\"])/2"
   ]
  },
  {
   "cell_type": "code",
   "execution_count": 26,
   "metadata": {
    "colab": {},
    "colab_type": "code",
    "id": "GuobWvRr1bAE"
   },
   "outputs": [],
   "source": [
    "# Converting the hourly salaries to annual salaries\n",
    "# df['min_salary'] = df.apply(lambda x: x['min_salary']*2 if x['salary_per_hour'] == 1 else x['min_salary'], axis=1)"
   ]
  },
  {
   "cell_type": "code",
   "execution_count": 27,
   "metadata": {
    "colab": {},
    "colab_type": "code",
    "id": "V7yia8LZ3h1c"
   },
   "outputs": [],
   "source": [
    "# df['max_salary'] = df.apply(lambda x: x['max_salary']*2 if x['salary_per_hour'] == 1 else x['max_salary'], axis=1)"
   ]
  },
  {
   "cell_type": "code",
   "execution_count": 28,
   "metadata": {
    "colab": {
     "base_uri": "https://localhost:8080/",
     "height": 767
    },
    "colab_type": "code",
    "id": "f4rVALiD3rTs",
    "outputId": "447deaa6-c06a-43b5-fc09-76c7945b3a8d"
   },
   "outputs": [
    {
     "data": {
      "text/html": [
       "<div>\n",
       "<style scoped>\n",
       "    .dataframe tbody tr th:only-of-type {\n",
       "        vertical-align: middle;\n",
       "    }\n",
       "\n",
       "    .dataframe tbody tr th {\n",
       "        vertical-align: top;\n",
       "    }\n",
       "\n",
       "    .dataframe thead th {\n",
       "        text-align: right;\n",
       "    }\n",
       "</style>\n",
       "<table border=\"1\" class=\"dataframe\">\n",
       "  <thead>\n",
       "    <tr style=\"text-align: right;\">\n",
       "      <th></th>\n",
       "      <th>salary_per_hour</th>\n",
       "      <th>min_salary</th>\n",
       "      <th>max_salary</th>\n",
       "    </tr>\n",
       "  </thead>\n",
       "  <tbody>\n",
       "    <tr>\n",
       "      <td>197</td>\n",
       "      <td>1</td>\n",
       "      <td>17</td>\n",
       "      <td>24</td>\n",
       "    </tr>\n",
       "    <tr>\n",
       "      <td>209</td>\n",
       "      <td>1</td>\n",
       "      <td>21</td>\n",
       "      <td>34</td>\n",
       "    </tr>\n",
       "    <tr>\n",
       "      <td>240</td>\n",
       "      <td>1</td>\n",
       "      <td>18</td>\n",
       "      <td>25</td>\n",
       "    </tr>\n",
       "    <tr>\n",
       "      <td>247</td>\n",
       "      <td>1</td>\n",
       "      <td>21</td>\n",
       "      <td>34</td>\n",
       "    </tr>\n",
       "    <tr>\n",
       "      <td>257</td>\n",
       "      <td>1</td>\n",
       "      <td>15</td>\n",
       "      <td>25</td>\n",
       "    </tr>\n",
       "    <tr>\n",
       "      <td>307</td>\n",
       "      <td>1</td>\n",
       "      <td>17</td>\n",
       "      <td>24</td>\n",
       "    </tr>\n",
       "    <tr>\n",
       "      <td>337</td>\n",
       "      <td>1</td>\n",
       "      <td>21</td>\n",
       "      <td>34</td>\n",
       "    </tr>\n",
       "    <tr>\n",
       "      <td>427</td>\n",
       "      <td>1</td>\n",
       "      <td>18</td>\n",
       "      <td>25</td>\n",
       "    </tr>\n",
       "    <tr>\n",
       "      <td>437</td>\n",
       "      <td>1</td>\n",
       "      <td>24</td>\n",
       "      <td>39</td>\n",
       "    </tr>\n",
       "    <tr>\n",
       "      <td>456</td>\n",
       "      <td>1</td>\n",
       "      <td>21</td>\n",
       "      <td>34</td>\n",
       "    </tr>\n",
       "    <tr>\n",
       "      <td>464</td>\n",
       "      <td>1</td>\n",
       "      <td>25</td>\n",
       "      <td>28</td>\n",
       "    </tr>\n",
       "    <tr>\n",
       "      <td>522</td>\n",
       "      <td>1</td>\n",
       "      <td>21</td>\n",
       "      <td>29</td>\n",
       "    </tr>\n",
       "    <tr>\n",
       "      <td>523</td>\n",
       "      <td>1</td>\n",
       "      <td>10</td>\n",
       "      <td>17</td>\n",
       "    </tr>\n",
       "    <tr>\n",
       "      <td>632</td>\n",
       "      <td>1</td>\n",
       "      <td>18</td>\n",
       "      <td>25</td>\n",
       "    </tr>\n",
       "    <tr>\n",
       "      <td>652</td>\n",
       "      <td>1</td>\n",
       "      <td>24</td>\n",
       "      <td>39</td>\n",
       "    </tr>\n",
       "    <tr>\n",
       "      <td>682</td>\n",
       "      <td>1</td>\n",
       "      <td>21</td>\n",
       "      <td>34</td>\n",
       "    </tr>\n",
       "    <tr>\n",
       "      <td>694</td>\n",
       "      <td>1</td>\n",
       "      <td>25</td>\n",
       "      <td>28</td>\n",
       "    </tr>\n",
       "    <tr>\n",
       "      <td>786</td>\n",
       "      <td>1</td>\n",
       "      <td>21</td>\n",
       "      <td>29</td>\n",
       "    </tr>\n",
       "    <tr>\n",
       "      <td>787</td>\n",
       "      <td>1</td>\n",
       "      <td>10</td>\n",
       "      <td>17</td>\n",
       "    </tr>\n",
       "    <tr>\n",
       "      <td>823</td>\n",
       "      <td>1</td>\n",
       "      <td>27</td>\n",
       "      <td>47</td>\n",
       "    </tr>\n",
       "    <tr>\n",
       "      <td>854</td>\n",
       "      <td>1</td>\n",
       "      <td>18</td>\n",
       "      <td>25</td>\n",
       "    </tr>\n",
       "    <tr>\n",
       "      <td>875</td>\n",
       "      <td>1</td>\n",
       "      <td>24</td>\n",
       "      <td>39</td>\n",
       "    </tr>\n",
       "    <tr>\n",
       "      <td>919</td>\n",
       "      <td>1</td>\n",
       "      <td>21</td>\n",
       "      <td>34</td>\n",
       "    </tr>\n",
       "    <tr>\n",
       "      <td>936</td>\n",
       "      <td>1</td>\n",
       "      <td>25</td>\n",
       "      <td>28</td>\n",
       "    </tr>\n",
       "  </tbody>\n",
       "</table>\n",
       "</div>"
      ],
      "text/plain": [
       "     salary_per_hour  min_salary  max_salary\n",
       "197                1          17          24\n",
       "209                1          21          34\n",
       "240                1          18          25\n",
       "247                1          21          34\n",
       "257                1          15          25\n",
       "307                1          17          24\n",
       "337                1          21          34\n",
       "427                1          18          25\n",
       "437                1          24          39\n",
       "456                1          21          34\n",
       "464                1          25          28\n",
       "522                1          21          29\n",
       "523                1          10          17\n",
       "632                1          18          25\n",
       "652                1          24          39\n",
       "682                1          21          34\n",
       "694                1          25          28\n",
       "786                1          21          29\n",
       "787                1          10          17\n",
       "823                1          27          47\n",
       "854                1          18          25\n",
       "875                1          24          39\n",
       "919                1          21          34\n",
       "936                1          25          28"
      ]
     },
     "execution_count": 28,
     "metadata": {},
     "output_type": "execute_result"
    }
   ],
   "source": [
    "df[df['salary_per_hour'] == 1][['salary_per_hour','min_salary','max_salary']]"
   ]
  },
  {
   "cell_type": "code",
   "execution_count": 29,
   "metadata": {},
   "outputs": [
    {
     "data": {
      "text/plain": [
       "array(['Tecolote Research\\n3.8',\n",
       "       'University of Maryland Medical System\\n3.4', 'KnowBe4\\n4.8',\n",
       "       'PNNL\\n3.8', 'Affinity Solutions\\n2.9', 'CyrusOne\\n3.4',\n",
       "       'ClearOne Advantage\\n4.1', 'Logic20/20\\n3.8',\n",
       "       'Rochester Regional Health\\n3.3', '<intent>\\n4.6', 'Wish\\n3.5',\n",
       "       'ManTech\\n4.1', 'Walmart\\n3.2', 'Yesler\\n4.1',\n",
       "       'Takeda Pharmaceuticals\\n3.7', 'Audible\\n3.6',\n",
       "       'Blueprint Medicines\\n3.9', 'h2o.ai\\n4.3', 'Nuna\\n4.2',\n",
       "       'Pinnacol Assurance\\n4.0', 'Porch\\n3.2', 'Health IQ\\n3.9',\n",
       "       'Truckstop.com\\n3.8', 'SMC 3\\n4.3', 'Novetta\\n4.0', 'Pfizer\\n4.0',\n",
       "       'First Tech Federal Credit Union\\n3.5',\n",
       "       'The Hanover Insurance Group\\n3.7', 'Amrock\\n3.6', 'Novartis\\n3.8',\n",
       "       'Juniper Networks\\n3.8', 'New England Biolabs\\n4.7',\n",
       "       'Clarity Insights\\n4.2', 'Esri\\n3.5',\n",
       "       'Systems & Technology Research\\n4.7', 'Sartorius\\n3.5',\n",
       "       'Lancer Insurance\\n3.5', 'Sauce Labs\\n4.2', 'Persivia\\n3.6',\n",
       "       'Edgewell Personal Care\\n3.4', 'Equity Residential\\n4.3',\n",
       "       'BPA Services\\n5.0', 'Visa Inc.\\n3.7', 'Intrado\\n3.1',\n",
       "       'Centauri\\n4.7', 'Caterpillar\\n3.7', 'Zimmerman Advertising\\n3.8',\n",
       "       'Liberty Mutual Insurance\\n3.3', 'Torch Technologies, Inc.\\n4.6',\n",
       "       'Swiss Re\\n3.7', 'Northrop Grumman\\n3.7', 'Netskope\\n4.1',\n",
       "       '1904labs\\n4.7', 'The David J. Joseph Company\\n4.4',\n",
       "       'USEReady\\n4.3', 'Bill.com\\n3.8',\n",
       "       'Pacific Northwest National Laboratory\\n3.8',\n",
       "       \"DICK'S Sporting Goods - Corporate\\n3.8\", 'Berg Health\\n2.8',\n",
       "       'Oversight Systems\\n4.7', 'C Space\\n3.1', 'Numeric, LLC\\n3.2',\n",
       "       'HP Inc.\\n4.0', 'SpringML\\n4.4', 'Grainger\\n3.6',\n",
       "       'EAG Laboratories\\n2.7', 'The Buffalo Group\\n3.9', 'Carmeuse\\n3.1',\n",
       "       'GNS Healthcare\\n1.9', 'Peraton\\n3.3', 'Pactera\\n4.4', 'Nurx\\n3.9',\n",
       "       'webfx.com\\n4.7',\n",
       "       'Johns Hopkins University Applied Physics Laboratory\\n4.5',\n",
       "       'Productive Edge\\n4.3', 'Excella Consulting\\n4.0', 'Gensco\\n4.4',\n",
       "       'goTRG\\n4.2', 'NMR Consulting\\n4.5', 'iSeatz\\n3.5',\n",
       "       'Nektar Therapeutics\\n3.5', 'TransUnion\\n3.9', 'IT Concepts\\n4.7',\n",
       "       'Scientific Research Corporation\\n4.2',\n",
       "       'General Dynamics Information Technology\\n3.4', 'MITRE\\n3.2',\n",
       "       'DentaQuest\\n3.1', 'Redjack\\n4.1', '7Park Data\\n3.8',\n",
       "       'Rapid Response Monitoring\\n4.7', 'Trilogy Ed\\n4.3', 'Gallup\\n4.2',\n",
       "       'CapTech\\n3.9', 'American Axle & Manufacturing\\n3.3',\n",
       "       'CentralReach\\n4.7', 'Integrate\\n4.3', 'Boys Town Hospital\\n2.9',\n",
       "       'Demandbase\\n4.5', 'Sapphire Digital\\n3.4', 'Formation\\n3.2',\n",
       "       'Autodesk\\n4.0', \"Beck's Hybrids\\n4.6\", 'DrFirst\\n2.8',\n",
       "       'Object Partners\\n4.7', 'L.A. Care Health Plan\\n3.0',\n",
       "       'Red Ventures\\n3.2', 'Quick Base\\n4.4',\n",
       "       'The E.W. Scripps Company\\n3.5', 'Upside Business Travel\\n4.0',\n",
       "       'Synagro\\n2.3', 'Alliance Source Testing\\n4.0',\n",
       "       'Accuride International\\n3.6', 'Full Potential Solutions\\n3.8',\n",
       "       'Maven Wave Partners\\n4.4',\n",
       "       'First Command Financial Services, Inc.\\n3.2', 'Pharmavite\\n2.9',\n",
       "       'BioMarin Pharmaceutical\\n3.8', 'Stratagem Group\\n4.3',\n",
       "       'PA Consulting\\n3.4', 'Gridiron IT\\n5.0',\n",
       "       'Evolve Vacation Rental\\n3.7',\n",
       "       'The Church of Jesus Christ of Latter-day Saints\\n4.2',\n",
       "       'Maximus Real Estate Partners\\n4.3',\n",
       "       'Software Engineering Institute\\n2.6', 'AVANADE\\n3.9',\n",
       "       'PatientPoint\\n3.8', 'BlueCross BlueShield of Tennessee\\n3.8',\n",
       "       'KSM Consulting\\n4.4', 'Cogo Labs\\n3.9', 'Church & Dwight\\n3.4',\n",
       "       'MassMutual\\n3.6', 'Genentech\\n3.9',\n",
       "       'Legal & General America\\n3.8', 'Western Digital\\n3.5',\n",
       "       'Sunovion\\n3.5', 'National Student Clearinghouse\\n2.9',\n",
       "       'Tower Health\\n3.6', 'State of Wisconsin Investment Board\\n2.7',\n",
       "       'Rubius Therapeutics\\n4.4', 'OneMagnify\\n4.3', 'IZEA\\n4.2',\n",
       "       'Vionic Group\\n3.6', 'Dodge Data & Analytics\\n2.8',\n",
       "       'Plymouth Rock Assurance\\n3.3', 'CA-One Tech Cloud',\n",
       "       'Beebe Healthcare\\n3.6', 'Argo Group US\\n3.4',\n",
       "       'Associated Electric Cooperative\\n4.1', 'PennyMac\\n3.2',\n",
       "       'Zest AI\\n3.9', 'DECISIVE ANALYTICS Corporation\\n4.7',\n",
       "       'Karyopharm Therapeutics Inc.\\n2.9', 'Tempus Labs\\n3.0',\n",
       "       'Recursion Pharmaceuticals\\n4.7', 'P2 Energy Solutions\\n3.7',\n",
       "       'ClearEdge\\n4.0', 'Tapjoy\\n3.9', 'Credit Sesame\\n4.1',\n",
       "       'San Manuel Casino\\n3.6', 'Texas Health Huguley Hospital\\n4.0',\n",
       "       'Teasdale Latin Foods\\n2.4',\n",
       "       'Central California Alliance for Health\\n3.5',\n",
       "       'Pilot Flying J Travel Centers LLC\\n3.0', \"Palermo's Pizza\\n3.3\",\n",
       "       'Advanced BioScience Laboratories\\n2.7',\n",
       "       'Echo Global Logistics\\n3.4', 'Lockheed Martin\\n3.7',\n",
       "       'Acuity Insurance\\n4.8', 'Fareportal\\n3.8',\n",
       "       'Veterans Affairs, Veterans Health Administration\\n3.4',\n",
       "       'Credera\\n4.3', 'Spectrum Communications and Consulting\\n3.4',\n",
       "       'NCSOFT\\n3.1', 'Dayton Freight Lines, Inc.\\n4.3',\n",
       "       'Community Action Partnership of San Luis Obispo\\n2.8',\n",
       "       'TrueAccord\\n3.4', 'DRB Systems\\n4.0', 'Corcentric\\n3.7',\n",
       "       'U.Group\\n3.5', 'Systems Evolution Inc.\\n4.7', 'Eventbrite\\n4.4',\n",
       "       'Centro\\n4.1', 'comScore\\n2.5', 'SullivanCotter\\n4.2', 'NPD\\n3.9',\n",
       "       'Bakery Agency\\n4.3',\n",
       "       'Blue Cross & Blue Shield of Rhode Island\\n3.4', 'Boys Town\\n3.8',\n",
       "       'The HSC Health Care System\\n3.3', 'Pro-Sphere Tek\\n3.4',\n",
       "       'Ameritas Life Insurance Corp\\n3.0', 'Genworth\\n3.7',\n",
       "       'Trace Data\\n3.9', 'Clearwater Analytics\\n4.2',\n",
       "       'Tekvalley, Corp.\\n4.0', 'BWX Technologies\\n3.5', 'Vermeer\\n3.9',\n",
       "       'L&T Infotech\\n3.5', 'OceanFirst Financial\\n4.3', \"Sotheby's\\n3.6\",\n",
       "       'Vanda Pharmaceuticals\\n2.3', 'CK-12 Foundation\\n4.1',\n",
       "       'Opinion Dynamics\\n4.2', 'Applied Information Sciences\\n4.6',\n",
       "       'WK Dickson\\n4.4', 'Southwest Research Institute\\n3.9', 'Muso',\n",
       "       'The Integer Group\\n2.2', 'Samba TV\\n3.3', 'SV Microwave\\n3.4',\n",
       "       'Sumo Logic\\n3.8', 'EAB\\n3.5', 'Brighthouse Financial\\n3.5',\n",
       "       'Citadel Federal Credit Union\\n3.9', 'CALIBRE Systems\\n3.7',\n",
       "       'Motorola Solutions\\n3.7', 'Reynolds American\\n3.1',\n",
       "       'Infosys\\n3.0', 'Alignment Healthcare\\n3.5',\n",
       "       'Cboe Global Markets\\n3.7', 'Guidepoint\\n3.2',\n",
       "       'Cerus Corporation\\n2.1', 'Vail Health\\n3.7', 'AstraZeneca\\n3.9',\n",
       "       'MathWorks\\n4.4', 'MetroStar Systems\\n3.4',\n",
       "       'Audentes Therapeutics\\n2.9', 'National Interstate\\n3.3',\n",
       "       'Moser Consulting\\n4.5', 'Mcphail Associates\\n3.3',\n",
       "       'Crown Bioscience\\n2.4', 'HOVER\\n4.8', 'Q2 Solutions\\n2.9',\n",
       "       'Arbella Insurance\\n3.4', 'Kronos Bio',\n",
       "       'Associated Banc-Corp\\n3.8', 'Genesys\\n4.3', 'Moda Operandi\\n1.9',\n",
       "       'QK\\n4.7', 'Santander\\n3.1', 'Tivity Health\\n3.4', 'BRMi\\n4.4',\n",
       "       'Luminar Technologies\\n3.9', 'Emtec, Inc.\\n3.9',\n",
       "       'Veterans United Home Loans\\n4.7', 'Praetorian\\n4.7',\n",
       "       'Agios Pharmaceuticals\\n3.8', 'Glassdoor\\n4.0', 'Assurant\\n3.4',\n",
       "       'F&G\\n3.7', 'GreatAmerica Financial Services\\n4.6',\n",
       "       'Acceleron Pharma\\n4.4', 'AmeriHealth Caritas\\n3.0',\n",
       "       'Strategic Employment Partners\\n4.7',\n",
       "       'Catholic Health Initiatives\\n3.2', 'FLEETCOR\\n2.7',\n",
       "       'Applied Research Laboratories\\n3.7', 'Raytheon\\n3.7',\n",
       "       'RTI International\\n4.3', 'TRANZACT\\n3.6', 'United BioSource\\n2.1',\n",
       "       'Figure Eight\\n3.9', 'Royce Geospatial\\n5.0', 'Citi\\n3.6',\n",
       "       'Sage Intacct\\n4.7', 'Scale AI\\n3.5', 'Change Healthcare\\n2.7',\n",
       "       'MZ\\n3.4', 'HG Insights\\n4.7', '1-800-FLOWERS.COM, Inc.\\n2.8',\n",
       "       'CBS Interactive\\n3.5', 'Samsung Research America\\n3.7',\n",
       "       'Lorven Technologies Inc\\n4.0', 'CareDx\\n2.5', 'Serigor Inc.\\n3.9',\n",
       "       'Leidos\\n3.4', 'Beckman Coulter Diagnostics\\n3.6',\n",
       "       'IHS Markit\\n3.5', 'ALIN', 'e-IT Professionals Corp.\\n3.5',\n",
       "       'TechProjects\\n4.8', 'Biz2Credit Inc\\n4.0', 'PeoplesBank\\n4.2',\n",
       "       'Capgemini\\n3.8', 'GNY Insurance Companies\\n3.7',\n",
       "       'Conch Technologies, Inc\\n4.6', 'Medidata Solutions\\n4.3',\n",
       "       'Quartet Health\\n3.9', 'Success Academy Charter Schools\\n3.1',\n",
       "       'AXION Healthcare Solutions\\n3.6', 'ExecOnline\\n4.2', 'Mteq\\n4.0',\n",
       "       'Brillient\\n3.7', 'Entefy\\n4.4', 'Trace3\\n3.4',\n",
       "       'Saama Technologies Inc\\n3.5', 'Two Sigma\\n4.4',\n",
       "       'Strategic Financial Solutions\\n4.0',\n",
       "       'Remedy BPCI Partners, LLC.\\n3.4', 'The Climate Corporation\\n3.2',\n",
       "       'Crossix Solutions\\n3.5', 'GSK\\n3.9', 'Factual\\n4.3',\n",
       "       'TriNet\\n3.3', 'Signpost\\n3.9', 'Adobe\\n4.0', 'Equian LLC\\n3.2',\n",
       "       'Information Builders\\n3.2', 'Greenway Health\\n3.0',\n",
       "       'Confluent\\n4.7', 'Life360\\n3.9', 'IQVIA\\n3.6',\n",
       "       'Riverside Research Institute\\n3.6',\n",
       "       'Icon Health and Fitness\\n3.1', 'Shipt\\n3.8',\n",
       "       'Monte Rosa Therapeutics', 'IntraEdge\\n3.4',\n",
       "       'COUNTRY Financial\\n3.8', 'Mentor Graphics\\n4.1',\n",
       "       'Maxar Technologies\\n3.7', 'ICW Group\\n2.8', 'Exelixis\\n3.0',\n",
       "       'Grand Rounds\\n4.2', 'SPINS, LLC\\n3.5', 'DTCC\\n3.3',\n",
       "       'Carilion Clinic\\n3.7', 'DoubleVerify\\n3.2',\n",
       "       'Mitsubishi Electric Research Labs\\n4.6',\n",
       "       'Rodan and Fields, LLC\\n2.2', 'DESC\\n3.4',\n",
       "       'Johns Hopkins Health Care\\n3.3',\n",
       "       'Community Behavioral Health\\n3.7', 'FORMA THERAPEUTICS\\n3.8',\n",
       "       'Bridg\\n2.7', 'Charter Spectrum\\n3.5', 'CompQsoft\\n3.4',\n",
       "       'Solugenix Corporation\\n4.3', 'West Coast University\\n2.6',\n",
       "       'SoftBank Robotics\\n3.8', 'SkySync\\n5.0', 'DatamanUSA, LLC\\n3.4',\n",
       "       '23andMe\\n4.0', 'Fivestars\\n3.9'], dtype=object)"
      ]
     },
     "execution_count": 29,
     "metadata": {},
     "output_type": "execute_result"
    }
   ],
   "source": [
    "df['Company Name'].unique()"
   ]
  },
  {
   "cell_type": "code",
   "execution_count": 30,
   "metadata": {
    "colab": {
     "base_uri": "https://localhost:8080/",
     "height": 212
    },
    "colab_type": "code",
    "id": "jTMzGa-PNPOg",
    "outputId": "f7fa7c7a-1ab3-47ff-b31b-76b3aa394dd3"
   },
   "outputs": [
    {
     "data": {
      "text/plain": [
       "0                        Tecolote Research\n",
       "1    University of Maryland Medical System\n",
       "2                                  KnowBe4\n",
       "3                                     PNNL\n",
       "4                       Affinity Solutions\n",
       "5                                 CyrusOne\n",
       "6                       ClearOne Advantage\n",
       "7                               Logic20/20\n",
       "8                Rochester Regional Health\n",
       "9                                 <intent>\n",
       "Name: Company Name, dtype: object"
      ]
     },
     "execution_count": 30,
     "metadata": {},
     "output_type": "execute_result"
    }
   ],
   "source": [
    "# Removing \\n i.e. (new line) from 'Company Name' column\n",
    "df[\"Company Name\"] = df['Company Name'].apply(lambda x: x.split(\"\\n\")[0])\n",
    "df[\"Company Name\"].head(10)"
   ]
  },
  {
   "cell_type": "code",
   "execution_count": 31,
   "metadata": {},
   "outputs": [
    {
     "data": {
      "text/plain": [
       "array(['Albuquerque, NM', 'Linthicum, MD', 'Clearwater, FL',\n",
       "       'Richland, WA', 'New York, NY', 'Dallas, TX', 'Baltimore, MD',\n",
       "       'San Jose, CA', 'Rochester, NY', 'Chantilly, VA', 'Plano, TX',\n",
       "       'Seattle, WA', 'Cambridge, MA', 'Newark, NJ', 'Mountain View, CA',\n",
       "       'San Francisco, CA', 'Denver, CO', 'Chicago, IL', 'Louisville, KY',\n",
       "       'Herndon, VA', 'Hillsboro, OR', 'Worcester, MA', 'Groton, CT',\n",
       "       'Detroit, MI', 'Sunnyvale, CA', 'Ipswich, MA', 'Redlands, CA',\n",
       "       'Woburn, MA', 'Fremont, CA', 'Long Beach, NY', 'Marlborough, MA',\n",
       "       'Allendale, NJ', 'Washington, DC', 'Bellevue, WA', 'Longmont, CO',\n",
       "       'Beavercreek, OH', 'Peoria, IL', 'Fort Lauderdale, FL',\n",
       "       'Boston, MA', 'Huntsville, AL', 'Armonk, NY', 'San Diego, CA',\n",
       "       'Saint Louis, MO', 'Cincinnati, OH', 'Palo Alto, CA',\n",
       "       'Coraopolis, PA', 'Framingham, MA', 'Atlanta, GA',\n",
       "       'Philadelphia, PA', 'Vancouver, WA', 'Indianapolis, IN',\n",
       "       'Lake Forest, IL', 'Maryland Heights, MO', 'Charlottesville, VA',\n",
       "       'Pittsburgh, PA', 'Harrisburg, PA', 'Laurel, MD', 'Arlington, VA',\n",
       "       'Tacoma, WA', 'Miami, FL', 'New Orleans, LA', 'Landover, MD',\n",
       "       'Patuxent River, MD', 'Suitland, MD', 'McLean, VA',\n",
       "       'Fort Belvoir, VA', 'Milwaukee, WI', 'Silver Spring, MD',\n",
       "       'Syracuse, NY', 'Houston, TX', 'Charlotte, NC', 'Southfield, MI',\n",
       "       'Matawan, NJ', 'Phoenix, AZ', 'Omaha, NE', 'Lyndhurst, NJ',\n",
       "       'Atlanta, IN', 'Rockville, MD', 'Minneapolis, MN',\n",
       "       'Los Angeles, CA', 'Alabaster, AL',\n",
       "       'Santa Fe Springs, Los Angeles, CA', 'Kansas City, MO',\n",
       "       'Ashburn, VA', 'Fort Worth, TX', 'Valencia, CA', 'Novato, CA',\n",
       "       'Aurora, CO', 'Tampa, FL', 'Riverton, UT', 'Chattanooga, TN',\n",
       "       'Ewing, NJ', 'South San Francisco, CA', 'Cupertino, CA',\n",
       "       'Frederick, MD', 'West Reading, PA', 'Madison, WI', 'Dearborn, MI',\n",
       "       'Winter Park, FL', 'San Rafael, CA', 'Hamilton, NJ',\n",
       "       'Woodbridge, NJ', 'Lewes, DE', 'Springfield, MO', 'Burbank, CA',\n",
       "       'Newton, MA', 'Salt Lake City, UT', 'Lafayette, LA',\n",
       "       'Annapolis Junction, MD', 'Highland, CA', 'Burleson, TX',\n",
       "       'Hoopeston, IL', 'Scotts Valley, CA', 'Knoxville, TN',\n",
       "       'Millville, DE', 'Sheboygan, WI', 'San Mateo, CA', 'Dayton, OH',\n",
       "       'Parlier, CA', 'Meridian, ID', 'Cherry Hill, NJ', 'Nashville, TN',\n",
       "       'Portland, OR', 'Port Washington, NY', 'Austin, TX',\n",
       "       'Providence, RI', 'Raleigh, NC', 'Phila, PA', 'Oakland, CA',\n",
       "       'Boise, ID', 'Oak Ridge, TN', 'Agoura Hills, CA', 'Pella, IA',\n",
       "       'San Ramon, CA', 'Red Bank, NJ', 'Columbia, SC', 'Springfield, MA',\n",
       "       'San Antonio, TX', 'Portsmouth, VA', 'West Palm Beach, FL',\n",
       "       'Exton, PA', 'Alexandria, VA', 'Owensboro, KY', 'Hartford, CT',\n",
       "       'Orange, CA', 'Lenexa, KS', 'Concord, CA', 'Vail, CO',\n",
       "       'Natick, MA', 'Winston-Salem, NC', 'Richfield, OH', 'Hampton, VA',\n",
       "       'Ithaca, NY', 'Marietta, GA', 'Quincy, MA', 'Green Bay, WI',\n",
       "       'Durham, NC', 'Clovis, CA', 'Chandler, AZ', 'Orlando, FL',\n",
       "       'Columbia, MO', 'Westlake, OH', 'Des Moines, IA',\n",
       "       'Cedar Rapids, IA', 'Fort Lee, NJ', 'Blue Bell, PA',\n",
       "       'Springfield, VA', 'Jersey City, NJ', 'Emeryville, CA',\n",
       "       'Santa Barbara, CA', 'Carle Place, NY', 'King of Prussia, PA',\n",
       "       'Santa Clara, CA', 'Brisbane, CA', 'Foster City, CA',\n",
       "       'Holyoke, MA', 'Waltham, MA', 'Corvallis, OR', 'Gaithersburg, MD',\n",
       "       'Bedford, MA', 'Aliso Viejo, CA', 'Dublin, CA', 'Arvada, CO',\n",
       "       'Franklin, TN', 'Plymouth Meeting, PA', 'Allentown, PA',\n",
       "       'Logan, UT', 'Birmingham, AL', 'Reston, VA', 'Scottsdale, AZ',\n",
       "       'Bloomington, IL', 'Alameda, CA', 'Roanoke, VA', 'Glen Burnie, MD',\n",
       "       'Milpitas, CA', 'Watertown, MA', 'Cambridge, MD', 'Irvine, CA',\n",
       "       'Ann Arbor, MI', 'Olympia, WA'], dtype=object)"
      ]
     },
     "execution_count": 31,
     "metadata": {},
     "output_type": "execute_result"
    }
   ],
   "source": [
    "df['Location'].unique()"
   ]
  },
  {
   "cell_type": "code",
   "execution_count": 32,
   "metadata": {
    "colab": {
     "base_uri": "https://localhost:8080/",
     "height": 123
    },
    "colab_type": "code",
    "id": "PyRBC1BSQinB",
    "outputId": "7d07af34-7071-4fc2-a719-36af92bfa2c4"
   },
   "outputs": [
    {
     "data": {
      "text/plain": [
       "0     NM\n",
       "1     MD\n",
       "2     FL\n",
       "3     WA\n",
       "4     NY\n",
       "Name: job_state, dtype: object"
      ]
     },
     "execution_count": 32,
     "metadata": {},
     "output_type": "execute_result"
    }
   ],
   "source": [
    "# Creating a column 'job_state'\n",
    "df[\"job_state\"] = df[\"Location\"].apply(lambda x: x.split(',')[1])\n",
    "df[\"job_state\"].head()"
   ]
  },
  {
   "cell_type": "code",
   "execution_count": 33,
   "metadata": {
    "colab": {
     "base_uri": "https://localhost:8080/",
     "height": 105
    },
    "colab_type": "code",
    "id": "3SwkYqmszOOF",
    "outputId": "bb4ff0d7-a67c-48a9-b35b-b09bd569135d"
   },
   "outputs": [
    {
     "data": {
      "text/plain": [
       "array([' NM', ' MD', ' FL', ' WA', ' NY', ' TX', ' CA', ' VA', ' MA',\n",
       "       ' NJ', ' CO', ' IL', ' KY', ' OR', ' CT', ' MI', ' DC', ' OH',\n",
       "       ' AL', ' MO', ' PA', ' GA', ' IN', ' LA', ' WI', ' NC', ' AZ',\n",
       "       ' NE', ' MN', ' Los Angeles', ' UT', ' TN', ' DE', ' ID', ' RI',\n",
       "       ' IA', ' SC', ' KS'], dtype=object)"
      ]
     },
     "execution_count": 33,
     "metadata": {},
     "output_type": "execute_result"
    }
   ],
   "source": [
    "df['job_state'].unique()"
   ]
  },
  {
   "cell_type": "code",
   "execution_count": 34,
   "metadata": {},
   "outputs": [
    {
     "data": {
      "text/plain": [
       "'nm'"
      ]
     },
     "execution_count": 34,
     "metadata": {},
     "output_type": "execute_result"
    }
   ],
   "source": [
    "df['job_state'][0].strip().lower()"
   ]
  },
  {
   "cell_type": "code",
   "execution_count": 35,
   "metadata": {
    "colab": {
     "base_uri": "https://localhost:8080/",
     "height": 123
    },
    "colab_type": "code",
    "id": "pReXS2XbzXo0",
    "outputId": "21647b7a-78d7-44b7-c395-428cf9ad3a8e"
   },
   "outputs": [
    {
     "data": {
      "text/plain": [
       "CA    152\n",
       "MA    103\n",
       "NY     72\n",
       "VA     41\n",
       "IL     40\n",
       "Name: job_state, dtype: int64"
      ]
     },
     "execution_count": 35,
     "metadata": {},
     "output_type": "execute_result"
    }
   ],
   "source": [
    "# Fixing Los Angeles to CA\n",
    "df['job_state'] = df['job_state'].apply(lambda x: x.strip() if x.strip().lower() != 'los angeles' else 'CA')\n",
    "df['job_state'].value_counts()[:5]"
   ]
  },
  {
   "cell_type": "code",
   "execution_count": 36,
   "metadata": {
    "colab": {
     "base_uri": "https://localhost:8080/",
     "height": 87
    },
    "colab_type": "code",
    "id": "PjBqJAju1Uu9",
    "outputId": "40e0afe1-f040-4db9-f220-561997f41063"
   },
   "outputs": [
    {
     "data": {
      "text/plain": [
       "array(['NM', 'MD', 'FL', 'WA', 'NY', 'TX', 'CA', 'VA', 'MA', 'NJ', 'CO',\n",
       "       'IL', 'KY', 'OR', 'CT', 'MI', 'DC', 'OH', 'AL', 'MO', 'PA', 'GA',\n",
       "       'IN', 'LA', 'WI', 'NC', 'AZ', 'NE', 'MN', 'UT', 'TN', 'DE', 'ID',\n",
       "       'RI', 'IA', 'SC', 'KS'], dtype=object)"
      ]
     },
     "execution_count": 36,
     "metadata": {},
     "output_type": "execute_result"
    }
   ],
   "source": [
    "df['job_state'].unique()"
   ]
  },
  {
   "cell_type": "code",
   "execution_count": 37,
   "metadata": {
    "colab": {
     "base_uri": "https://localhost:8080/",
     "height": 123
    },
    "colab_type": "code",
    "id": "Ms71tD-MR7xU",
    "outputId": "efa50a33-025a-430a-9ad5-3aa7f8336dd6"
   },
   "outputs": [
    {
     "data": {
      "text/plain": [
       "0    47\n",
       "1    36\n",
       "2    10\n",
       "3    55\n",
       "4    22\n",
       "Name: company_age, dtype: int64"
      ]
     },
     "execution_count": 37,
     "metadata": {},
     "output_type": "execute_result"
    }
   ],
   "source": [
    "# Calculating age of the companies\n",
    "df[\"company_age\"] = df['Founded'].apply(lambda x: x if x<1 else 2020-x)\n",
    "df[\"company_age\"].head()"
   ]
  },
  {
   "cell_type": "code",
   "execution_count": 38,
   "metadata": {
    "colab": {},
    "colab_type": "code",
    "id": "uUBQVo03TKVL"
   },
   "outputs": [],
   "source": [
    "# Cleaning the 'Job Description' column\n",
    "df[\"python_job\"] = df['Job Description'].apply(lambda x: 1 if 'python' in x.lower() else 0)\n",
    "df[\"r_job\"] = df['Job Description'].apply(lambda x: 1 if 'r studio' in x.lower() else 0)\n",
    "df[\"spark_job\"] = df['Job Description'].apply(lambda x: 1 if 'spark' in x.lower() else 0)\n",
    "df[\"aws_job\"] = df['Job Description'].apply(lambda x: 1 if 'aws' in x.lower() else 0)\n",
    "df[\"excel_job\"] = df['Job Description'].apply(lambda x: 1 if 'excel' in x.lower() else 0)"
   ]
  },
  {
   "cell_type": "code",
   "execution_count": 39,
   "metadata": {
    "colab": {
     "base_uri": "https://localhost:8080/",
     "height": 70
    },
    "colab_type": "code",
    "id": "hlU_EIPBWMPL",
    "outputId": "673b98d0-4816-435e-e3c1-0a5c46e59db2"
   },
   "outputs": [
    {
     "data": {
      "text/plain": [
       "1    392\n",
       "0    350\n",
       "Name: python_job, dtype: int64"
      ]
     },
     "execution_count": 39,
     "metadata": {},
     "output_type": "execute_result"
    }
   ],
   "source": [
    "# Python Jobs\n",
    "df.python_job.value_counts()"
   ]
  },
  {
   "cell_type": "code",
   "execution_count": 40,
   "metadata": {
    "colab": {
     "base_uri": "https://localhost:8080/",
     "height": 70
    },
    "colab_type": "code",
    "id": "gbkNmCW8WTEZ",
    "outputId": "faae4be9-cd7b-4108-b879-16966cc8312c"
   },
   "outputs": [
    {
     "data": {
      "text/plain": [
       "0    741\n",
       "1      1\n",
       "Name: r_job, dtype: int64"
      ]
     },
     "execution_count": 40,
     "metadata": {},
     "output_type": "execute_result"
    }
   ],
   "source": [
    "# R Studio Jobs\n",
    "df.r_job.value_counts()"
   ]
  },
  {
   "cell_type": "code",
   "execution_count": 41,
   "metadata": {
    "colab": {
     "base_uri": "https://localhost:8080/",
     "height": 70
    },
    "colab_type": "code",
    "id": "nPnSP500WX7u",
    "outputId": "12e11bba-4e6c-47d8-c426-4eade20347e5"
   },
   "outputs": [
    {
     "data": {
      "text/plain": [
       "0    575\n",
       "1    167\n",
       "Name: spark_job, dtype: int64"
      ]
     },
     "execution_count": 41,
     "metadata": {},
     "output_type": "execute_result"
    }
   ],
   "source": [
    "# Spark Jobs\n",
    "df.spark_job.value_counts()"
   ]
  },
  {
   "cell_type": "code",
   "execution_count": 42,
   "metadata": {
    "colab": {
     "base_uri": "https://localhost:8080/",
     "height": 70
    },
    "colab_type": "code",
    "id": "8a4rwfe7Wpeg",
    "outputId": "5e49fd4c-9f59-4175-885a-daf111214971"
   },
   "outputs": [
    {
     "data": {
      "text/plain": [
       "0    566\n",
       "1    176\n",
       "Name: aws_job, dtype: int64"
      ]
     },
     "execution_count": 42,
     "metadata": {},
     "output_type": "execute_result"
    }
   ],
   "source": [
    "# AWS Jobs\n",
    "df.aws_job.value_counts()"
   ]
  },
  {
   "cell_type": "code",
   "execution_count": 43,
   "metadata": {
    "colab": {
     "base_uri": "https://localhost:8080/",
     "height": 70
    },
    "colab_type": "code",
    "id": "OPckOpM9WuXw",
    "outputId": "5197e862-2c1a-4d51-8fd8-d337083b2588"
   },
   "outputs": [
    {
     "data": {
      "text/plain": [
       "1    388\n",
       "0    354\n",
       "Name: excel_job, dtype: int64"
      ]
     },
     "execution_count": 43,
     "metadata": {},
     "output_type": "execute_result"
    }
   ],
   "source": [
    "# Excel Jobs\n",
    "df.excel_job.value_counts()"
   ]
  },
  {
   "cell_type": "code",
   "execution_count": 44,
   "metadata": {
    "colab": {
     "base_uri": "https://localhost:8080/",
     "height": 517
    },
    "colab_type": "code",
    "id": "kEQB4707W21-",
    "outputId": "d74046d7-44f7-41ee-a76e-5c28beb84a81"
   },
   "outputs": [
    {
     "data": {
      "text/html": [
       "<div>\n",
       "<style scoped>\n",
       "    .dataframe tbody tr th:only-of-type {\n",
       "        vertical-align: middle;\n",
       "    }\n",
       "\n",
       "    .dataframe tbody tr th {\n",
       "        vertical-align: top;\n",
       "    }\n",
       "\n",
       "    .dataframe thead th {\n",
       "        text-align: right;\n",
       "    }\n",
       "</style>\n",
       "<table border=\"1\" class=\"dataframe\">\n",
       "  <thead>\n",
       "    <tr style=\"text-align: right;\">\n",
       "      <th></th>\n",
       "      <th>Job Title</th>\n",
       "      <th>Salary Estimate</th>\n",
       "      <th>Job Description</th>\n",
       "      <th>Rating</th>\n",
       "      <th>Company Name</th>\n",
       "      <th>Location</th>\n",
       "      <th>Headquarters</th>\n",
       "      <th>Size</th>\n",
       "      <th>Founded</th>\n",
       "      <th>Type of ownership</th>\n",
       "      <th>...</th>\n",
       "      <th>min_salary</th>\n",
       "      <th>max_salary</th>\n",
       "      <th>average_salary</th>\n",
       "      <th>job_state</th>\n",
       "      <th>company_age</th>\n",
       "      <th>python_job</th>\n",
       "      <th>r_job</th>\n",
       "      <th>spark_job</th>\n",
       "      <th>aws_job</th>\n",
       "      <th>excel_job</th>\n",
       "    </tr>\n",
       "  </thead>\n",
       "  <tbody>\n",
       "    <tr>\n",
       "      <td>0</td>\n",
       "      <td>Data Scientist</td>\n",
       "      <td>$53K-$91K (Glassdoor est.)</td>\n",
       "      <td>Data Scientist\\nLocation: Albuquerque, NM\\nEdu...</td>\n",
       "      <td>3.8</td>\n",
       "      <td>Tecolote Research</td>\n",
       "      <td>Albuquerque, NM</td>\n",
       "      <td>Goleta, CA</td>\n",
       "      <td>501 to 1000 employees</td>\n",
       "      <td>1973</td>\n",
       "      <td>Company - Private</td>\n",
       "      <td>...</td>\n",
       "      <td>53</td>\n",
       "      <td>91</td>\n",
       "      <td>72.0</td>\n",
       "      <td>NM</td>\n",
       "      <td>47</td>\n",
       "      <td>1</td>\n",
       "      <td>0</td>\n",
       "      <td>0</td>\n",
       "      <td>0</td>\n",
       "      <td>1</td>\n",
       "    </tr>\n",
       "    <tr>\n",
       "      <td>1</td>\n",
       "      <td>Healthcare Data Scientist</td>\n",
       "      <td>$63K-$112K (Glassdoor est.)</td>\n",
       "      <td>What You Will Do:\\n\\nI. General Summary\\n\\nThe...</td>\n",
       "      <td>3.4</td>\n",
       "      <td>University of Maryland Medical System</td>\n",
       "      <td>Linthicum, MD</td>\n",
       "      <td>Baltimore, MD</td>\n",
       "      <td>10000+ employees</td>\n",
       "      <td>1984</td>\n",
       "      <td>Other Organization</td>\n",
       "      <td>...</td>\n",
       "      <td>63</td>\n",
       "      <td>112</td>\n",
       "      <td>87.5</td>\n",
       "      <td>MD</td>\n",
       "      <td>36</td>\n",
       "      <td>1</td>\n",
       "      <td>0</td>\n",
       "      <td>0</td>\n",
       "      <td>0</td>\n",
       "      <td>0</td>\n",
       "    </tr>\n",
       "    <tr>\n",
       "      <td>2</td>\n",
       "      <td>Data Scientist</td>\n",
       "      <td>$80K-$90K (Glassdoor est.)</td>\n",
       "      <td>KnowBe4, Inc. is a high growth information sec...</td>\n",
       "      <td>4.8</td>\n",
       "      <td>KnowBe4</td>\n",
       "      <td>Clearwater, FL</td>\n",
       "      <td>Clearwater, FL</td>\n",
       "      <td>501 to 1000 employees</td>\n",
       "      <td>2010</td>\n",
       "      <td>Company - Private</td>\n",
       "      <td>...</td>\n",
       "      <td>80</td>\n",
       "      <td>90</td>\n",
       "      <td>85.0</td>\n",
       "      <td>FL</td>\n",
       "      <td>10</td>\n",
       "      <td>1</td>\n",
       "      <td>0</td>\n",
       "      <td>1</td>\n",
       "      <td>0</td>\n",
       "      <td>1</td>\n",
       "    </tr>\n",
       "    <tr>\n",
       "      <td>3</td>\n",
       "      <td>Data Scientist</td>\n",
       "      <td>$56K-$97K (Glassdoor est.)</td>\n",
       "      <td>*Organization and Job ID**\\nJob ID: 310709\\n\\n...</td>\n",
       "      <td>3.8</td>\n",
       "      <td>PNNL</td>\n",
       "      <td>Richland, WA</td>\n",
       "      <td>Richland, WA</td>\n",
       "      <td>1001 to 5000 employees</td>\n",
       "      <td>1965</td>\n",
       "      <td>Government</td>\n",
       "      <td>...</td>\n",
       "      <td>56</td>\n",
       "      <td>97</td>\n",
       "      <td>76.5</td>\n",
       "      <td>WA</td>\n",
       "      <td>55</td>\n",
       "      <td>1</td>\n",
       "      <td>0</td>\n",
       "      <td>0</td>\n",
       "      <td>0</td>\n",
       "      <td>0</td>\n",
       "    </tr>\n",
       "    <tr>\n",
       "      <td>4</td>\n",
       "      <td>Data Scientist</td>\n",
       "      <td>$86K-$143K (Glassdoor est.)</td>\n",
       "      <td>Data Scientist\\nAffinity Solutions / Marketing...</td>\n",
       "      <td>2.9</td>\n",
       "      <td>Affinity Solutions</td>\n",
       "      <td>New York, NY</td>\n",
       "      <td>New York, NY</td>\n",
       "      <td>51 to 200 employees</td>\n",
       "      <td>1998</td>\n",
       "      <td>Company - Private</td>\n",
       "      <td>...</td>\n",
       "      <td>86</td>\n",
       "      <td>143</td>\n",
       "      <td>114.5</td>\n",
       "      <td>NY</td>\n",
       "      <td>22</td>\n",
       "      <td>1</td>\n",
       "      <td>0</td>\n",
       "      <td>0</td>\n",
       "      <td>0</td>\n",
       "      <td>1</td>\n",
       "    </tr>\n",
       "  </tbody>\n",
       "</table>\n",
       "<p>5 rows × 26 columns</p>\n",
       "</div>"
      ],
      "text/plain": [
       "                   Job Title              Salary Estimate  \\\n",
       "0             Data Scientist   $53K-$91K (Glassdoor est.)   \n",
       "1  Healthcare Data Scientist  $63K-$112K (Glassdoor est.)   \n",
       "2             Data Scientist   $80K-$90K (Glassdoor est.)   \n",
       "3             Data Scientist   $56K-$97K (Glassdoor est.)   \n",
       "4             Data Scientist  $86K-$143K (Glassdoor est.)   \n",
       "\n",
       "                                     Job Description  Rating  \\\n",
       "0  Data Scientist\\nLocation: Albuquerque, NM\\nEdu...     3.8   \n",
       "1  What You Will Do:\\n\\nI. General Summary\\n\\nThe...     3.4   \n",
       "2  KnowBe4, Inc. is a high growth information sec...     4.8   \n",
       "3  *Organization and Job ID**\\nJob ID: 310709\\n\\n...     3.8   \n",
       "4  Data Scientist\\nAffinity Solutions / Marketing...     2.9   \n",
       "\n",
       "                            Company Name         Location    Headquarters  \\\n",
       "0                      Tecolote Research  Albuquerque, NM      Goleta, CA   \n",
       "1  University of Maryland Medical System    Linthicum, MD   Baltimore, MD   \n",
       "2                                KnowBe4   Clearwater, FL  Clearwater, FL   \n",
       "3                                   PNNL     Richland, WA    Richland, WA   \n",
       "4                     Affinity Solutions     New York, NY    New York, NY   \n",
       "\n",
       "                     Size  Founded   Type of ownership  ... min_salary  \\\n",
       "0   501 to 1000 employees     1973   Company - Private  ...         53   \n",
       "1        10000+ employees     1984  Other Organization  ...         63   \n",
       "2   501 to 1000 employees     2010   Company - Private  ...         80   \n",
       "3  1001 to 5000 employees     1965          Government  ...         56   \n",
       "4     51 to 200 employees     1998   Company - Private  ...         86   \n",
       "\n",
       "  max_salary average_salary job_state  company_age  python_job  r_job  \\\n",
       "0         91           72.0        NM           47           1      0   \n",
       "1        112           87.5        MD           36           1      0   \n",
       "2         90           85.0        FL           10           1      0   \n",
       "3         97           76.5        WA           55           1      0   \n",
       "4        143          114.5        NY           22           1      0   \n",
       "\n",
       "   spark_job  aws_job excel_job  \n",
       "0          0        0         1  \n",
       "1          0        0         0  \n",
       "2          1        0         1  \n",
       "3          0        0         0  \n",
       "4          0        0         1  \n",
       "\n",
       "[5 rows x 26 columns]"
      ]
     },
     "execution_count": 44,
     "metadata": {},
     "output_type": "execute_result"
    }
   ],
   "source": [
    "# Dataset till now\n",
    "df.head()"
   ]
  },
  {
   "cell_type": "code",
   "execution_count": 45,
   "metadata": {
    "colab": {},
    "colab_type": "code",
    "id": "GCb65YLmxEI9"
   },
   "outputs": [],
   "source": [
    "# Cleaning the 'Job Title' column\n",
    "def title_simplifier(title):\n",
    "    if 'data scientist' in title.lower():\n",
    "        return 'data scientist'\n",
    "    elif 'data engineer' in title.lower():\n",
    "        return 'data engineer'\n",
    "    elif 'analyst' in title.lower():\n",
    "        return 'analyst'\n",
    "    elif 'machine learning' in title.lower():\n",
    "        return 'mle'\n",
    "    elif 'manager' in title.lower():\n",
    "        return 'manager'\n",
    "    elif 'director' in title.lower():\n",
    "        return 'director'\n",
    "    else:\n",
    "        return 'na'\n",
    "\n",
    "df['job_title_simplified'] = df['Job Title'].apply(title_simplifier)"
   ]
  },
  {
   "cell_type": "code",
   "execution_count": 46,
   "metadata": {
    "colab": {
     "base_uri": "https://localhost:8080/",
     "height": 158
    },
    "colab_type": "code",
    "id": "6C0Nd9l4yQYx",
    "outputId": "31029b8b-88c5-4561-e649-dc64e49cfc5d"
   },
   "outputs": [
    {
     "data": {
      "text/plain": [
       "data scientist    279\n",
       "na                184\n",
       "data engineer     119\n",
       "analyst           102\n",
       "mle                22\n",
       "manager            22\n",
       "director           14\n",
       "Name: job_title_simplified, dtype: int64"
      ]
     },
     "execution_count": 46,
     "metadata": {},
     "output_type": "execute_result"
    }
   ],
   "source": [
    "df['job_title_simplified'].value_counts()"
   ]
  },
  {
   "cell_type": "code",
   "execution_count": 47,
   "metadata": {
    "colab": {},
    "colab_type": "code",
    "id": "11G7QFTUyQT-"
   },
   "outputs": [],
   "source": [
    "def seniority(title):\n",
    "    if 'sr' in title.lower() or 'senior' in title.lower() or 'sr' in title.lower() or 'lead' in title.lower() or 'principal' in title.lower():\n",
    "            return 'senior'\n",
    "    elif 'jr' in title.lower() or 'jr.' in title.lower():\n",
    "        return 'jr'\n",
    "    else:\n",
    "        return 'na'\n",
    "\n",
    "df['job_seniority'] = df['Job Title'].apply(seniority)"
   ]
  },
  {
   "cell_type": "code",
   "execution_count": 48,
   "metadata": {
    "colab": {
     "base_uri": "https://localhost:8080/",
     "height": 87
    },
    "colab_type": "code",
    "id": "pM156khTyQQh",
    "outputId": "a4c145cf-3767-4de5-c3c4-e04806d12ad0"
   },
   "outputs": [
    {
     "data": {
      "text/plain": [
       "na        520\n",
       "senior    220\n",
       "jr          2\n",
       "Name: job_seniority, dtype: int64"
      ]
     },
     "execution_count": 48,
     "metadata": {},
     "output_type": "execute_result"
    }
   ],
   "source": [
    "df['job_seniority'].value_counts()"
   ]
  },
  {
   "cell_type": "code",
   "execution_count": 49,
   "metadata": {
    "colab": {
     "base_uri": "https://localhost:8080/",
     "height": 230
    },
    "colab_type": "code",
    "id": "riQKJTzPyQLs",
    "outputId": "05c21ac3-8f58-4b9a-907c-b5d71ad0463e"
   },
   "outputs": [
    {
     "data": {
      "text/plain": [
       "0      0\n",
       "1      0\n",
       "2      0\n",
       "3      3\n",
       "4      3\n",
       "      ..\n",
       "950    3\n",
       "951    3\n",
       "952    0\n",
       "953    0\n",
       "955    0\n",
       "Name: Competitors, Length: 742, dtype: int64"
      ]
     },
     "execution_count": 49,
     "metadata": {},
     "output_type": "execute_result"
    }
   ],
   "source": [
    "# Cleaning 'Competitors' column\n",
    "df['Competitors'] = df['Competitors'].apply(lambda x: len(x.split(',')) if x != '-1' else 0)\n",
    "df['Competitors']"
   ]
  },
  {
   "cell_type": "code",
   "execution_count": 50,
   "metadata": {
    "colab": {
     "base_uri": "https://localhost:8080/",
     "height": 230
    },
    "colab_type": "code",
    "id": "QTosIs1k6wQY",
    "outputId": "0fabede7-93a1-4490-f964-a6590afb0c46"
   },
   "outputs": [
    {
     "data": {
      "text/plain": [
       "Company - Private                 410\n",
       "Company - Public                  193\n",
       "Nonprofit Organization             55\n",
       "Subsidiary or Business Segment     34\n",
       "Hospital                           15\n",
       "Government                         15\n",
       "College / University               13\n",
       "Other Organization                  3\n",
       "School / School District            2\n",
       "-1                                  1\n",
       "Unknown                             1\n",
       "Name: Type of ownership, dtype: int64"
      ]
     },
     "execution_count": 50,
     "metadata": {},
     "output_type": "execute_result"
    }
   ],
   "source": [
    "# Cleaning 'Type of Ownership' column\n",
    "df['Type of ownership'].value_counts()"
   ]
  },
  {
   "cell_type": "code",
   "execution_count": 51,
   "metadata": {
    "colab": {},
    "colab_type": "code",
    "id": "FbN3C0607Fv_"
   },
   "outputs": [],
   "source": [
    "def ownership_simplifier(text):\n",
    "    if 'private' in text.lower():\n",
    "      return 'Private'\n",
    "    elif 'public' in text.lower():\n",
    "      return 'Public'\n",
    "    elif ('-1' in text.lower()) or ('unknown' in text.lower()):\n",
    "      return 'Other Organization'\n",
    "    else:\n",
    "      return text\n",
    "\n",
    "df['Type of ownership'] = df['Type of ownership'].apply(ownership_simplifier)"
   ]
  },
  {
   "cell_type": "code",
   "execution_count": 52,
   "metadata": {
    "colab": {
     "base_uri": "https://localhost:8080/",
     "height": 194
    },
    "colab_type": "code",
    "id": "IlZ9nuth8NVA",
    "outputId": "62021a3b-126b-44fe-b602-cd5cfbb0e024"
   },
   "outputs": [
    {
     "data": {
      "text/plain": [
       "Private                           410\n",
       "Public                            193\n",
       "Nonprofit Organization             55\n",
       "Subsidiary or Business Segment     34\n",
       "Hospital                           15\n",
       "Government                         15\n",
       "College / University               13\n",
       "Other Organization                  5\n",
       "School / School District            2\n",
       "Name: Type of ownership, dtype: int64"
      ]
     },
     "execution_count": 52,
     "metadata": {},
     "output_type": "execute_result"
    }
   ],
   "source": [
    "df['Type of ownership'].value_counts()"
   ]
  },
  {
   "cell_type": "code",
   "execution_count": 53,
   "metadata": {
    "colab": {
     "base_uri": "https://localhost:8080/",
     "height": 283
    },
    "colab_type": "code",
    "id": "yuq2l4Jf89r-",
    "outputId": "3c1221c2-27ca-4ab6-8365-cf762f8f9e9f"
   },
   "outputs": [
    {
     "data": {
      "text/plain": [
       "Unknown / Non-Applicable            203\n",
       "$10+ billion (USD)                  124\n",
       "$100 to $500 million (USD)           91\n",
       "$1 to $2 billion (USD)               60\n",
       "$500 million to $1 billion (USD)     57\n",
       "$50 to $100 million (USD)            46\n",
       "$25 to $50 million (USD)             40\n",
       "$2 to $5 billion (USD)               39\n",
       "$10 to $25 million (USD)             32\n",
       "$5 to $10 billion (USD)              19\n",
       "$5 to $10 million (USD)              18\n",
       "$1 to $5 million (USD)                8\n",
       "Less than $1 million (USD)            4\n",
       "-1                                    1\n",
       "Name: Revenue, dtype: int64"
      ]
     },
     "execution_count": 53,
     "metadata": {},
     "output_type": "execute_result"
    }
   ],
   "source": [
    "# Cleaning 'Revenue' column\n",
    "df['Revenue'].value_counts()"
   ]
  },
  {
   "cell_type": "code",
   "execution_count": 54,
   "metadata": {
    "colab": {},
    "colab_type": "code",
    "id": "3uco0sHt9Rxv"
   },
   "outputs": [],
   "source": [
    "def revenue_simplifier(text):\n",
    "  if '-1' in text.lower():\n",
    "    return 'Unknown / Non-Applicable'\n",
    "  else:\n",
    "    return text\n",
    "\n",
    "df['Revenue'] = df['Revenue'].apply(revenue_simplifier)"
   ]
  },
  {
   "cell_type": "code",
   "execution_count": 55,
   "metadata": {
    "colab": {
     "base_uri": "https://localhost:8080/",
     "height": 265
    },
    "colab_type": "code",
    "id": "NdgFAaJX93pa",
    "outputId": "82086664-65c5-4473-a397-b6b8fa78e9d1"
   },
   "outputs": [
    {
     "data": {
      "text/plain": [
       "Unknown / Non-Applicable            204\n",
       "$10+ billion (USD)                  124\n",
       "$100 to $500 million (USD)           91\n",
       "$1 to $2 billion (USD)               60\n",
       "$500 million to $1 billion (USD)     57\n",
       "$50 to $100 million (USD)            46\n",
       "$25 to $50 million (USD)             40\n",
       "$2 to $5 billion (USD)               39\n",
       "$10 to $25 million (USD)             32\n",
       "$5 to $10 billion (USD)              19\n",
       "$5 to $10 million (USD)              18\n",
       "$1 to $5 million (USD)                8\n",
       "Less than $1 million (USD)            4\n",
       "Name: Revenue, dtype: int64"
      ]
     },
     "execution_count": 55,
     "metadata": {},
     "output_type": "execute_result"
    }
   ],
   "source": [
    "df['Revenue'].value_counts()"
   ]
  },
  {
   "cell_type": "code",
   "execution_count": 56,
   "metadata": {
    "colab": {
     "base_uri": "https://localhost:8080/",
     "height": 194
    },
    "colab_type": "code",
    "id": "6CuTXlbp_S1n",
    "outputId": "7745d41f-109c-4ced-984e-dd1ff9248487"
   },
   "outputs": [
    {
     "data": {
      "text/plain": [
       "1001 to 5000 employees     150\n",
       "501 to 1000 employees      134\n",
       "10000+ employees           130\n",
       "201 to 500 employees       117\n",
       "51 to 200 employees         94\n",
       "5001 to 10000 employees     76\n",
       "1 to 50 employees           31\n",
       "Unknown                      9\n",
       "-1                           1\n",
       "Name: Size, dtype: int64"
      ]
     },
     "execution_count": 56,
     "metadata": {},
     "output_type": "execute_result"
    }
   ],
   "source": [
    "df['Size'].value_counts()"
   ]
  },
  {
   "cell_type": "code",
   "execution_count": 57,
   "metadata": {
    "colab": {},
    "colab_type": "code",
    "id": "ivNfPQb7_L4D"
   },
   "outputs": [],
   "source": [
    "# Cleaning 'Size' column\n",
    "def size_simplifier(text):\n",
    "  if '-1' in text.lower():\n",
    "    return 'Unknown'\n",
    "  else:\n",
    "    return text\n",
    "\n",
    "df['Size'] = df['Size'].apply(size_simplifier)"
   ]
  },
  {
   "cell_type": "code",
   "execution_count": 58,
   "metadata": {
    "colab": {
     "base_uri": "https://localhost:8080/",
     "height": 176
    },
    "colab_type": "code",
    "id": "5cX4EcKd_fUl",
    "outputId": "9e61fd0a-75a1-40cb-b24e-b4c7f0387865"
   },
   "outputs": [
    {
     "data": {
      "text/plain": [
       "1001 to 5000 employees     150\n",
       "501 to 1000 employees      134\n",
       "10000+ employees           130\n",
       "201 to 500 employees       117\n",
       "51 to 200 employees         94\n",
       "5001 to 10000 employees     76\n",
       "1 to 50 employees           31\n",
       "Unknown                     10\n",
       "Name: Size, dtype: int64"
      ]
     },
     "execution_count": 58,
     "metadata": {},
     "output_type": "execute_result"
    }
   ],
   "source": [
    "df['Size'].value_counts()"
   ]
  },
  {
   "cell_type": "code",
   "execution_count": 59,
   "metadata": {
    "colab": {
     "base_uri": "https://localhost:8080/",
     "height": 501
    },
    "colab_type": "code",
    "id": "5Ph_Z1nG6PIF",
    "outputId": "bb9ff9ff-6a2f-4cd4-b31b-cddaf8abfd6e"
   },
   "outputs": [
    {
     "data": {
      "text/html": [
       "<div>\n",
       "<style scoped>\n",
       "    .dataframe tbody tr th:only-of-type {\n",
       "        vertical-align: middle;\n",
       "    }\n",
       "\n",
       "    .dataframe tbody tr th {\n",
       "        vertical-align: top;\n",
       "    }\n",
       "\n",
       "    .dataframe thead th {\n",
       "        text-align: right;\n",
       "    }\n",
       "</style>\n",
       "<table border=\"1\" class=\"dataframe\">\n",
       "  <thead>\n",
       "    <tr style=\"text-align: right;\">\n",
       "      <th></th>\n",
       "      <th>Job Title</th>\n",
       "      <th>Salary Estimate</th>\n",
       "      <th>Job Description</th>\n",
       "      <th>Rating</th>\n",
       "      <th>Company Name</th>\n",
       "      <th>Location</th>\n",
       "      <th>Headquarters</th>\n",
       "      <th>Size</th>\n",
       "      <th>Founded</th>\n",
       "      <th>Type of ownership</th>\n",
       "      <th>...</th>\n",
       "      <th>average_salary</th>\n",
       "      <th>job_state</th>\n",
       "      <th>company_age</th>\n",
       "      <th>python_job</th>\n",
       "      <th>r_job</th>\n",
       "      <th>spark_job</th>\n",
       "      <th>aws_job</th>\n",
       "      <th>excel_job</th>\n",
       "      <th>job_title_simplified</th>\n",
       "      <th>job_seniority</th>\n",
       "    </tr>\n",
       "  </thead>\n",
       "  <tbody>\n",
       "    <tr>\n",
       "      <td>0</td>\n",
       "      <td>Data Scientist</td>\n",
       "      <td>$53K-$91K (Glassdoor est.)</td>\n",
       "      <td>Data Scientist\\nLocation: Albuquerque, NM\\nEdu...</td>\n",
       "      <td>3.8</td>\n",
       "      <td>Tecolote Research</td>\n",
       "      <td>Albuquerque, NM</td>\n",
       "      <td>Goleta, CA</td>\n",
       "      <td>501 to 1000 employees</td>\n",
       "      <td>1973</td>\n",
       "      <td>Private</td>\n",
       "      <td>...</td>\n",
       "      <td>72.0</td>\n",
       "      <td>NM</td>\n",
       "      <td>47</td>\n",
       "      <td>1</td>\n",
       "      <td>0</td>\n",
       "      <td>0</td>\n",
       "      <td>0</td>\n",
       "      <td>1</td>\n",
       "      <td>data scientist</td>\n",
       "      <td>na</td>\n",
       "    </tr>\n",
       "    <tr>\n",
       "      <td>1</td>\n",
       "      <td>Healthcare Data Scientist</td>\n",
       "      <td>$63K-$112K (Glassdoor est.)</td>\n",
       "      <td>What You Will Do:\\n\\nI. General Summary\\n\\nThe...</td>\n",
       "      <td>3.4</td>\n",
       "      <td>University of Maryland Medical System</td>\n",
       "      <td>Linthicum, MD</td>\n",
       "      <td>Baltimore, MD</td>\n",
       "      <td>10000+ employees</td>\n",
       "      <td>1984</td>\n",
       "      <td>Other Organization</td>\n",
       "      <td>...</td>\n",
       "      <td>87.5</td>\n",
       "      <td>MD</td>\n",
       "      <td>36</td>\n",
       "      <td>1</td>\n",
       "      <td>0</td>\n",
       "      <td>0</td>\n",
       "      <td>0</td>\n",
       "      <td>0</td>\n",
       "      <td>data scientist</td>\n",
       "      <td>na</td>\n",
       "    </tr>\n",
       "    <tr>\n",
       "      <td>2</td>\n",
       "      <td>Data Scientist</td>\n",
       "      <td>$80K-$90K (Glassdoor est.)</td>\n",
       "      <td>KnowBe4, Inc. is a high growth information sec...</td>\n",
       "      <td>4.8</td>\n",
       "      <td>KnowBe4</td>\n",
       "      <td>Clearwater, FL</td>\n",
       "      <td>Clearwater, FL</td>\n",
       "      <td>501 to 1000 employees</td>\n",
       "      <td>2010</td>\n",
       "      <td>Private</td>\n",
       "      <td>...</td>\n",
       "      <td>85.0</td>\n",
       "      <td>FL</td>\n",
       "      <td>10</td>\n",
       "      <td>1</td>\n",
       "      <td>0</td>\n",
       "      <td>1</td>\n",
       "      <td>0</td>\n",
       "      <td>1</td>\n",
       "      <td>data scientist</td>\n",
       "      <td>na</td>\n",
       "    </tr>\n",
       "    <tr>\n",
       "      <td>3</td>\n",
       "      <td>Data Scientist</td>\n",
       "      <td>$56K-$97K (Glassdoor est.)</td>\n",
       "      <td>*Organization and Job ID**\\nJob ID: 310709\\n\\n...</td>\n",
       "      <td>3.8</td>\n",
       "      <td>PNNL</td>\n",
       "      <td>Richland, WA</td>\n",
       "      <td>Richland, WA</td>\n",
       "      <td>1001 to 5000 employees</td>\n",
       "      <td>1965</td>\n",
       "      <td>Government</td>\n",
       "      <td>...</td>\n",
       "      <td>76.5</td>\n",
       "      <td>WA</td>\n",
       "      <td>55</td>\n",
       "      <td>1</td>\n",
       "      <td>0</td>\n",
       "      <td>0</td>\n",
       "      <td>0</td>\n",
       "      <td>0</td>\n",
       "      <td>data scientist</td>\n",
       "      <td>na</td>\n",
       "    </tr>\n",
       "    <tr>\n",
       "      <td>4</td>\n",
       "      <td>Data Scientist</td>\n",
       "      <td>$86K-$143K (Glassdoor est.)</td>\n",
       "      <td>Data Scientist\\nAffinity Solutions / Marketing...</td>\n",
       "      <td>2.9</td>\n",
       "      <td>Affinity Solutions</td>\n",
       "      <td>New York, NY</td>\n",
       "      <td>New York, NY</td>\n",
       "      <td>51 to 200 employees</td>\n",
       "      <td>1998</td>\n",
       "      <td>Private</td>\n",
       "      <td>...</td>\n",
       "      <td>114.5</td>\n",
       "      <td>NY</td>\n",
       "      <td>22</td>\n",
       "      <td>1</td>\n",
       "      <td>0</td>\n",
       "      <td>0</td>\n",
       "      <td>0</td>\n",
       "      <td>1</td>\n",
       "      <td>data scientist</td>\n",
       "      <td>na</td>\n",
       "    </tr>\n",
       "  </tbody>\n",
       "</table>\n",
       "<p>5 rows × 28 columns</p>\n",
       "</div>"
      ],
      "text/plain": [
       "                   Job Title              Salary Estimate  \\\n",
       "0             Data Scientist   $53K-$91K (Glassdoor est.)   \n",
       "1  Healthcare Data Scientist  $63K-$112K (Glassdoor est.)   \n",
       "2             Data Scientist   $80K-$90K (Glassdoor est.)   \n",
       "3             Data Scientist   $56K-$97K (Glassdoor est.)   \n",
       "4             Data Scientist  $86K-$143K (Glassdoor est.)   \n",
       "\n",
       "                                     Job Description  Rating  \\\n",
       "0  Data Scientist\\nLocation: Albuquerque, NM\\nEdu...     3.8   \n",
       "1  What You Will Do:\\n\\nI. General Summary\\n\\nThe...     3.4   \n",
       "2  KnowBe4, Inc. is a high growth information sec...     4.8   \n",
       "3  *Organization and Job ID**\\nJob ID: 310709\\n\\n...     3.8   \n",
       "4  Data Scientist\\nAffinity Solutions / Marketing...     2.9   \n",
       "\n",
       "                            Company Name         Location    Headquarters  \\\n",
       "0                      Tecolote Research  Albuquerque, NM      Goleta, CA   \n",
       "1  University of Maryland Medical System    Linthicum, MD   Baltimore, MD   \n",
       "2                                KnowBe4   Clearwater, FL  Clearwater, FL   \n",
       "3                                   PNNL     Richland, WA    Richland, WA   \n",
       "4                     Affinity Solutions     New York, NY    New York, NY   \n",
       "\n",
       "                     Size  Founded   Type of ownership  ... average_salary  \\\n",
       "0   501 to 1000 employees     1973             Private  ...           72.0   \n",
       "1        10000+ employees     1984  Other Organization  ...           87.5   \n",
       "2   501 to 1000 employees     2010             Private  ...           85.0   \n",
       "3  1001 to 5000 employees     1965          Government  ...           76.5   \n",
       "4     51 to 200 employees     1998             Private  ...          114.5   \n",
       "\n",
       "  job_state company_age  python_job  r_job  spark_job  aws_job  excel_job  \\\n",
       "0        NM          47           1      0          0        0          1   \n",
       "1        MD          36           1      0          0        0          0   \n",
       "2        FL          10           1      0          1        0          1   \n",
       "3        WA          55           1      0          0        0          0   \n",
       "4        NY          22           1      0          0        0          1   \n",
       "\n",
       "   job_title_simplified job_seniority  \n",
       "0        data scientist            na  \n",
       "1        data scientist            na  \n",
       "2        data scientist            na  \n",
       "3        data scientist            na  \n",
       "4        data scientist            na  \n",
       "\n",
       "[5 rows x 28 columns]"
      ]
     },
     "execution_count": 59,
     "metadata": {},
     "output_type": "execute_result"
    }
   ],
   "source": [
    "# Dataset till now\n",
    "df.head()"
   ]
  },
  {
   "cell_type": "markdown",
   "metadata": {
    "colab_type": "text",
    "id": "R_vTnlCiXunX"
   },
   "source": [
    "# **Exploratory Data Analysis**"
   ]
  },
  {
   "cell_type": "code",
   "execution_count": 60,
   "metadata": {
    "colab": {
     "base_uri": "https://localhost:8080/",
     "height": 72
    },
    "colab_type": "code",
    "id": "xEKShrhb5NBc",
    "outputId": "7a5b2ec9-d2be-4475-984d-36ff4e1fc217"
   },
   "outputs": [],
   "source": [
    "# Importing essential libraries\n",
    "import matplotlib.pyplot as plt\n",
    "import seaborn as sns\n",
    "%matplotlib inline"
   ]
  },
  {
   "cell_type": "code",
   "execution_count": 61,
   "metadata": {
    "colab": {
     "base_uri": "https://localhost:8080/",
     "height": 467
    },
    "colab_type": "code",
    "id": "irzjuXKWXy2o",
    "outputId": "927c53b0-4b30-4c79-a754-98154e23520c"
   },
   "outputs": [
    {
     "data": {
      "text/html": [
       "<div>\n",
       "<style scoped>\n",
       "    .dataframe tbody tr th:only-of-type {\n",
       "        vertical-align: middle;\n",
       "    }\n",
       "\n",
       "    .dataframe tbody tr th {\n",
       "        vertical-align: top;\n",
       "    }\n",
       "\n",
       "    .dataframe thead th {\n",
       "        text-align: right;\n",
       "    }\n",
       "</style>\n",
       "<table border=\"1\" class=\"dataframe\">\n",
       "  <thead>\n",
       "    <tr style=\"text-align: right;\">\n",
       "      <th></th>\n",
       "      <th>count</th>\n",
       "      <th>mean</th>\n",
       "      <th>std</th>\n",
       "      <th>min</th>\n",
       "      <th>25%</th>\n",
       "      <th>50%</th>\n",
       "      <th>75%</th>\n",
       "      <th>max</th>\n",
       "    </tr>\n",
       "  </thead>\n",
       "  <tbody>\n",
       "    <tr>\n",
       "      <td>Rating</td>\n",
       "      <td>742.0</td>\n",
       "      <td>3.618868</td>\n",
       "      <td>0.801210</td>\n",
       "      <td>-1.0</td>\n",
       "      <td>3.3</td>\n",
       "      <td>3.7</td>\n",
       "      <td>4.0</td>\n",
       "      <td>5.0</td>\n",
       "    </tr>\n",
       "    <tr>\n",
       "      <td>Founded</td>\n",
       "      <td>742.0</td>\n",
       "      <td>1837.154987</td>\n",
       "      <td>497.183763</td>\n",
       "      <td>-1.0</td>\n",
       "      <td>1939.0</td>\n",
       "      <td>1988.0</td>\n",
       "      <td>2007.0</td>\n",
       "      <td>2019.0</td>\n",
       "    </tr>\n",
       "    <tr>\n",
       "      <td>Competitors</td>\n",
       "      <td>742.0</td>\n",
       "      <td>1.053908</td>\n",
       "      <td>1.384239</td>\n",
       "      <td>0.0</td>\n",
       "      <td>0.0</td>\n",
       "      <td>0.0</td>\n",
       "      <td>3.0</td>\n",
       "      <td>4.0</td>\n",
       "    </tr>\n",
       "    <tr>\n",
       "      <td>salary_per_hour</td>\n",
       "      <td>742.0</td>\n",
       "      <td>0.032345</td>\n",
       "      <td>0.177034</td>\n",
       "      <td>0.0</td>\n",
       "      <td>0.0</td>\n",
       "      <td>0.0</td>\n",
       "      <td>0.0</td>\n",
       "      <td>1.0</td>\n",
       "    </tr>\n",
       "    <tr>\n",
       "      <td>emp_provided_salary</td>\n",
       "      <td>742.0</td>\n",
       "      <td>0.022911</td>\n",
       "      <td>0.149721</td>\n",
       "      <td>0.0</td>\n",
       "      <td>0.0</td>\n",
       "      <td>0.0</td>\n",
       "      <td>0.0</td>\n",
       "      <td>1.0</td>\n",
       "    </tr>\n",
       "    <tr>\n",
       "      <td>min_salary</td>\n",
       "      <td>742.0</td>\n",
       "      <td>74.068733</td>\n",
       "      <td>31.869282</td>\n",
       "      <td>10.0</td>\n",
       "      <td>52.0</td>\n",
       "      <td>69.5</td>\n",
       "      <td>91.0</td>\n",
       "      <td>202.0</td>\n",
       "    </tr>\n",
       "    <tr>\n",
       "      <td>max_salary</td>\n",
       "      <td>742.0</td>\n",
       "      <td>127.183288</td>\n",
       "      <td>46.909006</td>\n",
       "      <td>16.0</td>\n",
       "      <td>96.0</td>\n",
       "      <td>124.0</td>\n",
       "      <td>155.0</td>\n",
       "      <td>306.0</td>\n",
       "    </tr>\n",
       "    <tr>\n",
       "      <td>average_salary</td>\n",
       "      <td>742.0</td>\n",
       "      <td>100.626011</td>\n",
       "      <td>38.855948</td>\n",
       "      <td>13.5</td>\n",
       "      <td>73.5</td>\n",
       "      <td>97.5</td>\n",
       "      <td>122.5</td>\n",
       "      <td>254.0</td>\n",
       "    </tr>\n",
       "    <tr>\n",
       "      <td>company_age</td>\n",
       "      <td>742.0</td>\n",
       "      <td>46.591644</td>\n",
       "      <td>53.778815</td>\n",
       "      <td>-1.0</td>\n",
       "      <td>11.0</td>\n",
       "      <td>24.0</td>\n",
       "      <td>59.0</td>\n",
       "      <td>276.0</td>\n",
       "    </tr>\n",
       "    <tr>\n",
       "      <td>python_job</td>\n",
       "      <td>742.0</td>\n",
       "      <td>0.528302</td>\n",
       "      <td>0.499535</td>\n",
       "      <td>0.0</td>\n",
       "      <td>0.0</td>\n",
       "      <td>1.0</td>\n",
       "      <td>1.0</td>\n",
       "      <td>1.0</td>\n",
       "    </tr>\n",
       "    <tr>\n",
       "      <td>r_job</td>\n",
       "      <td>742.0</td>\n",
       "      <td>0.001348</td>\n",
       "      <td>0.036711</td>\n",
       "      <td>0.0</td>\n",
       "      <td>0.0</td>\n",
       "      <td>0.0</td>\n",
       "      <td>0.0</td>\n",
       "      <td>1.0</td>\n",
       "    </tr>\n",
       "    <tr>\n",
       "      <td>spark_job</td>\n",
       "      <td>742.0</td>\n",
       "      <td>0.225067</td>\n",
       "      <td>0.417908</td>\n",
       "      <td>0.0</td>\n",
       "      <td>0.0</td>\n",
       "      <td>0.0</td>\n",
       "      <td>0.0</td>\n",
       "      <td>1.0</td>\n",
       "    </tr>\n",
       "    <tr>\n",
       "      <td>aws_job</td>\n",
       "      <td>742.0</td>\n",
       "      <td>0.237197</td>\n",
       "      <td>0.425651</td>\n",
       "      <td>0.0</td>\n",
       "      <td>0.0</td>\n",
       "      <td>0.0</td>\n",
       "      <td>0.0</td>\n",
       "      <td>1.0</td>\n",
       "    </tr>\n",
       "    <tr>\n",
       "      <td>excel_job</td>\n",
       "      <td>742.0</td>\n",
       "      <td>0.522911</td>\n",
       "      <td>0.499812</td>\n",
       "      <td>0.0</td>\n",
       "      <td>0.0</td>\n",
       "      <td>1.0</td>\n",
       "      <td>1.0</td>\n",
       "      <td>1.0</td>\n",
       "    </tr>\n",
       "  </tbody>\n",
       "</table>\n",
       "</div>"
      ],
      "text/plain": [
       "                     count         mean         std   min     25%     50%  \\\n",
       "Rating               742.0     3.618868    0.801210  -1.0     3.3     3.7   \n",
       "Founded              742.0  1837.154987  497.183763  -1.0  1939.0  1988.0   \n",
       "Competitors          742.0     1.053908    1.384239   0.0     0.0     0.0   \n",
       "salary_per_hour      742.0     0.032345    0.177034   0.0     0.0     0.0   \n",
       "emp_provided_salary  742.0     0.022911    0.149721   0.0     0.0     0.0   \n",
       "min_salary           742.0    74.068733   31.869282  10.0    52.0    69.5   \n",
       "max_salary           742.0   127.183288   46.909006  16.0    96.0   124.0   \n",
       "average_salary       742.0   100.626011   38.855948  13.5    73.5    97.5   \n",
       "company_age          742.0    46.591644   53.778815  -1.0    11.0    24.0   \n",
       "python_job           742.0     0.528302    0.499535   0.0     0.0     1.0   \n",
       "r_job                742.0     0.001348    0.036711   0.0     0.0     0.0   \n",
       "spark_job            742.0     0.225067    0.417908   0.0     0.0     0.0   \n",
       "aws_job              742.0     0.237197    0.425651   0.0     0.0     0.0   \n",
       "excel_job            742.0     0.522911    0.499812   0.0     0.0     1.0   \n",
       "\n",
       "                        75%     max  \n",
       "Rating                  4.0     5.0  \n",
       "Founded              2007.0  2019.0  \n",
       "Competitors             3.0     4.0  \n",
       "salary_per_hour         0.0     1.0  \n",
       "emp_provided_salary     0.0     1.0  \n",
       "min_salary             91.0   202.0  \n",
       "max_salary            155.0   306.0  \n",
       "average_salary        122.5   254.0  \n",
       "company_age            59.0   276.0  \n",
       "python_job              1.0     1.0  \n",
       "r_job                   0.0     1.0  \n",
       "spark_job               0.0     1.0  \n",
       "aws_job                 0.0     1.0  \n",
       "excel_job               1.0     1.0  "
      ]
     },
     "execution_count": 61,
     "metadata": {},
     "output_type": "execute_result"
    }
   ],
   "source": [
    "df.describe().T"
   ]
  },
  {
   "cell_type": "code",
   "execution_count": 62,
   "metadata": {
    "colab": {
     "base_uri": "https://localhost:8080/",
     "height": 312
    },
    "colab_type": "code",
    "id": "rTXpVG0Z4xmG",
    "outputId": "e9fb2ee8-68db-41f3-e023-ea526289fee4"
   },
   "outputs": [
    {
     "data": {
      "text/plain": [
       "Text(0.5, 1.0, 'Company Ratings Histogram')"
      ]
     },
     "execution_count": 62,
     "metadata": {},
     "output_type": "execute_result"
    },
    {
     "data": {
      "image/png": "[encoded data removed]",
      "text/plain": [
       "<Figure size 432x288 with 1 Axes>"
      ]
     },
     "metadata": {
      "needs_background": "light"
     },
     "output_type": "display_data"
    }
   ],
   "source": [
    "df['Rating'].hist()\n",
    "plt.xlabel('Ratings')\n",
    "plt.ylabel('Count')\n",
    "plt.title(\"Company Ratings Histogram\")"
   ]
  },
  {
   "cell_type": "code",
   "execution_count": 63,
   "metadata": {
    "colab": {
     "base_uri": "https://localhost:8080/",
     "height": 312
    },
    "colab_type": "code",
    "id": "nOwCnY0R6Ist",
    "outputId": "1826870a-0df8-4bfb-fad6-508c837b7c48"
   },
   "outputs": [
    {
     "data": {
      "text/plain": [
       "Text(0.5, 1.0, 'Companies Age Histogram')"
      ]
     },
     "execution_count": 63,
     "metadata": {},
     "output_type": "execute_result"
    },
    {
     "data": {
      "image/png": "[encoded data removed]",
      "text/plain": [
       "<Figure size 432x288 with 1 Axes>"
      ]
     },
     "metadata": {
      "needs_background": "light"
     },
     "output_type": "display_data"
    }
   ],
   "source": [
    "df['company_age'].hist()\n",
    "plt.xlabel('Time (in Years)')\n",
    "plt.ylabel('Count')\n",
    "plt.title(\"Companies Age Histogram\")"
   ]
  },
  {
   "cell_type": "code",
   "execution_count": 64,
   "metadata": {
    "colab": {
     "base_uri": "https://localhost:8080/",
     "height": 312
    },
    "colab_type": "code",
    "id": "qG7o6rH55n-V",
    "outputId": "0026b216-6ca5-4f7a-9fdc-ae1a8f7b3dd3"
   },
   "outputs": [
    {
     "data": {
      "text/plain": [
       "Text(0.5, 1.0, 'Average Salary Histogram')"
      ]
     },
     "execution_count": 64,
     "metadata": {},
     "output_type": "execute_result"
    },
    {
     "data": {
      "image/png": "[encoded data removed]",
      "text/plain": [
       "<Figure size 432x288 with 1 Axes>"
      ]
     },
     "metadata": {
      "needs_background": "light"
     },
     "output_type": "display_data"
    }
   ],
   "source": [
    "df['average_salary'].hist()\n",
    "plt.xlabel('Annual Salary (in $)')\n",
    "plt.ylabel('Count')\n",
    "plt.title(\"Average Salary Histogram\")"
   ]
  },
  {
   "cell_type": "code",
   "execution_count": 65,
   "metadata": {
    "colab": {
     "base_uri": "https://localhost:8080/",
     "height": 270
    },
    "colab_type": "code",
    "id": "oOoeGexL6cFc",
    "outputId": "cbc42357-cb7f-4fcf-d992-dfc7523dca9f"
   },
   "outputs": [
    {
     "data": {
      "text/plain": [
       "<matplotlib.axes._subplots.AxesSubplot at 0x89bbcc4208>"
      ]
     },
     "execution_count": 65,
     "metadata": {},
     "output_type": "execute_result"
    },
    {
     "data": {
      "image/png": "[encoded data removed]",
      "text/plain": [
       "<Figure size 432x288 with 1 Axes>"
      ]
     },
     "metadata": {
      "needs_background": "light"
     },
     "output_type": "display_data"
    }
   ],
   "source": [
    "sns.boxplot(y='average_salary', data=df, orient='v', palette='Set1')"
   ]
  },
  {
   "cell_type": "code",
   "execution_count": 66,
   "metadata": {
    "colab": {
     "base_uri": "https://localhost:8080/",
     "height": 270
    },
    "colab_type": "code",
    "id": "oq7QhQeY8Uvm",
    "outputId": "b92ab184-2029-4f96-a739-61d5fbcfa299"
   },
   "outputs": [
    {
     "data": {
      "text/plain": [
       "<matplotlib.axes._subplots.AxesSubplot at 0x89bbd33088>"
      ]
     },
     "execution_count": 66,
     "metadata": {},
     "output_type": "execute_result"
    },
    {
     "data": {
      "image/png": "[encoded data removed]",
      "text/plain": [
       "<Figure size 432x288 with 1 Axes>"
      ]
     },
     "metadata": {
      "needs_background": "light"
     },
     "output_type": "display_data"
    }
   ],
   "source": [
    "sns.boxplot(y='company_age', data=df, orient='v', palette='Set1')"
   ]
  },
  {
   "cell_type": "code",
   "execution_count": 67,
   "metadata": {
    "colab": {
     "base_uri": "https://localhost:8080/",
     "height": 270
    },
    "colab_type": "code",
    "id": "BnmQga-e9Z8N",
    "outputId": "41267742-6d7d-4bf5-b3c9-7a6cb3fd4d79"
   },
   "outputs": [
    {
     "data": {
      "text/plain": [
       "<matplotlib.axes._subplots.AxesSubplot at 0x89bbd99f88>"
      ]
     },
     "execution_count": 67,
     "metadata": {},
     "output_type": "execute_result"
    },
    {
     "data": {
      "image/png": "[encoded data removed]",
      "text/plain": [
       "<Figure size 432x288 with 1 Axes>"
      ]
     },
     "metadata": {
      "needs_background": "light"
     },
     "output_type": "display_data"
    }
   ],
   "source": [
    "sns.boxplot(y='Rating', data=df, orient='v', palette='Set1')"
   ]
  },
  {
   "cell_type": "code",
   "execution_count": 68,
   "metadata": {
    "colab": {
     "base_uri": "https://localhost:8080/",
     "height": 137
    },
    "colab_type": "code",
    "id": "RgjzD-RQ9i5J",
    "outputId": "2d18335b-2ccc-4a92-e245-8318d160e36d"
   },
   "outputs": [
    {
     "data": {
      "text/html": [
       "<div>\n",
       "<style scoped>\n",
       "    .dataframe tbody tr th:only-of-type {\n",
       "        vertical-align: middle;\n",
       "    }\n",
       "\n",
       "    .dataframe tbody tr th {\n",
       "        vertical-align: top;\n",
       "    }\n",
       "\n",
       "    .dataframe thead th {\n",
       "        text-align: right;\n",
       "    }\n",
       "</style>\n",
       "<table border=\"1\" class=\"dataframe\">\n",
       "  <thead>\n",
       "    <tr style=\"text-align: right;\">\n",
       "      <th></th>\n",
       "      <th>company_age</th>\n",
       "      <th>average_salary</th>\n",
       "      <th>Rating</th>\n",
       "    </tr>\n",
       "  </thead>\n",
       "  <tbody>\n",
       "    <tr>\n",
       "      <td>company_age</td>\n",
       "      <td>1.000000</td>\n",
       "      <td>0.019655</td>\n",
       "      <td>0.021655</td>\n",
       "    </tr>\n",
       "    <tr>\n",
       "      <td>average_salary</td>\n",
       "      <td>0.019655</td>\n",
       "      <td>1.000000</td>\n",
       "      <td>0.013492</td>\n",
       "    </tr>\n",
       "    <tr>\n",
       "      <td>Rating</td>\n",
       "      <td>0.021655</td>\n",
       "      <td>0.013492</td>\n",
       "      <td>1.000000</td>\n",
       "    </tr>\n",
       "  </tbody>\n",
       "</table>\n",
       "</div>"
      ],
      "text/plain": [
       "                company_age  average_salary    Rating\n",
       "company_age        1.000000        0.019655  0.021655\n",
       "average_salary     0.019655        1.000000  0.013492\n",
       "Rating             0.021655        0.013492  1.000000"
      ]
     },
     "execution_count": 68,
     "metadata": {},
     "output_type": "execute_result"
    }
   ],
   "source": [
    "# Finding Correlation between columns\n",
    "df[['company_age','average_salary','Rating']].corr()"
   ]
  },
  {
   "cell_type": "code",
   "execution_count": 69,
   "metadata": {
    "colab": {
     "base_uri": "https://localhost:8080/",
     "height": 350
    },
    "colab_type": "code",
    "id": "-JwQCzMN-dO0",
    "outputId": "3d452e83-0cb5-4d42-8d6f-73cc5bea808f"
   },
   "outputs": [
    {
     "data": {
      "text/plain": [
       "<matplotlib.axes._subplots.AxesSubplot at 0x89bbba25c8>"
      ]
     },
     "execution_count": 69,
     "metadata": {},
     "output_type": "execute_result"
    },
    {
     "data": {
      "image/png": "[encoded data removed]",
      "text/plain": [
       "<Figure size 432x288 with 2 Axes>"
      ]
     },
     "metadata": {
      "needs_background": "light"
     },
     "output_type": "display_data"
    }
   ],
   "source": [
    "# Plotting the correlation\n",
    "cmap = sns.diverging_palette(220, 10, as_cmap=True)\n",
    "sns.heatmap(df[['company_age','average_salary','Rating']].corr(), vmax=.3, center=0, cmap=cmap, square=True, linewidths=.5, cbar_kws={\"shrink\": .5})"
   ]
  },
  {
   "cell_type": "code",
   "execution_count": 70,
   "metadata": {
    "colab": {
     "base_uri": "https://localhost:8080/",
     "height": 158
    },
    "colab_type": "code",
    "id": "JlKfJYO6-tbJ",
    "outputId": "e7b2b7a3-23b7-4f3c-bd10-cec1de8eb186"
   },
   "outputs": [
    {
     "data": {
      "text/plain": [
       "Index(['Job Title', 'Salary Estimate', 'Job Description', 'Rating',\n",
       "       'Company Name', 'Location', 'Headquarters', 'Size', 'Founded',\n",
       "       'Type of ownership', 'Industry', 'Sector', 'Revenue', 'Competitors',\n",
       "       'salary_per_hour', 'emp_provided_salary', 'min_salary', 'max_salary',\n",
       "       'average_salary', 'job_state', 'company_age', 'python_job', 'r_job',\n",
       "       'spark_job', 'aws_job', 'excel_job', 'job_title_simplified',\n",
       "       'job_seniority'],\n",
       "      dtype='object')"
      ]
     },
     "execution_count": 70,
     "metadata": {},
     "output_type": "execute_result"
    }
   ],
   "source": [
    "# Exploring categorical data\n",
    "df.columns"
   ]
  },
  {
   "cell_type": "code",
   "execution_count": 71,
   "metadata": {
    "colab": {},
    "colab_type": "code",
    "id": "BR5NUE5VAilV"
   },
   "outputs": [],
   "source": [
    "df_categorical = df[['Company Name', 'Location', 'Headquarters', 'Size', 'Type of ownership', 'Industry', 'Sector', 'Revenue', 'job_title_simplified', 'job_seniority']]"
   ]
  },
  {
   "cell_type": "code",
   "execution_count": 72,
   "metadata": {
    "colab": {
     "base_uri": "https://localhost:8080/",
     "height": 826
    },
    "colab_type": "code",
    "id": "sP6_VKJPBR3b",
    "outputId": "f1ad481c-d58d-4ac4-a2f8-8bddecb19a00"
   },
   "outputs": [
    {
     "name": "stdout",
     "output_type": "stream",
     "text": [
      "Graph for Location\n",
      "Total records = 20\n"
     ]
    },
    {
     "data": {
      "image/png": "[encoded data removed]",
      "text/plain": [
       "<Figure size 432x288 with 1 Axes>"
      ]
     },
     "metadata": {
      "needs_background": "light"
     },
     "output_type": "display_data"
    },
    {
     "name": "stdout",
     "output_type": "stream",
     "text": [
      "Graph for Headquarters\n",
      "Total records = 20\n"
     ]
    },
    {
     "data": {
      "image/png": "[encoded data removed]",
      "text/plain": [
       "<Figure size 432x288 with 1 Axes>"
      ]
     },
     "metadata": {
      "needs_background": "light"
     },
     "output_type": "display_data"
    }
   ],
   "source": [
    "# Plotting the data for 'Location' and 'Headquarters' columns\n",
    "for i in ['Location', 'Headquarters']:\n",
    "    unique_categories = df_categorical[i].value_counts()[:20]\n",
    "    print(\"Graph for {}\\nTotal records = {}\".format(i, len(unique_categories)))\n",
    "    chart = sns.barplot(x=unique_categories.index, y=unique_categories)\n",
    "    chart.set_xticklabels(chart.get_xticklabels(), rotation=90)\n",
    "    plt.show()"
   ]
  },
  {
   "cell_type": "code",
   "execution_count": 73,
   "metadata": {
    "colab": {
     "base_uri": "https://localhost:8080/",
     "height": 1000
    },
    "colab_type": "code",
    "id": "gjhRuP6HCzuX",
    "outputId": "7baf26e8-2b42-483a-fa1d-503e5d4196bf"
   },
   "outputs": [
    {
     "name": "stdout",
     "output_type": "stream",
     "text": [
      "Graph for Company Name\n",
      "Total records = 20\n"
     ]
    },
    {
     "data": {
      "image/png": "[encoded data removed]",
      "text/plain": [
       "<Figure size 432x288 with 1 Axes>"
      ]
     },
     "metadata": {
      "needs_background": "light"
     },
     "output_type": "display_data"
    },
    {
     "name": "stdout",
     "output_type": "stream",
     "text": [
      "Graph for Size\n",
      "Total records = 8\n"
     ]
    },
    {
     "data": {
      "image/png": "[encoded data removed]",
      "text/plain": [
       "<Figure size 432x288 with 1 Axes>"
      ]
     },
     "metadata": {
      "needs_background": "light"
     },
     "output_type": "display_data"
    },
    {
     "name": "stdout",
     "output_type": "stream",
     "text": [
      "Graph for Type of ownership\n",
      "Total records = 9\n"
     ]
    },
    {
     "data": {
      "image/png": "[encoded data removed]",
      "text/plain": [
       "<Figure size 432x288 with 1 Axes>"
      ]
     },
     "metadata": {
      "needs_background": "light"
     },
     "output_type": "display_data"
    },
    {
     "name": "stdout",
     "output_type": "stream",
     "text": [
      "Graph for Revenue\n",
      "Total records = 13\n"
     ]
    },
    {
     "data": {
      "image/png": "[encoded data removed]",
      "text/plain": [
       "<Figure size 432x288 with 1 Axes>"
      ]
     },
     "metadata": {
      "needs_background": "light"
     },
     "output_type": "display_data"
    }
   ],
   "source": [
    "# Plotting the data for 'Company Name', 'Size', 'Type of ownership', 'Revenue' columns\n",
    "for i in ['Company Name', 'Size', 'Type of ownership', 'Revenue']:\n",
    "    unique_categories = df_categorical[i].value_counts()[:20]\n",
    "    print(\"Graph for {}\\nTotal records = {}\".format(i, len(unique_categories)))\n",
    "    chart = sns.barplot(x=unique_categories.index, y=unique_categories)\n",
    "    chart.set_xticklabels(chart.get_xticklabels(), rotation=90)\n",
    "    plt.show()"
   ]
  },
  {
   "cell_type": "code",
   "execution_count": 74,
   "metadata": {
    "colab": {
     "base_uri": "https://localhost:8080/",
     "height": 902
    },
    "colab_type": "code",
    "id": "3Opzi8f5D5yP",
    "outputId": "c96f6339-536d-4bf6-c9cd-97f1f55e3808"
   },
   "outputs": [
    {
     "name": "stdout",
     "output_type": "stream",
     "text": [
      "Graph for Industry\n",
      "Total records = 20\n"
     ]
    },
    {
     "data": {
      "image/png": "[encoded data removed]",
      "text/plain": [
       "<Figure size 432x288 with 1 Axes>"
      ]
     },
     "metadata": {
      "needs_background": "light"
     },
     "output_type": "display_data"
    },
    {
     "name": "stdout",
     "output_type": "stream",
     "text": [
      "Graph for Sector\n",
      "Total records = 20\n"
     ]
    },
    {
     "data": {
      "image/png": "[encoded data removed]",
      "text/plain": [
       "<Figure size 432x288 with 1 Axes>"
      ]
     },
     "metadata": {
      "needs_background": "light"
     },
     "output_type": "display_data"
    }
   ],
   "source": [
    "# Plotting the data for 'Industry', 'Sector' columns\n",
    "for i in ['Industry', 'Sector']:\n",
    "    unique_categories = df_categorical[i].value_counts()[:20]\n",
    "    print(\"Graph for {}\\nTotal records = {}\".format(i, len(unique_categories)))\n",
    "    chart = sns.barplot(x=unique_categories.index, y=unique_categories)\n",
    "    chart.set_xticklabels(chart.get_xticklabels(), rotation=90)\n",
    "    plt.show()"
   ]
  },
  {
   "cell_type": "code",
   "execution_count": 75,
   "metadata": {
    "colab": {
     "base_uri": "https://localhost:8080/",
     "height": 665
    },
    "colab_type": "code",
    "id": "CyyLOsmWEfrP",
    "outputId": "a6acde33-9f69-44a1-b6da-714e0fd90f2f"
   },
   "outputs": [
    {
     "name": "stdout",
     "output_type": "stream",
     "text": [
      "Graph for job_title_simplified\n",
      "Total records = 7\n"
     ]
    },
    {
     "data": {
      "image/png": "[encoded data removed]",
      "text/plain": [
       "<Figure size 432x288 with 1 Axes>"
      ]
     },
     "metadata": {
      "needs_background": "light"
     },
     "output_type": "display_data"
    },
    {
     "name": "stdout",
     "output_type": "stream",
     "text": [
      "Graph for job_seniority\n",
      "Total records = 3\n"
     ]
    },
    {
     "data": {
      "image/png": "[encoded data removed]",
      "text/plain": [
       "<Figure size 432x288 with 1 Axes>"
      ]
     },
     "metadata": {
      "needs_background": "light"
     },
     "output_type": "display_data"
    }
   ],
   "source": [
    "# Plotting the data for 'job_title_simplified', 'job_seniority' columns\n",
    "for i in ['job_title_simplified', 'job_seniority']:\n",
    "    unique_categories = df_categorical[i].value_counts()[:20]\n",
    "    print(\"Graph for {}\\nTotal records = {}\".format(i, len(unique_categories)))\n",
    "    chart = sns.barplot(x=unique_categories.index, y=unique_categories)\n",
    "    chart.set_xticklabels(chart.get_xticklabels(), rotation=90)\n",
    "    plt.show()"
   ]
  },
  {
   "cell_type": "code",
   "execution_count": 76,
   "metadata": {
    "colab": {
     "base_uri": "https://localhost:8080/",
     "height": 158
    },
    "colab_type": "code",
    "id": "gK2NuLo3ExLb",
    "outputId": "220c991f-353b-4b9a-b946-ff3d484c4b53"
   },
   "outputs": [
    {
     "data": {
      "text/plain": [
       "Index(['Job Title', 'Salary Estimate', 'Job Description', 'Rating',\n",
       "       'Company Name', 'Location', 'Headquarters', 'Size', 'Founded',\n",
       "       'Type of ownership', 'Industry', 'Sector', 'Revenue', 'Competitors',\n",
       "       'salary_per_hour', 'emp_provided_salary', 'min_salary', 'max_salary',\n",
       "       'average_salary', 'job_state', 'company_age', 'python_job', 'r_job',\n",
       "       'spark_job', 'aws_job', 'excel_job', 'job_title_simplified',\n",
       "       'job_seniority'],\n",
       "      dtype='object')"
      ]
     },
     "execution_count": 76,
     "metadata": {},
     "output_type": "execute_result"
    }
   ],
   "source": [
    "df.columns"
   ]
  },
  {
   "cell_type": "code",
   "execution_count": 77,
   "metadata": {
    "colab": {
     "base_uri": "https://localhost:8080/",
     "height": 497
    },
    "colab_type": "code",
    "id": "3g2Ql8PKFSvU",
    "outputId": "aa54d849-7689-472d-8473-e31035a81cfc"
   },
   "outputs": [
    {
     "data": {
      "text/html": [
       "<div>\n",
       "<style scoped>\n",
       "    .dataframe tbody tr th:only-of-type {\n",
       "        vertical-align: middle;\n",
       "    }\n",
       "\n",
       "    .dataframe tbody tr th {\n",
       "        vertical-align: top;\n",
       "    }\n",
       "\n",
       "    .dataframe thead th {\n",
       "        text-align: right;\n",
       "    }\n",
       "</style>\n",
       "<table border=\"1\" class=\"dataframe\">\n",
       "  <thead>\n",
       "    <tr style=\"text-align: right;\">\n",
       "      <th></th>\n",
       "      <th></th>\n",
       "      <th>average_salary</th>\n",
       "    </tr>\n",
       "    <tr>\n",
       "      <th>job_title_simplified</th>\n",
       "      <th>job_seniority</th>\n",
       "      <th></th>\n",
       "    </tr>\n",
       "  </thead>\n",
       "  <tbody>\n",
       "    <tr>\n",
       "      <td rowspan=\"3\" valign=\"top\">analyst</td>\n",
       "      <td>jr</td>\n",
       "      <td>56.500000</td>\n",
       "    </tr>\n",
       "    <tr>\n",
       "      <td>na</td>\n",
       "      <td>61.155405</td>\n",
       "    </tr>\n",
       "    <tr>\n",
       "      <td>senior</td>\n",
       "      <td>79.092593</td>\n",
       "    </tr>\n",
       "    <tr>\n",
       "      <td rowspan=\"2\" valign=\"top\">data engineer</td>\n",
       "      <td>na</td>\n",
       "      <td>96.701220</td>\n",
       "    </tr>\n",
       "    <tr>\n",
       "      <td>senior</td>\n",
       "      <td>124.689189</td>\n",
       "    </tr>\n",
       "    <tr>\n",
       "      <td rowspan=\"3\" valign=\"top\">data scientist</td>\n",
       "      <td>jr</td>\n",
       "      <td>106.500000</td>\n",
       "    </tr>\n",
       "    <tr>\n",
       "      <td>na</td>\n",
       "      <td>107.043011</td>\n",
       "    </tr>\n",
       "    <tr>\n",
       "      <td>senior</td>\n",
       "      <td>138.956522</td>\n",
       "    </tr>\n",
       "    <tr>\n",
       "      <td>director</td>\n",
       "      <td>na</td>\n",
       "      <td>168.607143</td>\n",
       "    </tr>\n",
       "    <tr>\n",
       "      <td>manager</td>\n",
       "      <td>na</td>\n",
       "      <td>84.022727</td>\n",
       "    </tr>\n",
       "    <tr>\n",
       "      <td rowspan=\"2\" valign=\"top\">mle</td>\n",
       "      <td>na</td>\n",
       "      <td>119.133333</td>\n",
       "    </tr>\n",
       "    <tr>\n",
       "      <td>senior</td>\n",
       "      <td>142.071429</td>\n",
       "    </tr>\n",
       "    <tr>\n",
       "      <td rowspan=\"2\" valign=\"top\">na</td>\n",
       "      <td>na</td>\n",
       "      <td>73.988189</td>\n",
       "    </tr>\n",
       "    <tr>\n",
       "      <td>senior</td>\n",
       "      <td>109.061404</td>\n",
       "    </tr>\n",
       "  </tbody>\n",
       "</table>\n",
       "</div>"
      ],
      "text/plain": [
       "                                    average_salary\n",
       "job_title_simplified job_seniority                \n",
       "analyst              jr                  56.500000\n",
       "                     na                  61.155405\n",
       "                     senior              79.092593\n",
       "data engineer        na                  96.701220\n",
       "                     senior             124.689189\n",
       "data scientist       jr                 106.500000\n",
       "                     na                 107.043011\n",
       "                     senior             138.956522\n",
       "director             na                 168.607143\n",
       "manager              na                  84.022727\n",
       "mle                  na                 119.133333\n",
       "                     senior             142.071429\n",
       "na                   na                  73.988189\n",
       "                     senior             109.061404"
      ]
     },
     "execution_count": 77,
     "metadata": {},
     "output_type": "execute_result"
    }
   ],
   "source": [
    "pd.pivot_table(df, index=['job_title_simplified','job_seniority'], values='average_salary')"
   ]
  },
  {
   "cell_type": "code",
   "execution_count": 78,
   "metadata": {
    "colab": {
     "base_uri": "https://localhost:8080/",
     "height": 677
    },
    "colab_type": "code",
    "id": "pcXAxteYFeei",
    "outputId": "ba078500-9acb-4609-c89f-2fc921b07d9e"
   },
   "outputs": [
    {
     "data": {
      "text/html": [
       "<div>\n",
       "<style scoped>\n",
       "    .dataframe tbody tr th:only-of-type {\n",
       "        vertical-align: middle;\n",
       "    }\n",
       "\n",
       "    .dataframe tbody tr th {\n",
       "        vertical-align: top;\n",
       "    }\n",
       "\n",
       "    .dataframe thead th {\n",
       "        text-align: right;\n",
       "    }\n",
       "</style>\n",
       "<table border=\"1\" class=\"dataframe\">\n",
       "  <thead>\n",
       "    <tr style=\"text-align: right;\">\n",
       "      <th></th>\n",
       "      <th></th>\n",
       "      <th>average_salary</th>\n",
       "    </tr>\n",
       "    <tr>\n",
       "      <th>job_state</th>\n",
       "      <th>job_title_simplified</th>\n",
       "      <th></th>\n",
       "    </tr>\n",
       "  </thead>\n",
       "  <tbody>\n",
       "    <tr>\n",
       "      <td>IL</td>\n",
       "      <td>director</td>\n",
       "      <td>221.750000</td>\n",
       "    </tr>\n",
       "    <tr>\n",
       "      <td>CA</td>\n",
       "      <td>mle</td>\n",
       "      <td>177.300000</td>\n",
       "    </tr>\n",
       "    <tr>\n",
       "      <td>NJ</td>\n",
       "      <td>director</td>\n",
       "      <td>161.500000</td>\n",
       "    </tr>\n",
       "    <tr>\n",
       "      <td>DC</td>\n",
       "      <td>data scientist</td>\n",
       "      <td>149.000000</td>\n",
       "    </tr>\n",
       "    <tr>\n",
       "      <td>CA</td>\n",
       "      <td>data scientist</td>\n",
       "      <td>142.522059</td>\n",
       "    </tr>\n",
       "    <tr>\n",
       "      <td>UT</td>\n",
       "      <td>data scientist</td>\n",
       "      <td>140.500000</td>\n",
       "    </tr>\n",
       "    <tr>\n",
       "      <td>IL</td>\n",
       "      <td>mle</td>\n",
       "      <td>133.000000</td>\n",
       "    </tr>\n",
       "    <tr>\n",
       "      <td>CA</td>\n",
       "      <td>data engineer</td>\n",
       "      <td>129.540000</td>\n",
       "    </tr>\n",
       "    <tr>\n",
       "      <td>MO</td>\n",
       "      <td>data scientist</td>\n",
       "      <td>127.666667</td>\n",
       "    </tr>\n",
       "    <tr>\n",
       "      <td>NY</td>\n",
       "      <td>mle</td>\n",
       "      <td>125.000000</td>\n",
       "    </tr>\n",
       "    <tr>\n",
       "      <td>AZ</td>\n",
       "      <td>na</td>\n",
       "      <td>124.500000</td>\n",
       "    </tr>\n",
       "    <tr>\n",
       "      <td>PA</td>\n",
       "      <td>mle</td>\n",
       "      <td>120.500000</td>\n",
       "    </tr>\n",
       "    <tr>\n",
       "      <td>MA</td>\n",
       "      <td>director</td>\n",
       "      <td>117.833333</td>\n",
       "    </tr>\n",
       "    <tr>\n",
       "      <td>IL</td>\n",
       "      <td>data scientist</td>\n",
       "      <td>117.233333</td>\n",
       "    </tr>\n",
       "    <tr>\n",
       "      <td>NC</td>\n",
       "      <td>data scientist</td>\n",
       "      <td>117.000000</td>\n",
       "    </tr>\n",
       "    <tr>\n",
       "      <td>NY</td>\n",
       "      <td>data scientist</td>\n",
       "      <td>115.250000</td>\n",
       "    </tr>\n",
       "    <tr>\n",
       "      <td>IN</td>\n",
       "      <td>data engineer</td>\n",
       "      <td>114.500000</td>\n",
       "    </tr>\n",
       "    <tr>\n",
       "      <td>MA</td>\n",
       "      <td>data scientist</td>\n",
       "      <td>113.750000</td>\n",
       "    </tr>\n",
       "    <tr>\n",
       "      <td>WI</td>\n",
       "      <td>data scientist</td>\n",
       "      <td>113.500000</td>\n",
       "    </tr>\n",
       "    <tr>\n",
       "      <td>PA</td>\n",
       "      <td>data scientist</td>\n",
       "      <td>113.333333</td>\n",
       "    </tr>\n",
       "  </tbody>\n",
       "</table>\n",
       "</div>"
      ],
      "text/plain": [
       "                                average_salary\n",
       "job_state job_title_simplified                \n",
       "IL        director                  221.750000\n",
       "CA        mle                       177.300000\n",
       "NJ        director                  161.500000\n",
       "DC        data scientist            149.000000\n",
       "CA        data scientist            142.522059\n",
       "UT        data scientist            140.500000\n",
       "IL        mle                       133.000000\n",
       "CA        data engineer             129.540000\n",
       "MO        data scientist            127.666667\n",
       "NY        mle                       125.000000\n",
       "AZ        na                        124.500000\n",
       "PA        mle                       120.500000\n",
       "MA        director                  117.833333\n",
       "IL        data scientist            117.233333\n",
       "NC        data scientist            117.000000\n",
       "NY        data scientist            115.250000\n",
       "IN        data engineer             114.500000\n",
       "MA        data scientist            113.750000\n",
       "WI        data scientist            113.500000\n",
       "PA        data scientist            113.333333"
      ]
     },
     "execution_count": 78,
     "metadata": {},
     "output_type": "execute_result"
    }
   ],
   "source": [
    "pd.pivot_table(df, index=['job_state','job_title_simplified'], values='average_salary').sort_values('average_salary', ascending=False)[:20]"
   ]
  },
  {
   "cell_type": "code",
   "execution_count": 79,
   "metadata": {
    "colab": {
     "base_uri": "https://localhost:8080/",
     "height": 527
    },
    "colab_type": "code",
    "id": "5enke6TZHc0-",
    "outputId": "84a81b1f-47f5-4586-9749-8c7f233648f9"
   },
   "outputs": [
    {
     "data": {
      "text/html": [
       "<div>\n",
       "<style scoped>\n",
       "    .dataframe tbody tr th:only-of-type {\n",
       "        vertical-align: middle;\n",
       "    }\n",
       "\n",
       "    .dataframe tbody tr th {\n",
       "        vertical-align: top;\n",
       "    }\n",
       "\n",
       "    .dataframe thead th {\n",
       "        text-align: right;\n",
       "    }\n",
       "</style>\n",
       "<table border=\"1\" class=\"dataframe\">\n",
       "  <thead>\n",
       "    <tr style=\"text-align: right;\">\n",
       "      <th></th>\n",
       "      <th>average_salary</th>\n",
       "    </tr>\n",
       "    <tr>\n",
       "      <th>job_state</th>\n",
       "      <th></th>\n",
       "    </tr>\n",
       "  </thead>\n",
       "  <tbody>\n",
       "    <tr>\n",
       "      <td>CA</td>\n",
       "      <td>123.513158</td>\n",
       "    </tr>\n",
       "    <tr>\n",
       "      <td>IL</td>\n",
       "      <td>116.662500</td>\n",
       "    </tr>\n",
       "    <tr>\n",
       "      <td>DC</td>\n",
       "      <td>110.181818</td>\n",
       "    </tr>\n",
       "    <tr>\n",
       "      <td>MA</td>\n",
       "      <td>106.281553</td>\n",
       "    </tr>\n",
       "    <tr>\n",
       "      <td>NJ</td>\n",
       "      <td>104.558824</td>\n",
       "    </tr>\n",
       "    <tr>\n",
       "      <td>MI</td>\n",
       "      <td>100.250000</td>\n",
       "    </tr>\n",
       "    <tr>\n",
       "      <td>RI</td>\n",
       "      <td>100.000000</td>\n",
       "    </tr>\n",
       "    <tr>\n",
       "      <td>NY</td>\n",
       "      <td>98.652778</td>\n",
       "    </tr>\n",
       "    <tr>\n",
       "      <td>NC</td>\n",
       "      <td>98.452381</td>\n",
       "    </tr>\n",
       "    <tr>\n",
       "      <td>MD</td>\n",
       "      <td>97.357143</td>\n",
       "    </tr>\n",
       "    <tr>\n",
       "      <td>KY</td>\n",
       "      <td>97.000000</td>\n",
       "    </tr>\n",
       "    <tr>\n",
       "      <td>VA</td>\n",
       "      <td>95.621951</td>\n",
       "    </tr>\n",
       "    <tr>\n",
       "      <td>UT</td>\n",
       "      <td>94.150000</td>\n",
       "    </tr>\n",
       "    <tr>\n",
       "      <td>WA</td>\n",
       "      <td>93.190476</td>\n",
       "    </tr>\n",
       "    <tr>\n",
       "      <td>PA</td>\n",
       "      <td>92.560606</td>\n",
       "    </tr>\n",
       "  </tbody>\n",
       "</table>\n",
       "</div>"
      ],
      "text/plain": [
       "           average_salary\n",
       "job_state                \n",
       "CA             123.513158\n",
       "IL             116.662500\n",
       "DC             110.181818\n",
       "MA             106.281553\n",
       "NJ             104.558824\n",
       "MI             100.250000\n",
       "RI             100.000000\n",
       "NY              98.652778\n",
       "NC              98.452381\n",
       "MD              97.357143\n",
       "KY              97.000000\n",
       "VA              95.621951\n",
       "UT              94.150000\n",
       "WA              93.190476\n",
       "PA              92.560606"
      ]
     },
     "execution_count": 79,
     "metadata": {},
     "output_type": "execute_result"
    }
   ],
   "source": [
    "pd.pivot_table(df, index='job_state', values='average_salary').sort_values('average_salary', ascending=False)[:15]"
   ]
  },
  {
   "cell_type": "code",
   "execution_count": 80,
   "metadata": {
    "colab": {
     "base_uri": "https://localhost:8080/",
     "height": 527
    },
    "colab_type": "code",
    "id": "RkSwilZPIDFn",
    "outputId": "eca06a6e-3f5a-4555-f0d8-38c6f7ca7766"
   },
   "outputs": [
    {
     "data": {
      "text/html": [
       "<div>\n",
       "<style scoped>\n",
       "    .dataframe tbody tr th:only-of-type {\n",
       "        vertical-align: middle;\n",
       "    }\n",
       "\n",
       "    .dataframe tbody tr th {\n",
       "        vertical-align: top;\n",
       "    }\n",
       "\n",
       "    .dataframe thead th {\n",
       "        text-align: right;\n",
       "    }\n",
       "</style>\n",
       "<table border=\"1\" class=\"dataframe\">\n",
       "  <thead>\n",
       "    <tr style=\"text-align: right;\">\n",
       "      <th></th>\n",
       "      <th>average_salary</th>\n",
       "    </tr>\n",
       "    <tr>\n",
       "      <th>Industry</th>\n",
       "      <th></th>\n",
       "    </tr>\n",
       "  </thead>\n",
       "  <tbody>\n",
       "    <tr>\n",
       "      <td>Other Retail Stores</td>\n",
       "      <td>163.500000</td>\n",
       "    </tr>\n",
       "    <tr>\n",
       "      <td>Motion Picture Production &amp; Distribution</td>\n",
       "      <td>146.000000</td>\n",
       "    </tr>\n",
       "    <tr>\n",
       "      <td>Financial Analytics &amp; Research</td>\n",
       "      <td>145.125000</td>\n",
       "    </tr>\n",
       "    <tr>\n",
       "      <td>Health, Beauty, &amp; Fitness</td>\n",
       "      <td>139.500000</td>\n",
       "    </tr>\n",
       "    <tr>\n",
       "      <td>Telecommunications Services</td>\n",
       "      <td>131.500000</td>\n",
       "    </tr>\n",
       "    <tr>\n",
       "      <td>Brokerage Services</td>\n",
       "      <td>129.000000</td>\n",
       "    </tr>\n",
       "    <tr>\n",
       "      <td>Auctions &amp; Galleries</td>\n",
       "      <td>128.000000</td>\n",
       "    </tr>\n",
       "    <tr>\n",
       "      <td>Internet</td>\n",
       "      <td>123.810345</td>\n",
       "    </tr>\n",
       "    <tr>\n",
       "      <td>Investment Banking &amp; Asset Management</td>\n",
       "      <td>118.400000</td>\n",
       "    </tr>\n",
       "    <tr>\n",
       "      <td>TV Broadcast &amp; Cable Networks</td>\n",
       "      <td>117.750000</td>\n",
       "    </tr>\n",
       "    <tr>\n",
       "      <td>Enterprise Software &amp; Network Solutions</td>\n",
       "      <td>115.369048</td>\n",
       "    </tr>\n",
       "    <tr>\n",
       "      <td>Computer Hardware &amp; Software</td>\n",
       "      <td>115.194915</td>\n",
       "    </tr>\n",
       "    <tr>\n",
       "      <td>-1</td>\n",
       "      <td>114.650000</td>\n",
       "    </tr>\n",
       "    <tr>\n",
       "      <td>Accounting</td>\n",
       "      <td>113.500000</td>\n",
       "    </tr>\n",
       "    <tr>\n",
       "      <td>Biotech &amp; Pharmaceuticals</td>\n",
       "      <td>111.767857</td>\n",
       "    </tr>\n",
       "  </tbody>\n",
       "</table>\n",
       "</div>"
      ],
      "text/plain": [
       "                                          average_salary\n",
       "Industry                                                \n",
       "Other Retail Stores                           163.500000\n",
       "Motion Picture Production & Distribution      146.000000\n",
       "Financial Analytics & Research                145.125000\n",
       "Health, Beauty, & Fitness                     139.500000\n",
       "Telecommunications Services                   131.500000\n",
       "Brokerage Services                            129.000000\n",
       "Auctions & Galleries                          128.000000\n",
       "Internet                                      123.810345\n",
       "Investment Banking & Asset Management         118.400000\n",
       "TV Broadcast & Cable Networks                 117.750000\n",
       "Enterprise Software & Network Solutions       115.369048\n",
       "Computer Hardware & Software                  115.194915\n",
       "-1                                            114.650000\n",
       "Accounting                                    113.500000\n",
       "Biotech & Pharmaceuticals                     111.767857"
      ]
     },
     "execution_count": 80,
     "metadata": {},
     "output_type": "execute_result"
    }
   ],
   "source": [
    "# Top 15 Industries for Data Scientists\n",
    "pd.pivot_table(df, index='Industry', values='average_salary').sort_values('average_salary', ascending=False)[:15]"
   ]
  },
  {
   "cell_type": "code",
   "execution_count": 81,
   "metadata": {
    "colab": {
     "base_uri": "https://localhost:8080/",
     "height": 377
    },
    "colab_type": "code",
    "id": "2AJi-q6CJUU_",
    "outputId": "201ca482-96a2-4ca6-d5c0-a8e99e087e22"
   },
   "outputs": [
    {
     "data": {
      "text/html": [
       "<div>\n",
       "<style scoped>\n",
       "    .dataframe tbody tr th:only-of-type {\n",
       "        vertical-align: middle;\n",
       "    }\n",
       "\n",
       "    .dataframe tbody tr th {\n",
       "        vertical-align: top;\n",
       "    }\n",
       "\n",
       "    .dataframe thead th {\n",
       "        text-align: right;\n",
       "    }\n",
       "</style>\n",
       "<table border=\"1\" class=\"dataframe\">\n",
       "  <thead>\n",
       "    <tr style=\"text-align: right;\">\n",
       "      <th></th>\n",
       "      <th>average_salary</th>\n",
       "    </tr>\n",
       "    <tr>\n",
       "      <th>Sector</th>\n",
       "      <th></th>\n",
       "    </tr>\n",
       "  </thead>\n",
       "  <tbody>\n",
       "    <tr>\n",
       "      <td>Media</td>\n",
       "      <td>116.666667</td>\n",
       "    </tr>\n",
       "    <tr>\n",
       "      <td>-1</td>\n",
       "      <td>114.650000</td>\n",
       "    </tr>\n",
       "    <tr>\n",
       "      <td>Accounting &amp; Legal</td>\n",
       "      <td>113.500000</td>\n",
       "    </tr>\n",
       "    <tr>\n",
       "      <td>Information Technology</td>\n",
       "      <td>113.191667</td>\n",
       "    </tr>\n",
       "    <tr>\n",
       "      <td>Biotech &amp; Pharmaceuticals</td>\n",
       "      <td>111.767857</td>\n",
       "    </tr>\n",
       "    <tr>\n",
       "      <td>Insurance</td>\n",
       "      <td>105.942029</td>\n",
       "    </tr>\n",
       "    <tr>\n",
       "      <td>Real Estate</td>\n",
       "      <td>104.750000</td>\n",
       "    </tr>\n",
       "    <tr>\n",
       "      <td>Mining &amp; Metals</td>\n",
       "      <td>104.000000</td>\n",
       "    </tr>\n",
       "    <tr>\n",
       "      <td>Telecommunications</td>\n",
       "      <td>102.333333</td>\n",
       "    </tr>\n",
       "    <tr>\n",
       "      <td>Education</td>\n",
       "      <td>100.739130</td>\n",
       "    </tr>\n",
       "  </tbody>\n",
       "</table>\n",
       "</div>"
      ],
      "text/plain": [
       "                           average_salary\n",
       "Sector                                   \n",
       "Media                          116.666667\n",
       "-1                             114.650000\n",
       "Accounting & Legal             113.500000\n",
       "Information Technology         113.191667\n",
       "Biotech & Pharmaceuticals      111.767857\n",
       "Insurance                      105.942029\n",
       "Real Estate                    104.750000\n",
       "Mining & Metals                104.000000\n",
       "Telecommunications             102.333333\n",
       "Education                      100.739130"
      ]
     },
     "execution_count": 81,
     "metadata": {},
     "output_type": "execute_result"
    }
   ],
   "source": [
    "# Top 10 Sectors for Data Scientists\n",
    "pd.pivot_table(df, index='Sector', values='average_salary').sort_values('average_salary', ascending=False)[:10]"
   ]
  },
  {
   "cell_type": "code",
   "execution_count": 82,
   "metadata": {
    "colab": {
     "base_uri": "https://localhost:8080/",
     "height": 347
    },
    "colab_type": "code",
    "id": "gFnAesuPJckK",
    "outputId": "ad472ec8-8d07-4b3a-cb23-9dc04e36a695"
   },
   "outputs": [
    {
     "data": {
      "text/html": [
       "<div>\n",
       "<style scoped>\n",
       "    .dataframe tbody tr th:only-of-type {\n",
       "        vertical-align: middle;\n",
       "    }\n",
       "\n",
       "    .dataframe tbody tr th {\n",
       "        vertical-align: top;\n",
       "    }\n",
       "\n",
       "    .dataframe thead th {\n",
       "        text-align: right;\n",
       "    }\n",
       "</style>\n",
       "<table border=\"1\" class=\"dataframe\">\n",
       "  <thead>\n",
       "    <tr style=\"text-align: right;\">\n",
       "      <th></th>\n",
       "      <th>average_salary</th>\n",
       "    </tr>\n",
       "    <tr>\n",
       "      <th>Type of ownership</th>\n",
       "      <th></th>\n",
       "    </tr>\n",
       "  </thead>\n",
       "  <tbody>\n",
       "    <tr>\n",
       "      <td>Public</td>\n",
       "      <td>110.893782</td>\n",
       "    </tr>\n",
       "    <tr>\n",
       "      <td>Subsidiary or Business Segment</td>\n",
       "      <td>110.573529</td>\n",
       "    </tr>\n",
       "    <tr>\n",
       "      <td>College / University</td>\n",
       "      <td>107.615385</td>\n",
       "    </tr>\n",
       "    <tr>\n",
       "      <td>Private</td>\n",
       "      <td>101.776829</td>\n",
       "    </tr>\n",
       "    <tr>\n",
       "      <td>Government</td>\n",
       "      <td>84.300000</td>\n",
       "    </tr>\n",
       "    <tr>\n",
       "      <td>Other Organization</td>\n",
       "      <td>77.900000</td>\n",
       "    </tr>\n",
       "    <tr>\n",
       "      <td>School / School District</td>\n",
       "      <td>77.750000</td>\n",
       "    </tr>\n",
       "    <tr>\n",
       "      <td>Nonprofit Organization</td>\n",
       "      <td>68.281818</td>\n",
       "    </tr>\n",
       "    <tr>\n",
       "      <td>Hospital</td>\n",
       "      <td>54.000000</td>\n",
       "    </tr>\n",
       "  </tbody>\n",
       "</table>\n",
       "</div>"
      ],
      "text/plain": [
       "                                average_salary\n",
       "Type of ownership                             \n",
       "Public                              110.893782\n",
       "Subsidiary or Business Segment      110.573529\n",
       "College / University                107.615385\n",
       "Private                             101.776829\n",
       "Government                           84.300000\n",
       "Other Organization                   77.900000\n",
       "School / School District             77.750000\n",
       "Nonprofit Organization               68.281818\n",
       "Hospital                             54.000000"
      ]
     },
     "execution_count": 82,
     "metadata": {},
     "output_type": "execute_result"
    }
   ],
   "source": [
    "# Top Company types that pay Data Scientists well\n",
    "pd.pivot_table(df, index='Type of ownership', values='average_salary').sort_values('average_salary', ascending=False)[:10]"
   ]
  },
  {
   "cell_type": "code",
   "execution_count": 83,
   "metadata": {
    "colab": {
     "base_uri": "https://localhost:8080/",
     "height": 677
    },
    "colab_type": "code",
    "id": "zIeVXiWTKwhE",
    "outputId": "dca2894c-dc30-45b0-b508-359aece2c710"
   },
   "outputs": [
    {
     "data": {
      "text/html": [
       "<div>\n",
       "<style scoped>\n",
       "    .dataframe tbody tr th:only-of-type {\n",
       "        vertical-align: middle;\n",
       "    }\n",
       "\n",
       "    .dataframe tbody tr th {\n",
       "        vertical-align: top;\n",
       "    }\n",
       "\n",
       "    .dataframe thead th {\n",
       "        text-align: right;\n",
       "    }\n",
       "</style>\n",
       "<table border=\"1\" class=\"dataframe\">\n",
       "  <thead>\n",
       "    <tr style=\"text-align: right;\">\n",
       "      <th></th>\n",
       "      <th>average_salary</th>\n",
       "    </tr>\n",
       "    <tr>\n",
       "      <th>Company Name</th>\n",
       "      <th></th>\n",
       "    </tr>\n",
       "  </thead>\n",
       "  <tbody>\n",
       "    <tr>\n",
       "      <td>Gallup</td>\n",
       "      <td>237.5</td>\n",
       "    </tr>\n",
       "    <tr>\n",
       "      <td>Sage Intacct</td>\n",
       "      <td>232.5</td>\n",
       "    </tr>\n",
       "    <tr>\n",
       "      <td>CA-One Tech Cloud</td>\n",
       "      <td>225.0</td>\n",
       "    </tr>\n",
       "    <tr>\n",
       "      <td>Grand Rounds</td>\n",
       "      <td>221.5</td>\n",
       "    </tr>\n",
       "    <tr>\n",
       "      <td>Credit Sesame</td>\n",
       "      <td>205.0</td>\n",
       "    </tr>\n",
       "    <tr>\n",
       "      <td>The Climate Corporation</td>\n",
       "      <td>194.0</td>\n",
       "    </tr>\n",
       "    <tr>\n",
       "      <td>Grainger</td>\n",
       "      <td>179.5</td>\n",
       "    </tr>\n",
       "    <tr>\n",
       "      <td>Samsung Research America</td>\n",
       "      <td>177.0</td>\n",
       "    </tr>\n",
       "    <tr>\n",
       "      <td>Nektar Therapeutics</td>\n",
       "      <td>174.0</td>\n",
       "    </tr>\n",
       "    <tr>\n",
       "      <td>DTCC</td>\n",
       "      <td>173.0</td>\n",
       "    </tr>\n",
       "    <tr>\n",
       "      <td>Two Sigma</td>\n",
       "      <td>172.0</td>\n",
       "    </tr>\n",
       "    <tr>\n",
       "      <td>BioMarin Pharmaceutical</td>\n",
       "      <td>168.0</td>\n",
       "    </tr>\n",
       "    <tr>\n",
       "      <td>Confluent</td>\n",
       "      <td>168.0</td>\n",
       "    </tr>\n",
       "    <tr>\n",
       "      <td>Quartet Health</td>\n",
       "      <td>165.0</td>\n",
       "    </tr>\n",
       "    <tr>\n",
       "      <td>Samba TV</td>\n",
       "      <td>164.5</td>\n",
       "    </tr>\n",
       "    <tr>\n",
       "      <td>Zest AI</td>\n",
       "      <td>164.0</td>\n",
       "    </tr>\n",
       "    <tr>\n",
       "      <td>Wish</td>\n",
       "      <td>163.5</td>\n",
       "    </tr>\n",
       "    <tr>\n",
       "      <td>Adobe</td>\n",
       "      <td>162.0</td>\n",
       "    </tr>\n",
       "    <tr>\n",
       "      <td>Glassdoor</td>\n",
       "      <td>162.0</td>\n",
       "    </tr>\n",
       "    <tr>\n",
       "      <td>Genentech</td>\n",
       "      <td>156.5</td>\n",
       "    </tr>\n",
       "  </tbody>\n",
       "</table>\n",
       "</div>"
      ],
      "text/plain": [
       "                          average_salary\n",
       "Company Name                            \n",
       "Gallup                             237.5\n",
       "Sage Intacct                       232.5\n",
       "CA-One Tech Cloud                  225.0\n",
       "Grand Rounds                       221.5\n",
       "Credit Sesame                      205.0\n",
       "The Climate Corporation            194.0\n",
       "Grainger                           179.5\n",
       "Samsung Research America           177.0\n",
       "Nektar Therapeutics                174.0\n",
       "DTCC                               173.0\n",
       "Two Sigma                          172.0\n",
       "BioMarin Pharmaceutical            168.0\n",
       "Confluent                          168.0\n",
       "Quartet Health                     165.0\n",
       "Samba TV                           164.5\n",
       "Zest AI                            164.0\n",
       "Wish                               163.5\n",
       "Adobe                              162.0\n",
       "Glassdoor                          162.0\n",
       "Genentech                          156.5"
      ]
     },
     "execution_count": 83,
     "metadata": {},
     "output_type": "execute_result"
    }
   ],
   "source": [
    "# Top 20 Companies that pay Data Scientists well\n",
    "pd.pivot_table(df, index='Company Name', values='average_salary').sort_values('average_salary', ascending=False)[:20]"
   ]
  },
  {
   "cell_type": "markdown",
   "metadata": {
    "colab_type": "text",
    "id": "xKwvJbVzM3CO"
   },
   "source": [
    "# **Feature Engineering**"
   ]
  },
  {
   "cell_type": "markdown",
   "metadata": {
    "colab_type": "text",
    "id": "ECj8obFFJhbn"
   },
   "source": [
    "## *Trimming Columns*"
   ]
  },
  {
   "cell_type": "code",
   "execution_count": 84,
   "metadata": {
    "colab": {},
    "colab_type": "code",
    "id": "Yaj7wYQ-B6zd"
   },
   "outputs": [],
   "source": [
    "# Trimming the 'Industry' column\n",
    "\n",
    "# Taking top 11 Industries and replacing others by 'Others'\n",
    "industry_list = ['Biotech & Pharmaceuticals', 'Insurance Carriers', 'Computer Hardware & Software', 'IT Services', 'Health Care Services & Hospitals', \n",
    "                 'Enterprise Software & Network Solutions', 'Consulting', 'Internet', 'Advertising & Marketing', 'Aerospace & Defense', 'Consumer Products Manufacturing']\n",
    "\n",
    "def industry_simplifier(text):\n",
    "  if text not in industry_list:\n",
    "    return 'Others'\n",
    "  else:\n",
    "    return text\n",
    "\n",
    "df['Industry'] = df['Industry'].apply(industry_simplifier)"
   ]
  },
  {
   "cell_type": "code",
   "execution_count": 85,
   "metadata": {
    "colab": {},
    "colab_type": "code",
    "id": "Jyy8ZntRFiog"
   },
   "outputs": [],
   "source": [
    "# Trimming the 'job_state' column\n",
    "\n",
    "# Taking top 10 States and replacing others by 'Others'\n",
    "job_state_list = ['CA', 'MA', 'NY', 'VA', 'IL', 'MD', 'PA', 'TX', 'NC', 'WA']\n",
    "\n",
    "def job_state_simplifier(text):\n",
    "  if text not in job_state_list:\n",
    "    return 'Others'\n",
    "  else:\n",
    "    return text\n",
    "\n",
    "df['job_state'] = df['job_state'].apply(job_state_simplifier)"
   ]
  },
  {
   "cell_type": "code",
   "execution_count": 86,
   "metadata": {
    "colab": {},
    "colab_type": "code",
    "id": "qWOQUIeXFuvA"
   },
   "outputs": [],
   "source": [
    "# Adding column of 'job_in_headquarters'\n",
    "df['job_in_headquarters'] = df.apply(lambda x: 1 if x['Location'] == x['Headquarters'] else 0, axis=1)"
   ]
  },
  {
   "cell_type": "code",
   "execution_count": 87,
   "metadata": {
    "colab": {
     "base_uri": "https://localhost:8080/",
     "height": 158
    },
    "colab_type": "code",
    "id": "yH9r2LJTLI5U",
    "outputId": "aa88c38a-6f0d-417b-906d-b292e34fde4e"
   },
   "outputs": [
    {
     "data": {
      "text/plain": [
       "Index(['Job Title', 'Salary Estimate', 'Job Description', 'Rating',\n",
       "       'Company Name', 'Location', 'Headquarters', 'Size', 'Founded',\n",
       "       'Type of ownership', 'Industry', 'Sector', 'Revenue', 'Competitors',\n",
       "       'salary_per_hour', 'emp_provided_salary', 'min_salary', 'max_salary',\n",
       "       'average_salary', 'job_state', 'company_age', 'python_job', 'r_job',\n",
       "       'spark_job', 'aws_job', 'excel_job', 'job_title_simplified',\n",
       "       'job_seniority', 'job_in_headquarters'],\n",
       "      dtype='object')"
      ]
     },
     "execution_count": 87,
     "metadata": {},
     "output_type": "execute_result"
    }
   ],
   "source": [
    "df.columns"
   ]
  },
  {
   "cell_type": "code",
   "execution_count": 88,
   "metadata": {
    "colab": {},
    "colab_type": "code",
    "id": "e79vpbI3ES4P"
   },
   "outputs": [],
   "source": [
    "# Choosing relevant columns\n",
    "df_model = df.copy(deep=True)\n",
    "df_model = df_model[['average_salary', 'Rating', 'company_age', 'Size', 'Type of ownership', 'Industry', 'Revenue', 'Competitors',\n",
    "               'job_title_simplified', 'job_seniority', 'job_state', 'job_in_headquarters', 'python_job', 'spark_job', 'aws_job', 'excel_job', ]]"
   ]
  },
  {
   "cell_type": "code",
   "execution_count": 89,
   "metadata": {
    "colab": {},
    "colab_type": "code",
    "id": "WDDjqtC9MWEk"
   },
   "outputs": [],
   "source": [
    "# Renaming columns\n",
    "df_model.rename(columns={'Rating':'company_rating', 'Size':'company_size', 'Type of ownership':'type_of_ownership',\n",
    "                         'Industry':'industry', 'Revenue':'revenue', 'Competitors':'competitors'}, inplace=True)"
   ]
  },
  {
   "cell_type": "code",
   "execution_count": 90,
   "metadata": {
    "colab": {
     "base_uri": "https://localhost:8080/",
     "height": 123
    },
    "colab_type": "code",
    "id": "7457Unx2NtiR",
    "outputId": "d091a5cc-43d3-4476-d974-f1695e59fa31"
   },
   "outputs": [
    {
     "data": {
      "text/plain": [
       "Index(['average_salary', 'company_rating', 'company_age', 'company_size',\n",
       "       'type_of_ownership', 'industry', 'revenue', 'competitors',\n",
       "       'job_title_simplified', 'job_seniority', 'job_state',\n",
       "       'job_in_headquarters', 'python_job', 'spark_job', 'aws_job',\n",
       "       'excel_job'],\n",
       "      dtype='object')"
      ]
     },
     "execution_count": 90,
     "metadata": {},
     "output_type": "execute_result"
    }
   ],
   "source": [
    "df_model.columns"
   ]
  },
  {
   "cell_type": "code",
   "execution_count": 91,
   "metadata": {},
   "outputs": [
    {
     "data": {
      "text/html": [
       "<div>\n",
       "<style scoped>\n",
       "    .dataframe tbody tr th:only-of-type {\n",
       "        vertical-align: middle;\n",
       "    }\n",
       "\n",
       "    .dataframe tbody tr th {\n",
       "        vertical-align: top;\n",
       "    }\n",
       "\n",
       "    .dataframe thead th {\n",
       "        text-align: right;\n",
       "    }\n",
       "</style>\n",
       "<table border=\"1\" class=\"dataframe\">\n",
       "  <thead>\n",
       "    <tr style=\"text-align: right;\">\n",
       "      <th></th>\n",
       "      <th>average_salary</th>\n",
       "      <th>company_rating</th>\n",
       "      <th>company_age</th>\n",
       "      <th>company_size</th>\n",
       "      <th>type_of_ownership</th>\n",
       "      <th>industry</th>\n",
       "      <th>revenue</th>\n",
       "      <th>competitors</th>\n",
       "      <th>job_title_simplified</th>\n",
       "      <th>job_seniority</th>\n",
       "      <th>job_state</th>\n",
       "      <th>job_in_headquarters</th>\n",
       "      <th>python_job</th>\n",
       "      <th>spark_job</th>\n",
       "      <th>aws_job</th>\n",
       "      <th>excel_job</th>\n",
       "    </tr>\n",
       "  </thead>\n",
       "  <tbody>\n",
       "    <tr>\n",
       "      <td>0</td>\n",
       "      <td>72.0</td>\n",
       "      <td>3.8</td>\n",
       "      <td>47</td>\n",
       "      <td>501 to 1000 employees</td>\n",
       "      <td>Private</td>\n",
       "      <td>Aerospace &amp; Defense</td>\n",
       "      <td>$50 to $100 million (USD)</td>\n",
       "      <td>0</td>\n",
       "      <td>data scientist</td>\n",
       "      <td>na</td>\n",
       "      <td>Others</td>\n",
       "      <td>0</td>\n",
       "      <td>1</td>\n",
       "      <td>0</td>\n",
       "      <td>0</td>\n",
       "      <td>1</td>\n",
       "    </tr>\n",
       "    <tr>\n",
       "      <td>1</td>\n",
       "      <td>87.5</td>\n",
       "      <td>3.4</td>\n",
       "      <td>36</td>\n",
       "      <td>10000+ employees</td>\n",
       "      <td>Other Organization</td>\n",
       "      <td>Health Care Services &amp; Hospitals</td>\n",
       "      <td>$2 to $5 billion (USD)</td>\n",
       "      <td>0</td>\n",
       "      <td>data scientist</td>\n",
       "      <td>na</td>\n",
       "      <td>MD</td>\n",
       "      <td>0</td>\n",
       "      <td>1</td>\n",
       "      <td>0</td>\n",
       "      <td>0</td>\n",
       "      <td>0</td>\n",
       "    </tr>\n",
       "    <tr>\n",
       "      <td>2</td>\n",
       "      <td>85.0</td>\n",
       "      <td>4.8</td>\n",
       "      <td>10</td>\n",
       "      <td>501 to 1000 employees</td>\n",
       "      <td>Private</td>\n",
       "      <td>Others</td>\n",
       "      <td>$100 to $500 million (USD)</td>\n",
       "      <td>0</td>\n",
       "      <td>data scientist</td>\n",
       "      <td>na</td>\n",
       "      <td>Others</td>\n",
       "      <td>1</td>\n",
       "      <td>1</td>\n",
       "      <td>1</td>\n",
       "      <td>0</td>\n",
       "      <td>1</td>\n",
       "    </tr>\n",
       "    <tr>\n",
       "      <td>3</td>\n",
       "      <td>76.5</td>\n",
       "      <td>3.8</td>\n",
       "      <td>55</td>\n",
       "      <td>1001 to 5000 employees</td>\n",
       "      <td>Government</td>\n",
       "      <td>Others</td>\n",
       "      <td>$500 million to $1 billion (USD)</td>\n",
       "      <td>3</td>\n",
       "      <td>data scientist</td>\n",
       "      <td>na</td>\n",
       "      <td>WA</td>\n",
       "      <td>1</td>\n",
       "      <td>1</td>\n",
       "      <td>0</td>\n",
       "      <td>0</td>\n",
       "      <td>0</td>\n",
       "    </tr>\n",
       "    <tr>\n",
       "      <td>4</td>\n",
       "      <td>114.5</td>\n",
       "      <td>2.9</td>\n",
       "      <td>22</td>\n",
       "      <td>51 to 200 employees</td>\n",
       "      <td>Private</td>\n",
       "      <td>Advertising &amp; Marketing</td>\n",
       "      <td>Unknown / Non-Applicable</td>\n",
       "      <td>3</td>\n",
       "      <td>data scientist</td>\n",
       "      <td>na</td>\n",
       "      <td>NY</td>\n",
       "      <td>1</td>\n",
       "      <td>1</td>\n",
       "      <td>0</td>\n",
       "      <td>0</td>\n",
       "      <td>1</td>\n",
       "    </tr>\n",
       "  </tbody>\n",
       "</table>\n",
       "</div>"
      ],
      "text/plain": [
       "   average_salary  company_rating  company_age            company_size  \\\n",
       "0            72.0             3.8           47   501 to 1000 employees   \n",
       "1            87.5             3.4           36        10000+ employees   \n",
       "2            85.0             4.8           10   501 to 1000 employees   \n",
       "3            76.5             3.8           55  1001 to 5000 employees   \n",
       "4           114.5             2.9           22     51 to 200 employees   \n",
       "\n",
       "    type_of_ownership                          industry  \\\n",
       "0             Private               Aerospace & Defense   \n",
       "1  Other Organization  Health Care Services & Hospitals   \n",
       "2             Private                            Others   \n",
       "3          Government                            Others   \n",
       "4             Private           Advertising & Marketing   \n",
       "\n",
       "                            revenue  competitors job_title_simplified  \\\n",
       "0         $50 to $100 million (USD)            0       data scientist   \n",
       "1            $2 to $5 billion (USD)            0       data scientist   \n",
       "2        $100 to $500 million (USD)            0       data scientist   \n",
       "3  $500 million to $1 billion (USD)            3       data scientist   \n",
       "4          Unknown / Non-Applicable            3       data scientist   \n",
       "\n",
       "  job_seniority job_state  job_in_headquarters  python_job  spark_job  \\\n",
       "0            na    Others                    0           1          0   \n",
       "1            na        MD                    0           1          0   \n",
       "2            na    Others                    1           1          1   \n",
       "3            na        WA                    1           1          0   \n",
       "4            na        NY                    1           1          0   \n",
       "\n",
       "   aws_job  excel_job  \n",
       "0        0          1  \n",
       "1        0          0  \n",
       "2        0          1  \n",
       "3        0          0  \n",
       "4        0          1  "
      ]
     },
     "execution_count": 91,
     "metadata": {},
     "output_type": "execute_result"
    }
   ],
   "source": [
    "df_model.head()"
   ]
  },
  {
   "cell_type": "markdown",
   "metadata": {
    "colab_type": "text",
    "id": "JUzsDOCBJN7K"
   },
   "source": [
    "## *Handling Ordinal Categorical Features*"
   ]
  },
  {
   "cell_type": "code",
   "execution_count": 92,
   "metadata": {
    "colab": {},
    "colab_type": "code",
    "id": "QVj7td9_OBRU"
   },
   "outputs": [],
   "source": [
    "# Mapping ranks to 'company_size' columns since it is ordinal categorical feature\n",
    "size_map = {'Unknown': 0, '1 to 50 employees': 1, '51 to 200 employees': 2, '201 to 500 employees': 3,\n",
    "            '501 to 1000 employees': 4, '1001 to 5000 employees': 5, '5001 to 10000 employees': 6, '10000+ employees': 7}\n",
    "\n",
    "df_model['company_size_rank'] = df_model['company_size'].map(size_map)\n",
    "df_model.drop('company_size', axis=True, inplace=True)"
   ]
  },
  {
   "cell_type": "code",
   "execution_count": 93,
   "metadata": {
    "colab": {},
    "colab_type": "code",
    "id": "cR-JYSDDVfb5"
   },
   "outputs": [],
   "source": [
    "# Mapping ranks to 'revenue\t' columns since it is ordinal categorical feature\n",
    "revenue_map = {'Unknown / Non-Applicable': 0, 'Less than $1 million (USD)': 1, '$1 to $5 million (USD)': 2, '$5 to $10 million (USD)': 3,\n",
    "            '$10 to $25 million (USD)': 4, '$25 to $50 million (USD)': 5, '$50 to $100 million (USD)': 6, '$100 to $500 million (USD)': 7,\n",
    "            '$500 million to $1 billion (USD)': 8, '$1 to $2 billion (USD)': 9, '$2 to $5 billion (USD)':10, '$5 to $10 billion (USD)':11, '$10+ billion (USD)':12}\n",
    "\n",
    "df_model['company_revenue_rank'] = df_model['revenue'].map(revenue_map)\n",
    "df_model.drop('revenue', axis=True, inplace=True)"
   ]
  },
  {
   "cell_type": "code",
   "execution_count": 94,
   "metadata": {
    "colab": {},
    "colab_type": "code",
    "id": "bm0DfReAHx0X"
   },
   "outputs": [],
   "source": [
    "# Mapping ranks to 'job_seniority\t' columns since it is ordinal categorical feature\n",
    "job_seniority_map = {'na': 0, 'jr': 1, 'senior': 2}\n",
    "\n",
    "df_model['job_seniority_rank'] = df_model['job_seniority'].map(job_seniority_map)\n",
    "df_model.drop('job_seniority', axis=True, inplace=True)"
   ]
  },
  {
   "cell_type": "markdown",
   "metadata": {
    "colab_type": "text",
    "id": "k1ChV609JcTw"
   },
   "source": [
    "## *Handling Nominal Categorical Features* "
   ]
  },
  {
   "cell_type": "code",
   "execution_count": 95,
   "metadata": {
    "colab": {
     "base_uri": "https://localhost:8080/",
     "height": 34
    },
    "colab_type": "code",
    "id": "D-xrr1-VR3Hc",
    "outputId": "58c1dab0-caa3-4eed-e942-c357f8dd0e20"
   },
   "outputs": [
    {
     "data": {
      "text/plain": [
       "(742, 24)"
      ]
     },
     "execution_count": 95,
     "metadata": {},
     "output_type": "execute_result"
    }
   ],
   "source": [
    "# Removing 'type_of_ownership' column using get_dummies()\n",
    "df_model = pd.get_dummies(columns=['type_of_ownership'], data=df_model)\n",
    "df_model.shape"
   ]
  },
  {
   "cell_type": "code",
   "execution_count": 96,
   "metadata": {
    "colab": {
     "base_uri": "https://localhost:8080/",
     "height": 34
    },
    "colab_type": "code",
    "id": "2e5lQ22LDrHe",
    "outputId": "8dd205aa-d4fb-46ac-d61b-fd325639369e"
   },
   "outputs": [
    {
     "data": {
      "text/plain": [
       "(742, 35)"
      ]
     },
     "execution_count": 96,
     "metadata": {},
     "output_type": "execute_result"
    }
   ],
   "source": [
    "# Removing 'industry' column using get_dummies()\n",
    "df_model = pd.get_dummies(columns=['industry'], data=df_model)\n",
    "df_model.shape"
   ]
  },
  {
   "cell_type": "code",
   "execution_count": 97,
   "metadata": {
    "colab": {
     "base_uri": "https://localhost:8080/",
     "height": 34
    },
    "colab_type": "code",
    "id": "hjw7yrtcEmap",
    "outputId": "377b65bc-83d4-437f-fc77-4e17dbe7be11"
   },
   "outputs": [
    {
     "data": {
      "text/plain": [
       "(742, 41)"
      ]
     },
     "execution_count": 97,
     "metadata": {},
     "output_type": "execute_result"
    }
   ],
   "source": [
    "# Removing 'job_title_simplified' column using get_dummies()\n",
    "df_model = pd.get_dummies(columns=['job_title_simplified'], data=df_model)\n",
    "df_model.shape"
   ]
  },
  {
   "cell_type": "code",
   "execution_count": 98,
   "metadata": {
    "colab": {
     "base_uri": "https://localhost:8080/",
     "height": 34
    },
    "colab_type": "code",
    "id": "P27ro0ZSEwMG",
    "outputId": "cbbca936-e229-4ced-c862-d48cbe361320"
   },
   "outputs": [
    {
     "data": {
      "text/plain": [
       "(742, 51)"
      ]
     },
     "execution_count": 98,
     "metadata": {},
     "output_type": "execute_result"
    }
   ],
   "source": [
    "# Removing 'job_state' column using get_dummies()\n",
    "df_model = pd.get_dummies(columns=['job_state'], data=df_model)\n",
    "df_model.shape"
   ]
  },
  {
   "cell_type": "markdown",
   "metadata": {
    "colab_type": "text",
    "id": "BeEJKi5JJvlf"
   },
   "source": [
    "## *Featuring Scaling* "
   ]
  },
  {
   "cell_type": "code",
   "execution_count": 99,
   "metadata": {
    "colab": {
     "base_uri": "https://localhost:8080/",
     "height": 251
    },
    "colab_type": "code",
    "id": "HKvfjrZLk5R5",
    "outputId": "070e0eea-d70d-42e0-c0ac-35bfc0de22da"
   },
   "outputs": [
    {
     "data": {
      "text/html": [
       "<div>\n",
       "<style scoped>\n",
       "    .dataframe tbody tr th:only-of-type {\n",
       "        vertical-align: middle;\n",
       "    }\n",
       "\n",
       "    .dataframe tbody tr th {\n",
       "        vertical-align: top;\n",
       "    }\n",
       "\n",
       "    .dataframe thead th {\n",
       "        text-align: right;\n",
       "    }\n",
       "</style>\n",
       "<table border=\"1\" class=\"dataframe\">\n",
       "  <thead>\n",
       "    <tr style=\"text-align: right;\">\n",
       "      <th></th>\n",
       "      <th>average_salary</th>\n",
       "      <th>company_rating</th>\n",
       "      <th>company_age</th>\n",
       "      <th>competitors</th>\n",
       "      <th>job_in_headquarters</th>\n",
       "      <th>python_job</th>\n",
       "      <th>spark_job</th>\n",
       "      <th>aws_job</th>\n",
       "      <th>excel_job</th>\n",
       "      <th>company_size_rank</th>\n",
       "      <th>...</th>\n",
       "      <th>job_state_IL</th>\n",
       "      <th>job_state_MA</th>\n",
       "      <th>job_state_MD</th>\n",
       "      <th>job_state_NC</th>\n",
       "      <th>job_state_NY</th>\n",
       "      <th>job_state_Others</th>\n",
       "      <th>job_state_PA</th>\n",
       "      <th>job_state_TX</th>\n",
       "      <th>job_state_VA</th>\n",
       "      <th>job_state_WA</th>\n",
       "    </tr>\n",
       "  </thead>\n",
       "  <tbody>\n",
       "    <tr>\n",
       "      <td>0</td>\n",
       "      <td>72.0</td>\n",
       "      <td>3.8</td>\n",
       "      <td>47</td>\n",
       "      <td>0</td>\n",
       "      <td>0</td>\n",
       "      <td>1</td>\n",
       "      <td>0</td>\n",
       "      <td>0</td>\n",
       "      <td>1</td>\n",
       "      <td>4</td>\n",
       "      <td>...</td>\n",
       "      <td>0</td>\n",
       "      <td>0</td>\n",
       "      <td>0</td>\n",
       "      <td>0</td>\n",
       "      <td>0</td>\n",
       "      <td>1</td>\n",
       "      <td>0</td>\n",
       "      <td>0</td>\n",
       "      <td>0</td>\n",
       "      <td>0</td>\n",
       "    </tr>\n",
       "    <tr>\n",
       "      <td>1</td>\n",
       "      <td>87.5</td>\n",
       "      <td>3.4</td>\n",
       "      <td>36</td>\n",
       "      <td>0</td>\n",
       "      <td>0</td>\n",
       "      <td>1</td>\n",
       "      <td>0</td>\n",
       "      <td>0</td>\n",
       "      <td>0</td>\n",
       "      <td>7</td>\n",
       "      <td>...</td>\n",
       "      <td>0</td>\n",
       "      <td>0</td>\n",
       "      <td>1</td>\n",
       "      <td>0</td>\n",
       "      <td>0</td>\n",
       "      <td>0</td>\n",
       "      <td>0</td>\n",
       "      <td>0</td>\n",
       "      <td>0</td>\n",
       "      <td>0</td>\n",
       "    </tr>\n",
       "    <tr>\n",
       "      <td>2</td>\n",
       "      <td>85.0</td>\n",
       "      <td>4.8</td>\n",
       "      <td>10</td>\n",
       "      <td>0</td>\n",
       "      <td>1</td>\n",
       "      <td>1</td>\n",
       "      <td>1</td>\n",
       "      <td>0</td>\n",
       "      <td>1</td>\n",
       "      <td>4</td>\n",
       "      <td>...</td>\n",
       "      <td>0</td>\n",
       "      <td>0</td>\n",
       "      <td>0</td>\n",
       "      <td>0</td>\n",
       "      <td>0</td>\n",
       "      <td>1</td>\n",
       "      <td>0</td>\n",
       "      <td>0</td>\n",
       "      <td>0</td>\n",
       "      <td>0</td>\n",
       "    </tr>\n",
       "    <tr>\n",
       "      <td>3</td>\n",
       "      <td>76.5</td>\n",
       "      <td>3.8</td>\n",
       "      <td>55</td>\n",
       "      <td>3</td>\n",
       "      <td>1</td>\n",
       "      <td>1</td>\n",
       "      <td>0</td>\n",
       "      <td>0</td>\n",
       "      <td>0</td>\n",
       "      <td>5</td>\n",
       "      <td>...</td>\n",
       "      <td>0</td>\n",
       "      <td>0</td>\n",
       "      <td>0</td>\n",
       "      <td>0</td>\n",
       "      <td>0</td>\n",
       "      <td>0</td>\n",
       "      <td>0</td>\n",
       "      <td>0</td>\n",
       "      <td>0</td>\n",
       "      <td>1</td>\n",
       "    </tr>\n",
       "    <tr>\n",
       "      <td>4</td>\n",
       "      <td>114.5</td>\n",
       "      <td>2.9</td>\n",
       "      <td>22</td>\n",
       "      <td>3</td>\n",
       "      <td>1</td>\n",
       "      <td>1</td>\n",
       "      <td>0</td>\n",
       "      <td>0</td>\n",
       "      <td>1</td>\n",
       "      <td>2</td>\n",
       "      <td>...</td>\n",
       "      <td>0</td>\n",
       "      <td>0</td>\n",
       "      <td>0</td>\n",
       "      <td>0</td>\n",
       "      <td>1</td>\n",
       "      <td>0</td>\n",
       "      <td>0</td>\n",
       "      <td>0</td>\n",
       "      <td>0</td>\n",
       "      <td>0</td>\n",
       "    </tr>\n",
       "  </tbody>\n",
       "</table>\n",
       "<p>5 rows × 51 columns</p>\n",
       "</div>"
      ],
      "text/plain": [
       "   average_salary  company_rating  company_age  competitors  \\\n",
       "0            72.0             3.8           47            0   \n",
       "1            87.5             3.4           36            0   \n",
       "2            85.0             4.8           10            0   \n",
       "3            76.5             3.8           55            3   \n",
       "4           114.5             2.9           22            3   \n",
       "\n",
       "   job_in_headquarters  python_job  spark_job  aws_job  excel_job  \\\n",
       "0                    0           1          0        0          1   \n",
       "1                    0           1          0        0          0   \n",
       "2                    1           1          1        0          1   \n",
       "3                    1           1          0        0          0   \n",
       "4                    1           1          0        0          1   \n",
       "\n",
       "   company_size_rank  ...  job_state_IL  job_state_MA  job_state_MD  \\\n",
       "0                  4  ...             0             0             0   \n",
       "1                  7  ...             0             0             1   \n",
       "2                  4  ...             0             0             0   \n",
       "3                  5  ...             0             0             0   \n",
       "4                  2  ...             0             0             0   \n",
       "\n",
       "   job_state_NC  job_state_NY  job_state_Others  job_state_PA  job_state_TX  \\\n",
       "0             0             0                 1             0             0   \n",
       "1             0             0                 0             0             0   \n",
       "2             0             0                 1             0             0   \n",
       "3             0             0                 0             0             0   \n",
       "4             0             1                 0             0             0   \n",
       "\n",
       "   job_state_VA  job_state_WA  \n",
       "0             0             0  \n",
       "1             0             0  \n",
       "2             0             0  \n",
       "3             0             1  \n",
       "4             0             0  \n",
       "\n",
       "[5 rows x 51 columns]"
      ]
     },
     "execution_count": 99,
     "metadata": {},
     "output_type": "execute_result"
    }
   ],
   "source": [
    "df_model.head()"
   ]
  },
  {
   "cell_type": "code",
   "execution_count": 100,
   "metadata": {
    "colab": {
     "base_uri": "https://localhost:8080/",
     "height": 34
    },
    "colab_type": "code",
    "id": "a3y0VbR7IftO",
    "outputId": "9337776b-0703-475e-8fd2-bf0921dffa13"
   },
   "outputs": [
    {
     "data": {
      "text/plain": [
       "(742, 51)"
      ]
     },
     "execution_count": 100,
     "metadata": {},
     "output_type": "execute_result"
    }
   ],
   "source": [
    "# Dataset after Feature Engineering\n",
    "df_model.shape"
   ]
  },
  {
   "cell_type": "code",
   "execution_count": 112,
   "metadata": {
    "colab": {},
    "colab_type": "code",
    "id": "urOawWjUvDQg"
   },
   "outputs": [],
   "source": [
    "X = df_model.drop('average_salary', axis=1)\n",
    "y = df_model['average_salary']"
   ]
  },
  {
   "cell_type": "code",
   "execution_count": 113,
   "metadata": {
    "colab": {},
    "colab_type": "code",
    "id": "d1mDTjVLJ282"
   },
   "outputs": [],
   "source": [
    "from sklearn.preprocessing import MinMaxScaler\n",
    "scaler = MinMaxScaler()\n",
    "columns_to_scale = ['company_rating', 'competitors', 'company_age', 'company_size_rank', 'company_revenue_rank']\n",
    "X[columns_to_scale] = scaler.fit_transform(X[columns_to_scale])"
   ]
  },
  {
   "cell_type": "code",
   "execution_count": 114,
   "metadata": {
    "colab": {
     "base_uri": "https://localhost:8080/",
     "height": 34
    },
    "colab_type": "code",
    "id": "jU7PEKAVLvum",
    "outputId": "a0f442eb-bea6-4761-d625-ce7489a08805"
   },
   "outputs": [
    {
     "name": "stdout",
     "output_type": "stream",
     "text": [
      "Training set size: (593, 50) and Testing set size: (149, 50)\n"
     ]
    }
   ],
   "source": [
    "# Splitting the dataset into train and test set\n",
    "from sklearn.model_selection import train_test_split\n",
    "X_train, X_test, y_train, y_test = train_test_split(X, y, test_size=0.20, random_state=42)\n",
    "print(\"Training set size: {} and Testing set size: {}\".format(X_train.shape, X_test.shape))"
   ]
  },
  {
   "cell_type": "markdown",
   "metadata": {
    "colab_type": "text",
    "id": "3iOKTQ-VTMOw"
   },
   "source": [
    "# **Model Building**"
   ]
  },
  {
   "cell_type": "markdown",
   "metadata": {
    "colab_type": "text",
    "id": "BGU-u89xod6h"
   },
   "source": [
    "### *Linear Regression*"
   ]
  },
  {
   "cell_type": "code",
   "execution_count": 115,
   "metadata": {
    "colab": {},
    "colab_type": "code",
    "id": "8WeF7z9Qp4hS"
   },
   "outputs": [],
   "source": [
    "# Creating linear regression model\n",
    "from sklearn.linear_model import LinearRegression\n",
    "lr_model = LinearRegression()"
   ]
  },
  {
   "cell_type": "code",
   "execution_count": 116,
   "metadata": {
    "colab": {
     "base_uri": "https://localhost:8080/",
     "height": 34
    },
    "colab_type": "code",
    "id": "07uVjWoBqZaJ",
    "outputId": "248953cb-e20b-4f02-8ef6-90d533b5f559"
   },
   "outputs": [
    {
     "name": "stdout",
     "output_type": "stream",
     "text": [
      "Accuracy of the Linear Regression Model on Training set is : 57.879999999999995% and on Test set is 60.67%\n"
     ]
    }
   ],
   "source": [
    "# Fitting the dataset to the model\n",
    "lr_model.fit(X_train, y_train)\n",
    "print(\"Accuracy of the Linear Regression Model on Training set is : {}% and on Test set is {}%\".format(round(lr_model.score(X_train, y_train),4)*100, round(lr_model.score(X_test, y_test),4)*100))"
   ]
  },
  {
   "cell_type": "markdown",
   "metadata": {
    "colab_type": "text",
    "id": "NF-yLQiRodf5"
   },
   "source": [
    "### *Decision Tree Regression*"
   ]
  },
  {
   "cell_type": "code",
   "execution_count": 117,
   "metadata": {
    "colab": {},
    "colab_type": "code",
    "id": "SwpCtb8_suEi"
   },
   "outputs": [],
   "source": [
    "# Creating decision tree regression model\n",
    "from sklearn.tree import DecisionTreeRegressor\n",
    "decision_model = DecisionTreeRegressor(criterion='mse', max_depth=11, random_state=42)"
   ]
  },
  {
   "cell_type": "code",
   "execution_count": 118,
   "metadata": {
    "colab": {
     "base_uri": "https://localhost:8080/",
     "height": 34
    },
    "colab_type": "code",
    "id": "2h2ichi9tAQw",
    "outputId": "32b35e27-8af6-4509-e7f2-1e5c218e108c"
   },
   "outputs": [
    {
     "name": "stdout",
     "output_type": "stream",
     "text": [
      "Accuracy of the Decision Tree Regression Model on Training set is : 93.17% and on Test set is 75.57000000000001%\n"
     ]
    }
   ],
   "source": [
    "# Fitting the dataset to the model\n",
    "decision_model.fit(X_train, y_train)\n",
    "print(\"Accuracy of the Decision Tree Regression Model on Training set is : {}% and on Test set is {}%\".format(round(decision_model.score(X_train, y_train),4)*100, round(decision_model.score(X_test, y_test),4)*100))"
   ]
  },
  {
   "cell_type": "markdown",
   "metadata": {
    "colab_type": "text",
    "id": "FlKxYDGWodRB"
   },
   "source": [
    "### *Random Forest Regression*"
   ]
  },
  {
   "cell_type": "code",
   "execution_count": 119,
   "metadata": {
    "colab": {},
    "colab_type": "code",
    "id": "cEAHNY0ttjqZ"
   },
   "outputs": [],
   "source": [
    "# Creating random forest regression model\n",
    "from sklearn.ensemble import RandomForestRegressor\n",
    "forest_model = RandomForestRegressor(n_estimators=100, criterion='mse', random_state=42)"
   ]
  },
  {
   "cell_type": "code",
   "execution_count": 120,
   "metadata": {
    "colab": {
     "base_uri": "https://localhost:8080/",
     "height": 34
    },
    "colab_type": "code",
    "id": "r8Z42qBbt_rY",
    "outputId": "46dd6d03-d667-4250-86cb-40aff8d2a35b"
   },
   "outputs": [
    {
     "name": "stdout",
     "output_type": "stream",
     "text": [
      "Accuracy of the Random Forest Regression Model on Training set is : 95.25% and on Test set is 76.59%\n"
     ]
    }
   ],
   "source": [
    "# Fitting the dataset to the model\n",
    "forest_model.fit(X_train, y_train)\n",
    "print(\"Accuracy of the Random Forest Regression Model on Training set is : {}% and on Test set is {}%\".format(round(forest_model.score(X_train, y_train),4)*100, round(forest_model.score(X_test, y_test),4)*100))"
   ]
  },
  {
   "cell_type": "markdown",
   "metadata": {
    "colab_type": "text",
    "id": "hCd7DdAJn308"
   },
   "source": [
    "### *AdaBoost Regression Model*"
   ]
  },
  {
   "cell_type": "code",
   "execution_count": 121,
   "metadata": {
    "colab": {},
    "colab_type": "code",
    "id": "7oHPN4Itn86B"
   },
   "outputs": [],
   "source": [
    "# Creating AdaBoost regression model\n",
    "from sklearn.ensemble import AdaBoostRegressor\n",
    "adb_model = AdaBoostRegressor(base_estimator=decision_model, n_estimators=250, learning_rate=1, random_state=42)"
   ]
  },
  {
   "cell_type": "code",
   "execution_count": 122,
   "metadata": {
    "colab": {
     "base_uri": "https://localhost:8080/",
     "height": 34
    },
    "colab_type": "code",
    "id": "CQ6LntPno1YV",
    "outputId": "7f8324e1-9a62-4944-ca59-49181a81a044"
   },
   "outputs": [
    {
     "name": "stdout",
     "output_type": "stream",
     "text": [
      "Accuracy of the AdaBoost Regression Model on Training set is : 96.58% and on Test set is 78.62%\n"
     ]
    }
   ],
   "source": [
    "# Fitting the dataset to the model\n",
    "adb_model.fit(X_train, y_train)\n",
    "print(\"Accuracy of the AdaBoost Regression Model on Training set is : {}% and on Test set is {}%\".format(round(adb_model.score(X_train, y_train),4)*100, round(adb_model.score(X_test, y_test),4)*100))"
   ]
  },
  {
   "cell_type": "code",
   "execution_count": null,
   "metadata": {},
   "outputs": [],
   "source": []
  }
 ],
 "metadata": {
  "colab": {
   "collapsed_sections": [],
   "name": "Data Scientist's Salary Prediction.ipynb",
   "provenance": [],
   "toc_visible": true
  },
  "kernelspec": {
   "display_name": "Python 3",
   "language": "python",
   "name": "python3"
  },
  "language_info": {
   "codemirror_mode": {
    "name": "ipython",
    "version": 3
   },
   "file_extension": ".py",
   "mimetype": "text/x-python",
   "name": "python",
   "nbconvert_exporter": "python",
   "pygments_lexer": "ipython3",
   "version": "3.7.4"
  }
 },
 "nbformat": 4,
 "nbformat_minor": 1
}
