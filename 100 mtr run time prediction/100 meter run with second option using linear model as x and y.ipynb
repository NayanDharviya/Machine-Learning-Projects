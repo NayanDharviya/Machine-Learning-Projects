{
 "cells": [
  {
   "cell_type": "code",
   "execution_count": 23,
   "metadata": {},
   "outputs": [
    {
     "data": {
      "text/plain": [
       "array([9.71687492])"
      ]
     },
     "execution_count": 23,
     "metadata": {},
     "output_type": "execute_result"
    },
    {
     "data": {
      "image/png": "[encoded data removed]",
      "text/plain": [
       "<Figure size 432x288 with 1 Axes>"
      ]
     },
     "metadata": {
      "needs_background": "light"
     },
     "output_type": "display_data"
    }
   ],
   "source": [
    "import pandas as pd\n",
    "import numpy as np\n",
    "import seaborn as sns\n",
    "import matplotlib.pyplot as plt\n",
    "\n",
    "from sklearn.model_selection import train_test_split\n",
    "from sklearn.linear_model import LinearRegression\n",
    "\n",
    "from sklearn.metrics import mean_squared_error\n",
    "from sklearn.metrics import r2_score\n",
    "\n",
    "data=pd.read_excel('Data Sets/DatasetsPUNE/100mrun.xlsx')\n",
    "\n",
    "# Format data into correct shape\n",
    "x = data['Year']\n",
    "# print(x)\n",
    "x_train = np.array(x).reshape((-1, 1))\n",
    "# print(x_train.shape)\n",
    "x_train.shape\n",
    "# print(x_train.shape)\n",
    "y_train = np.array(data['Time(sec)'])\n",
    "# print(y_train)\n",
    "y_train.shape\n",
    "\n",
    "# # Let's create the model object using LinearRegression\n",
    "model = LinearRegression()\n",
    "\n",
    "# # Fit our model to our input data x and y\n",
    "model.fit(x_train, y_train)\n",
    "\n",
    "y_pred = model.predict(x_train)\n",
    "plt.scatter(x_train, y_train)\n",
    "plt.plot(x, y_pred,color='r')\n",
    "# plt.plot(x, x_pred,color='r')\n",
    "\n",
    "# # Predict for 2004 Olympics\n",
    "x_2004 = np.array([2004]).reshape(-1, 1)\n",
    "x_2004.shape\n",
    "\n",
    "\n",
    "model.predict(x_2004)"
   ]
  },
  {
   "cell_type": "code",
   "execution_count": null,
   "metadata": {},
   "outputs": [],
   "source": []
  }
 ],
 "metadata": {
  "kernelspec": {
   "display_name": "Python 3",
   "language": "python",
   "name": "python3"
  },
  "language_info": {
   "codemirror_mode": {
    "name": "ipython",
    "version": 3
   },
   "file_extension": ".py",
   "mimetype": "text/x-python",
   "name": "python",
   "nbconvert_exporter": "python",
   "pygments_lexer": "ipython3",
   "version": "3.7.4"
  }
 },
 "nbformat": 4,
 "nbformat_minor": 2
}
